{
  "cells": [
    {
      "cell_type": "markdown",
      "metadata": {
        "id": "view-in-github",
        "colab_type": "text"
      },
      "source": [
        "<a href=\"https://colab.research.google.com/github/rashmi05pathak/CS6910_Assignment1/blob/main/EE20S051_CS21M050.ipynb\" target=\"_parent\"><img src=\"https://colab.research.google.com/assets/colab-badge.svg\" alt=\"Open In Colab\"/></a>"
      ]
    },
    {
      "cell_type": "code",
      "execution_count": null,
      "metadata": {
        "id": "xVL_ojcrRDm6",
        "colab": {
          "base_uri": "https://localhost:8080/"
        },
        "outputId": "634f14d4-da3c-4b9e-feed-9d07151f9f11"
      },
      "outputs": [
        {
          "output_type": "stream",
          "name": "stdout",
          "text": [
            "Mounted at /content/drive\n"
          ]
        }
      ],
      "source": [
        "#****PLease mount the drive according to your PRML folder location\n",
        "from google.colab import drive\n",
        "drive.mount('/content/drive')"
      ]
    },
    {
      "cell_type": "code",
      "execution_count": null,
      "metadata": {
        "id": "vTSit1RFIXgg"
      },
      "outputs": [],
      "source": [
        "from matplotlib import pyplot\n",
        "from keras.datasets import fashion_mnist\n",
        "import numpy as np"
      ]
    },
    {
      "cell_type": "code",
      "execution_count": null,
      "metadata": {
        "id": "UlJQpCpvZfCk",
        "colab": {
          "base_uri": "https://localhost:8080/"
        },
        "outputId": "4d038275-4d88-46a4-95ae-795e34182787"
      },
      "outputs": [
        {
          "output_type": "stream",
          "name": "stdout",
          "text": [
            "Downloading data from https://storage.googleapis.com/tensorflow/tf-keras-datasets/train-labels-idx1-ubyte.gz\n",
            "32768/29515 [=================================] - 0s 0us/step\n",
            "40960/29515 [=========================================] - 0s 0us/step\n",
            "Downloading data from https://storage.googleapis.com/tensorflow/tf-keras-datasets/train-images-idx3-ubyte.gz\n",
            "26427392/26421880 [==============================] - 0s 0us/step\n",
            "26435584/26421880 [==============================] - 0s 0us/step\n",
            "Downloading data from https://storage.googleapis.com/tensorflow/tf-keras-datasets/t10k-labels-idx1-ubyte.gz\n",
            "16384/5148 [===============================================================================================] - 0s 0us/step\n",
            "Downloading data from https://storage.googleapis.com/tensorflow/tf-keras-datasets/t10k-images-idx3-ubyte.gz\n",
            "4423680/4422102 [==============================] - 0s 0us/step\n",
            "4431872/4422102 [==============================] - 0s 0us/step\n"
          ]
        }
      ],
      "source": [
        "# load dataset\n",
        "(trainX, trainy), (testX, testy) = fashion_mnist.load_data()"
      ]
    },
    {
      "cell_type": "code",
      "execution_count": null,
      "metadata": {
        "colab": {
          "base_uri": "https://localhost:8080/"
        },
        "id": "ZlF1QxYXZzn4",
        "outputId": "563ec71f-0ad6-4301-cd2f-eb5261a8d3b5"
      },
      "outputs": [
        {
          "output_type": "stream",
          "name": "stdout",
          "text": [
            "Train: X=(60000, 28, 28), y=(60000,)\n",
            "Test: X=(10000, 28, 28), y=(10000,)\n"
          ]
        }
      ],
      "source": [
        "# summarize loaded dataset\n",
        "print('Train: X=%s, y=%s' % (trainX.shape, trainy.shape))\n",
        "print('Test: X=%s, y=%s' % (testX.shape, testy.shape))"
      ]
    },
    {
      "cell_type": "code",
      "execution_count": null,
      "metadata": {
        "id": "chQsm5d8Z4Nl"
      },
      "outputs": [],
      "source": [
        "#Searching classes 0 to 9 from trainy\n",
        "list_of_index = {}\n",
        "for i in range(60000):\n",
        "    if(list_of_index.get(trainy[i]) != True):\n",
        "      list_of_index[trainy[i]] = i #class item train[i] found at index i  \n",
        " #CLass 0 to 9 is stored in the list_of_index dictionary "
      ]
    },
    {
      "cell_type": "code",
      "execution_count": null,
      "metadata": {
        "colab": {
          "base_uri": "https://localhost:8080/"
        },
        "id": "LmEuLRK0iGOM",
        "outputId": "0dfd0cd3-abb0-4a27-caf7-f7777c5c89ba"
      },
      "outputs": [
        {
          "output_type": "execute_result",
          "data": {
            "text/plain": [
              "{0: 1,\n",
              " 1: 59996,\n",
              " 2: 59993,\n",
              " 3: 59997,\n",
              " 4: 59990,\n",
              " 5: 59999,\n",
              " 6: 59988,\n",
              " 7: 59992,\n",
              " 8: 59994,\n",
              " 9: 59978}"
            ]
          },
          "metadata": {},
          "execution_count": 6
        }
      ],
      "source": [
        "list_of_index"
      ]
    },
    {
      "cell_type": "code",
      "execution_count": null,
      "metadata": {
        "colab": {
          "base_uri": "https://localhost:8080/",
          "height": 351
        },
        "id": "5A0XLAVbbxVn",
        "outputId": "1190ff91-0062-410e-c099-3c96e12c0282"
      },
      "outputs": [
        {
          "output_type": "display_data",
          "data": {
            "image/png": "[encoded data removed]",
            "text/plain": [
              "<Figure size 720x504 with 10 Axes>"
            ]
          },
          "metadata": {
            "needs_background": "light"
          }
        }
      ],
      "source": [
        "#Q1. Plotting fashion Mnist Dataset\n",
        "# create figure\n",
        "fig = pyplot.figure(figsize=(10, 7))\n",
        "# setting values to rows and column variables\n",
        "rows = 2\n",
        "columns = 5\n",
        "for i in range(10):\n",
        "\t# Adds a subplot at the 2nd position\n",
        "    fig.add_subplot(rows, columns, i+1)\n",
        "    j = list_of_index.get(i)\n",
        "    # showing image\n",
        "    pyplot.imshow(trainX[j])\n",
        "    pyplot.axis('off')\n",
        "    pyplot.title(\"class\"+ str(i))\n",
        "# show the figure\n",
        "pyplot.show()"
      ]
    },
    {
      "cell_type": "code",
      "execution_count": null,
      "metadata": {
        "id": "baFyt6n1k1fI"
      },
      "outputs": [],
      "source": [
        "# reshape dataset to have a single channel\n",
        "trainX = trainX.reshape((trainX.shape[0], 784, 1))\n",
        "testX = testX.reshape((testX.shape[0], 784, 1))"
      ]
    },
    {
      "cell_type": "code",
      "execution_count": null,
      "metadata": {
        "colab": {
          "base_uri": "https://localhost:8080/"
        },
        "id": "N8ht0HobrTkj",
        "outputId": "5e21179a-33df-4c6f-ecb9-b98a72aa6e4b"
      },
      "outputs": [
        {
          "output_type": "execute_result",
          "data": {
            "text/plain": [
              "(784, 1)"
            ]
          },
          "metadata": {},
          "execution_count": 8
        }
      ],
      "source": [
        "trainX[0].shape"
      ]
    },
    {
      "cell_type": "code",
      "execution_count": null,
      "metadata": {
        "id": "Q5RiEJEyNQ7c"
      },
      "outputs": [],
      "source": [
        "import pandas as pd\n",
        "import numpy as np\n",
        "import matplotlib.pyplot as plt\n",
        "import math"
      ]
    },
    {
      "cell_type": "code",
      "execution_count": null,
      "metadata": {
        "id": "lmoOkRqANQ7q"
      },
      "outputs": [],
      "source": [
        "def sigmoid(x):\n",
        "    s = 1/(1+np.exp(-x))\n",
        "    return s\n",
        "\n",
        "def tanh(x):\n",
        "    return np.tanh(x)\n",
        "\n",
        "def relu(x):\n",
        "    return np.max(0.0,x)\n",
        "\n",
        "def softmax(arr):\n",
        "    length = len(arr)\n",
        "    s  = np.zeros(length)\n",
        "    sum = 0\n",
        "    for i in range(length):\n",
        "        sum = sum + np.exp(arr[i])      #Correction-double addition step\n",
        "    for i in range(length):\n",
        "        s[i] = np.exp(arr[i])/sum\n",
        "    return s\n",
        "    \n",
        "def layer_size(trainX,trainY):\n",
        "    n_x = trainX[0].shape[0]\n",
        "    n_y = len(np.unique(ytrain))\n",
        "    return n_x,n_y\n",
        "\n",
        "#implement mean squared error as output is real number\n",
        "def mean_squared_error(y_true,y_pred):\n",
        "    length = y_pred.shape[0]\n",
        "    sum_error = 0\n",
        "    for i in range(length):\n",
        "        sum_error = sum_error + ((y_pred[i] - y_true[i])**2)\n",
        "    return sum_error/length\n",
        "\n",
        "def cross_entropy(p,q):\n",
        "    length = q.shape[0]\n",
        "    sum_error = 0\n",
        "    for i in range(length):     #Can be optimized.\n",
        "        sum_error = sum_error - (p * np.log(q))\n",
        "    return sum_error"
      ]
    },
    {
      "cell_type": "code",
      "source": [
        "def der_sigmoid(x):\n",
        "    return sigmoid(x)*(1-sigmoid(x))\n",
        "\n",
        "def der_tanh(x):\n",
        "    return 1-np.tanh(x)**2\n",
        "\n",
        "def der_relu(x):\n",
        "    return (x>0)*1"
      ],
      "metadata": {
        "id": "DG45VUJ72xUB"
      },
      "execution_count": null,
      "outputs": []
    },
    {
      "cell_type": "code",
      "execution_count": null,
      "metadata": {
        "id": "YUnoe7vVNQ7q"
      },
      "outputs": [],
      "source": [
        "#Initialize the model’s parameters\n",
        "def initialize_parameters(n_x, n_h, n_y):\n",
        "    np.random.seed(2) # we set up a seed so that output matches\n",
        "    length = len(n_h)\n",
        "    W = []\n",
        "    b = []\n",
        "    #Weight and bias  784 * 4 * 5 * 10\n",
        "    W.append(np.random.randn(n_h[0],n_x) * 0.01)\n",
        "    b.append(np.zeros((n_h[0],1)))\n",
        "    for i in range(0,length-1):\n",
        "        W.append(np.random.randn(n_h[i+1],n_h[i]) * 0.01)\n",
        "        b.append(np.zeros((n_h[i+1],1)))\n",
        "    W.append(np.random.randn(n_y,n_h[length-1])* 0.01)\n",
        "    b.append(np.zeros((n_y,1))) \n",
        "    parameters_w = {i: W[i] for i in range(len(W))}\n",
        "    parameters_b = {i: b[i] for i in range(len(b))}\n",
        "    print(len(parameters_w))\n",
        "    print(parameters_b)\n",
        "    return parameters_w,parameters_b"
      ]
    },
    {
      "cell_type": "code",
      "execution_count": null,
      "metadata": {
        "id": "HDcMGtvENQ7r"
      },
      "outputs": [],
      "source": [
        "def forward_propagation(X, parameters_w,parameters_b,activation_fun): \n",
        "    # Retrieve each parameter from the dictionary \"parameters\" \n",
        "    # Implement Forward Propagation to calculate A2\n",
        "    length = len(parameters_w)\n",
        "    A = []\n",
        "    H = []\n",
        "    A.append(np.dot(parameters_w[0],X)+parameters_b[0])\n",
        "    if activation_fun == \"sigmoid\":\n",
        "       H.append(sigmoid(A[0]))\n",
        "    elif activation_fun == \"relu\":\n",
        "       H.append(relu(A[0]))\n",
        "    elif activation_fun == \"tanh\":\n",
        "       H.append(tanh(A[0]))\n",
        "    for i in range(1,length-1):\n",
        "       A.append(np.dot(parameters_w[i],H[i-1])+parameters_b[i])\n",
        "       H.append(sigmoid(A[i]))\n",
        "    A.append(np.dot(parameters_w[length-1],H[length-2])+parameters_b[length-1])\n",
        "    H.append(softmax(A[length-1]))\n",
        "    cache = [A,H]\n",
        "    return H[length-1],cache"
      ]
    },
    {
      "cell_type": "code",
      "execution_count": null,
      "metadata": {
        "id": "_RukkvmsNQ7t"
      },
      "outputs": [],
      "source": [
        "#****Neural Network method***********#\n",
        "def nn_model(X, Y, n_h, epoch,learning_rate,opt_fun,activation_fun): \n",
        "    np.random.seed(3)\n",
        "    n_x,n_y = layer_size(X,Y)\n",
        "    parameters_w,parameters_b = initialize_parameters(n_x, n_h, n_y) \n",
        "    #print(parameters_w)\n",
        "    # Loop (gradient descent)\n",
        "    for i in range(0, epoch):\n",
        "        for x,y in zip(X,Y):\n",
        "            A2, cache = forward_propagation(x, parameters_w,parameters_b,activation_fun)\n",
        "            # grads_w,grads_b = backward_propagation(parameters_w, cache, x, y,activation_fun) #parameters NOT defined.\n",
        "            # Gradient descent parameter update.\n",
        "            for i in range(len(parameters_w)):\n",
        "                 parameters_w[i] = parameters_w[i] - learning_rate*grad_w[i]\n",
        "                 parameters_b[i] = parameters_b[i] - learning_rate*grad_b[i]\n",
        "    return A2, cache\n",
        "\n",
        "\n",
        "def momentum_gd(X, Y, n_h, epoch,learning_rate,opt_fun): \n",
        "    np.random.seed(3)\n",
        "    gamma = 0.9\n",
        "    n_x,n_y = layer_size(X,Y)\n",
        "    parameters_w,parameters_b = initialize_parameters(n_x, n_h, n_y) \n",
        "    prev_w = [np.zeros(parameters_w[i].shape) for i in range(len(parameters_w))]\n",
        "    prev_b = [np.zeros(parameters_b[i].shape) for i in range(len(parameters_b))]\n",
        "    for i in range(0, epoch):\n",
        "        for x,y in zip(X,Y):\n",
        "            pred_y, cache = forward_propagation(x, parameters_w,parameters_b)\n",
        "            grad_w,grad_b = backward_propagation(parameters, cache, x, y) #parameters NOT defined.\n",
        "\n",
        "            # Momentum based Gradient descent parameter update.\n",
        "            #parameters = update_parameters(parameters, grads,learning_rate)\n",
        "            for i in range(len(parameters_w)):\n",
        "                prev_w[i] = np.zeros(grad_w.shape)\n",
        "                prev_b[i] = np.zeros\n",
        "                update_w = gamma*prev_w[i] + learning_rate*grad_w[i]\n",
        "                update_b = gamma*prev_b[i] + learning_rate*grad_b[i]\n",
        "                parameters_w[i] = parameters_w[i] - update_w\n",
        "                parameters_b[i] = parameters_b[i] - update_b\n",
        "                prev_w[i] = update_w\n",
        "                prev_b[i] = update_b  \n",
        "    return pred_y\n",
        "\n",
        "def nestrov_gd(X, Y, n_h, epoch,learning_rate,opt_fun): \n",
        "    np.random.seed(3)\n",
        "    gamma,prev_w,prev_b = 0.9,[],[]\n",
        "    n_x,n_y = layer_size(X,Y)\n",
        "    parameters_w,parameters_b = initialize_parameters(n_x, n_h, n_y) \n",
        "    prev_w = [np.zeros(parameters_w[i].shape) for i in range(len(parameters_w))]\n",
        "    prev_b = [np.zeros(parameters_b[i].shape) for i in range(len(parameters_b))]\n",
        "    for i in range(0, epoch):\n",
        "        for x,y in zip(X,Y):\n",
        "            pred_y, cache = forward_propagation(x, parameters_w,parameters_b)\n",
        "            update_w = [parameters_w[i] - gamma*prev_w[i] for i in range(len(parameters_w))]\n",
        "            update_b = [parameters_b[i] - gamma*prev_b[i] for i in range(len(parameters_b))]\n",
        "            grad_w,grad_b = backward_propagation(update_w, cache, x, y) #parameters NOT defined.\n",
        "            # Momentum based Gradient descent parameter update.\n",
        "            #parameters = update_parameters(parameters, grads,learning_rate)\n",
        "            for i in range(len(parameters_w)):\n",
        "                 update_w = gamma*prev_w[i] + learning_rate*grad_w[i]\n",
        "                 update_b = gamma*prev_b[i] + learning_rate*grad_b[i]\n",
        "                 parameters_w[i] = parameters_w[i] - update_w\n",
        "                 parameters_b[i] = parameters_b[i] - update_b\n",
        "                 prev_w[i] = update_w\n",
        "                 prev_b[i] = update_b  \n",
        "    return pred_y\n",
        "\n",
        "def mini_batch_gd(X, Y, n_h, epoch,learning_rate,batch_size = 64): \n",
        "    # batch_size = 64\n",
        "    np.random.seed(3)\n",
        "    n = X.shape[0]\n",
        "    perm = list(np.random.permutation(n))\n",
        "    shuffledX = X[perm,:]\n",
        "    shuffledY = Y.reshape(Y.shape[0],1)[perm,:]\n",
        "    num_batches = math.floor(n/batch_size);\n",
        "    n_x,n_y = layer_size(X,Y)\n",
        "    parameters_w,parameters_b = initialize_parameters(n_x, n_h, n_y) \n",
        "    for i in range(0, epoch):\n",
        "        for batchnum in range(num_batches):\n",
        "            x = shuffledX[batchnum*batch_size:(batchnum+1)*batch_size,:]\n",
        "            y = shuffledY[batchnum*batch_size:(batchnum+1)*batch_size,:]\n",
        "            pred_y, cache = forward_propagation(x, parameters_w,parameters_b)\n",
        "            grad_w,grad_b = backward_propagation(parameters_w, cache, x, y) #parameters NOT defined.\n",
        "\n",
        "            # Gradient descent parameter update.\n",
        "            #parameters = update_parameters(parameters, grads,learning_rate)\n",
        "            for i in range(len(parameters_w)):\n",
        "                 parameters_w[i] = parameters_w[i] - learning_rate*grad_w[i]\n",
        "                 parameters_b[i] = parameters_b[i] - learning_rate*grad_b[i]\n",
        "    return pred_y\n"
      ]
    },
    {
      "cell_type": "code",
      "execution_count": null,
      "metadata": {
        "id": "E4jfb_XdNQ7s"
      },
      "outputs": [],
      "source": [
        "#Notation used meaning is as below\n",
        "#dW = ∂J/∂W\n",
        "#db = ∂J/∂b\n",
        "#A1*(1 - A1) is differentiation of sigmoid function\n",
        "# Implementing backward_propagation\n",
        "def backward_propagation(parameters_w, cache, X, Y): #\n",
        "    y_true = np.zeros((10,1)) #converting true label in the shape of 10 by 1\n",
        "    y_true[Y] = 1\n",
        "    #Cache contains [A,H] i.e. preactivation followed by activation output at each layer\n",
        "    dA = []\n",
        "    dW = [] #grad w.r.t W\n",
        "    db = [] #grad w.r.t b\n",
        "    dh = [] #grad w.r.t h\n",
        "    num_activation = len(cache[1]) #chache is list of listi.e. half of the entries is A followed by half of the entries as H\n",
        "    l_w = len(parameters_w)\n",
        "    A2 = cache[1][length_cache-1] # predicted Output\n",
        "    A2 = np.array(A2)\n",
        "    A2.shape = [10,1] #predicted output shape was coming as (10,) so changing into (10,1)\n",
        "    delta_a_k = A2-Y #output layer\n",
        "    #print(delta_a_k.shape)\n",
        "    #hidden layer\n",
        "    i = num_activation-1\n",
        "    j = 1\n",
        "    while i>0:\n",
        "      #gradient w.r.t parameters w and b\n",
        "         h1 = np.array(cache[1][i]) #2 by 1, 3 by 1 and 10 by 1\n",
        "         #print(h1.shape)\n",
        "         h1.shape = delta_a_k.shape\n",
        "         dW.insert(0,np.dot(delta_a_k,h1.T)) #After 1st loop 10 by 10\n",
        "         db.insert(0,delta_a_k)\n",
        "      #compute gradient w.r.t layer below\n",
        "         dZ1 = np.dot(parameters_w[i].T,delta_a_k)\n",
        "         print(dZ1)\n",
        "         dh.insert(0,dZ1)\n",
        "      #compute gradient w.r.t layer below(preactivation)\n",
        "         g1 = np.array(cache[1][i-1]) #2 by 1, 3 by 1 and 10 by 1\n",
        "         #print(g1.shape)\n",
        "         g1.shape = dZ1.shape\n",
        "         der_sigmoid = np.multiply(g1,1-g1)\n",
        "         #print(i)\n",
        "         delta_a_k = np.multiply(dZ1,der_sigmoid) #sigmoid as activation function at hidden layer, need to generalize it \n",
        "         i = i - 1\n",
        "    #input layer\n",
        "    dW.insert(0,np.dot(dZ1,X.T))\n",
        "    db.insert(0,delta_a_k)\n",
        "    return dW,db"
      ]
    },
    {
      "cell_type": "markdown",
      "metadata": {
        "id": "ulawqQFK9ukM"
      },
      "source": [
        ""
      ]
    },
    {
      "cell_type": "code",
      "execution_count": null,
      "metadata": {
        "id": "9-rSOh2jNQ7s"
      },
      "outputs": [],
      "source": [
        "#**** SGD ************* #\n",
        "def update_parameters(parameters, grads, learning_rate): \n",
        "    W1 = parameters[\"W1\"]\n",
        "    b1 = parameters[\"b1\"]\n",
        "    W2 = parameters[\"W2\"]\n",
        "    b2 = parameters[\"b2\"]\n",
        "    dW1 = grads[\"dW1\"]\n",
        "    db1 = grads[\"db1\"]\n",
        "    dW2 = grads[\"dW2\"] \n",
        "    db2 = grads[\"db2\"]\n",
        "    W1 = W1-learning_rate*dW1\n",
        "    b1 = b1-learning_rate*db1\n",
        "    W2 = W2-learning_rate*dW2\n",
        "    b2 = b2-learning_rate*db2\n",
        "    parameters = {\"W1\": W1,\"b1\": b1,\"W2\": W2,\"b2\": b2}\n",
        "    return parameters"
      ]
    },
    {
      "cell_type": "code",
      "execution_count": null,
      "metadata": {
        "id": "73HoD9jqoaht",
        "colab": {
          "base_uri": "https://localhost:8080/"
        },
        "outputId": "67984345-a5ef-4190-c47d-a896916c5709"
      },
      "outputs": [
        {
          "output_type": "stream",
          "name": "stdout",
          "text": [
            "3\n",
            "{0: array([[0.],\n",
            "       [0.],\n",
            "       [0.],\n",
            "       [0.]]), 1: array([[0.],\n",
            "       [0.],\n",
            "       [0.],\n",
            "       [0.],\n",
            "       [0.]]), 2: array([[0.],\n",
            "       [0.],\n",
            "       [0.],\n",
            "       [0.],\n",
            "       [0.],\n",
            "       [0.],\n",
            "       [0.],\n",
            "       [0.],\n",
            "       [0.],\n",
            "       [0.]])}\n"
          ]
        }
      ],
      "source": [
        "n_h = [4,5]\n",
        "parameters = nn_model(trainX,trainy,n_h,10,0.1)"
      ]
    },
    {
      "cell_type": "code",
      "source": [
        "parameters"
      ],
      "metadata": {
        "colab": {
          "base_uri": "https://localhost:8080/"
        },
        "id": "UrZp3L8KrZ3d",
        "outputId": "63668dd4-7f6a-4621-dfe3-3baa14560f0f"
      },
      "execution_count": null,
      "outputs": [
        {
          "output_type": "execute_result",
          "data": {
            "text/plain": [
              "array([0.00097676, 0.00097537, 0.00098964, 0.00095553, 0.00098729,\n",
              "       0.00098847, 0.00099481, 0.00101358, 0.0009815 , 0.00099379])"
            ]
          },
          "metadata": {},
          "execution_count": 60
        }
      ]
    },
    {
      "cell_type": "code",
      "source": [
        "parameters"
      ],
      "metadata": {
        "colab": {
          "base_uri": "https://localhost:8080/"
        },
        "id": "7Fgi2Tkixh-E",
        "outputId": "7646f3f9-8b43-4ee4-d188-de3e47a54857"
      },
      "execution_count": null,
      "outputs": [
        {
          "output_type": "execute_result",
          "data": {
            "text/plain": [
              "[[array([[-15.51376012],\n",
              "         [ -7.86620868],\n",
              "         [ 16.0507917 ],\n",
              "         [  6.87236626]]), array([[-0.01116007],\n",
              "         [ 0.00675123],\n",
              "         [-0.00248073],\n",
              "         [-0.0162993 ],\n",
              "         [-0.01752933]]), array([[-0.01011671],\n",
              "         [-0.01153909],\n",
              "         [ 0.00298687],\n",
              "         [-0.03208881],\n",
              "         [ 0.00060995],\n",
              "         [ 0.00180412],\n",
              "         [ 0.00819757],\n",
              "         [ 0.02689096],\n",
              "         [-0.00527053],\n",
              "         [ 0.00716793]])], [array([[1.83003547e-07],\n",
              "         [3.83338522e-04],\n",
              "         [9.99999893e-01],\n",
              "         [9.98965050e-01]]), array([[0.49721001],\n",
              "         [0.5016878 ],\n",
              "         [0.49937982],\n",
              "         [0.49592527],\n",
              "         [0.49561778]]), array([[-0.01011671],\n",
              "         [-0.01153909],\n",
              "         [ 0.00298687],\n",
              "         [-0.03208881],\n",
              "         [ 0.00060995],\n",
              "         [ 0.00180412],\n",
              "         [ 0.00819757],\n",
              "         [ 0.02689096],\n",
              "         [-0.00527053],\n",
              "         [ 0.00716793]])]]"
            ]
          },
          "metadata": {},
          "execution_count": 52
        }
      ]
    },
    {
      "cell_type": "code",
      "execution_count": null,
      "metadata": {
        "id": "S6xwdpiQNQ7u"
      },
      "outputs": [],
      "source": [
        "def predict(parameters,X):\n",
        "    W1 = parameters[\"W1\"]\n",
        "    b1 = parameters[\"b1\"]\n",
        "    W2 = parameters[\"W2\"]\n",
        "    b2 = parameters[\"b2\"] \n",
        "    A2, cache = forward_propagation(X, parameters)\n",
        "    return A2"
      ]
    },
    {
      "cell_type": "markdown",
      "metadata": {
        "id": "Xy3fkIcdCdzR"
      },
      "source": [
        ""
      ]
    },
    {
      "cell_type": "markdown",
      "source": [
        "#RAVINDRA'S WORKSPACE "
      ],
      "metadata": {
        "id": "IZz9zuEWRJ9K"
      }
    },
    {
      "cell_type": "code",
      "source": [
        "!pip install wandb -qqq\n",
        "import wandb\n",
        "wandb.login()\n"
      ],
      "metadata": {
        "id": "-3Wq-AqvRO0d"
      },
      "execution_count": null,
      "outputs": []
    },
    {
      "cell_type": "code",
      "source": [
        "# 1. Start a W&B run\n",
        "wandb.init(project='gpt3')\n",
        "\n",
        "# 2. Save model inputs and hyperparameters\n",
        "config = wandb.config\n",
        "config.learning_rate = 0.01\n",
        "\n",
        "# Model training code here ...\n",
        "\n",
        "# 3. Log metrics over time to visualize performance\n",
        "for i in range (10):\n",
        "    wandb.log({\"loss\": loss})"
      ],
      "metadata": {
        "id": "XbYRqDJ7PZbt"
      },
      "execution_count": null,
      "outputs": []
    },
    {
      "cell_type": "code",
      "source": [
        "(xtrain,ytrain),(xtest,ytest) = fashion_mnist.load_data()\n",
        "ytrainUnique,uniqueIndex = np.unique(ytrain,return_index=True)\n",
        "xtrainUnique = xtrain[uniqueIndex] \n",
        "fig = pyplot.figure(figsize=(10, 7));\n",
        "for i,j in enumerate(uniqueIndex):\n",
        "  fig.add_subplot(2, 5, i+1)\n",
        "  plt.imshow(xtrainUnique[i])#cmap=plt.cm.binary\n",
        "  plt.title(\"Class \"+str(i))\n",
        "plt.show()"
      ],
      "metadata": {
        "colab": {
          "base_uri": "https://localhost:8080/",
          "height": 368
        },
        "id": "3Xi09AWiRmcl",
        "outputId": "55ab2ba1-c12c-4f3e-fe13-dbc50874d7ae"
      },
      "execution_count": null,
      "outputs": [
        {
          "output_type": "display_data",
          "data": {
            "image/png": "[encoded data removed]",
            "text/plain": [
              "<Figure size 720x504 with 10 Axes>"
            ]
          },
          "metadata": {
            "needs_background": "light"
          }
        }
      ]
    },
    {
      "cell_type": "code",
      "source": [
        "trainy.reshape(trainy.shape[0],1).shape"
      ],
      "metadata": {
        "id": "h8dAuVLGWA-i",
        "colab": {
          "base_uri": "https://localhost:8080/"
        },
        "outputId": "315ddf0b-cd11-4c8a-8e94-d608a3ba447a"
      },
      "execution_count": null,
      "outputs": [
        {
          "output_type": "execute_result",
          "data": {
            "text/plain": [
              "(60000, 1)"
            ]
          },
          "metadata": {},
          "execution_count": 24
        }
      ]
    },
    {
      "cell_type": "code",
      "source": [
        "[np.zeros((2,4)) for i in range(3)]"
      ],
      "metadata": {
        "colab": {
          "base_uri": "https://localhost:8080/"
        },
        "id": "YQNcgZYGgeWz",
        "outputId": "6d3ca7c4-f389-48d0-ac69-742c11b1caa4"
      },
      "execution_count": null,
      "outputs": [
        {
          "output_type": "execute_result",
          "data": {
            "text/plain": [
              "[array([[0., 0., 0., 0.],\n",
              "        [0., 0., 0., 0.]]), array([[0., 0., 0., 0.],\n",
              "        [0., 0., 0., 0.]]), array([[0., 0., 0., 0.],\n",
              "        [0., 0., 0., 0.]])]"
            ]
          },
          "metadata": {},
          "execution_count": 9
        }
      ]
    }
  ],
  "metadata": {
    "colab": {
      "collapsed_sections": [],
      "name": "EE20S051_CS21M050.ipynb",
      "provenance": [],
      "include_colab_link": true
    },
    "kernelspec": {
      "display_name": "Python 3",
      "language": "python",
      "name": "python3"
    },
    "language_info": {
      "codemirror_mode": {
        "name": "ipython",
        "version": 3
      },
      "file_extension": ".py",
      "mimetype": "text/x-python",
      "name": "python",
      "nbconvert_exporter": "python",
      "pygments_lexer": "ipython3",
      "version": "3.7.6"
    }
  },
  "nbformat": 4,
  "nbformat_minor": 0
}
