{
  "cells": [
    {
      "cell_type": "markdown",
      "metadata": {
        "id": "view-in-github",
        "colab_type": "text"
      },
      "source": [
        "<a href=\"https://colab.research.google.com/github/rashmi05pathak/CS6910_Assignment1/blob/main/EE20S051_CS21M050.ipynb\" target=\"_parent\"><img src=\"https://colab.research.google.com/assets/colab-badge.svg\" alt=\"Open In Colab\"/></a>"
      ]
    },
    {
      "cell_type": "code",
      "execution_count": null,
      "metadata": {
        "id": "xVL_ojcrRDm6",
        "colab": {
          "base_uri": "https://localhost:8080/"
        },
        "outputId": "634f14d4-da3c-4b9e-feed-9d07151f9f11"
      },
      "outputs": [
        {
          "output_type": "stream",
          "name": "stdout",
          "text": [
            "Mounted at /content/drive\n"
          ]
        }
      ],
      "source": [
        "#****PLease mount the drive according to your PRML folder location\n",
        "from google.colab import drive\n",
        "drive.mount('/content/drive')"
      ]
    },
    {
      "cell_type": "code",
      "execution_count": null,
      "metadata": {
        "id": "vTSit1RFIXgg"
      },
      "outputs": [],
      "source": [
        "from matplotlib import pyplot\n",
        "from keras.datasets import fashion_mnist\n",
        "import numpy as np"
      ]
    },
    {
      "cell_type": "code",
      "execution_count": null,
      "metadata": {
        "id": "UlJQpCpvZfCk",
        "colab": {
          "base_uri": "https://localhost:8080/"
        },
        "outputId": "4d038275-4d88-46a4-95ae-795e34182787"
      },
      "outputs": [
        {
          "output_type": "stream",
          "name": "stdout",
          "text": [
            "Downloading data from https://storage.googleapis.com/tensorflow/tf-keras-datasets/train-labels-idx1-ubyte.gz\n",
            "32768/29515 [=================================] - 0s 0us/step\n",
            "40960/29515 [=========================================] - 0s 0us/step\n",
            "Downloading data from https://storage.googleapis.com/tensorflow/tf-keras-datasets/train-images-idx3-ubyte.gz\n",
            "26427392/26421880 [==============================] - 0s 0us/step\n",
            "26435584/26421880 [==============================] - 0s 0us/step\n",
            "Downloading data from https://storage.googleapis.com/tensorflow/tf-keras-datasets/t10k-labels-idx1-ubyte.gz\n",
            "16384/5148 [===============================================================================================] - 0s 0us/step\n",
            "Downloading data from https://storage.googleapis.com/tensorflow/tf-keras-datasets/t10k-images-idx3-ubyte.gz\n",
            "4423680/4422102 [==============================] - 0s 0us/step\n",
            "4431872/4422102 [==============================] - 0s 0us/step\n"
          ]
        }
      ],
      "source": [
        "# load dataset\n",
        "(trainX, trainy), (testX, testy) = fashion_mnist.load_data()"
      ]
    },
    {
      "cell_type": "code",
      "execution_count": null,
      "metadata": {
        "colab": {
          "base_uri": "https://localhost:8080/"
        },
        "id": "ZlF1QxYXZzn4",
        "outputId": "563ec71f-0ad6-4301-cd2f-eb5261a8d3b5"
      },
      "outputs": [
        {
          "output_type": "stream",
          "name": "stdout",
          "text": [
            "Train: X=(60000, 28, 28), y=(60000,)\n",
            "Test: X=(10000, 28, 28), y=(10000,)\n"
          ]
        }
      ],
      "source": [
        "# summarize loaded dataset\n",
        "print('Train: X=%s, y=%s' % (trainX.shape, trainy.shape))\n",
        "print('Test: X=%s, y=%s' % (testX.shape, testy.shape))"
      ]
    },
    {
      "cell_type": "code",
      "execution_count": null,
      "metadata": {
        "id": "chQsm5d8Z4Nl"
      },
      "outputs": [],
      "source": [
        "#Searching classes 0 to 9 from trainy\n",
        "list_of_index = {}\n",
        "for i in range(60000):\n",
        "    if(list_of_index.get(trainy[i]) != True):\n",
        "      list_of_index[trainy[i]] = i #class item train[i] found at index i  \n",
        " #CLass 0 to 9 is stored in the list_of_index dictionary "
      ]
    },
    {
      "cell_type": "code",
      "execution_count": null,
      "metadata": {
        "colab": {
          "base_uri": "https://localhost:8080/"
        },
        "id": "LmEuLRK0iGOM",
        "outputId": "0dfd0cd3-abb0-4a27-caf7-f7777c5c89ba"
      },
      "outputs": [
        {
          "output_type": "execute_result",
          "data": {
            "text/plain": [
              "{0: 1,\n",
              " 1: 59996,\n",
              " 2: 59993,\n",
              " 3: 59997,\n",
              " 4: 59990,\n",
              " 5: 59999,\n",
              " 6: 59988,\n",
              " 7: 59992,\n",
              " 8: 59994,\n",
              " 9: 59978}"
            ]
          },
          "metadata": {},
          "execution_count": 6
        }
      ],
      "source": [
        "list_of_index"
      ]
    },
    {
      "cell_type": "code",
      "execution_count": null,
      "metadata": {
        "colab": {
          "base_uri": "https://localhost:8080/",
          "height": 351
        },
        "id": "5A0XLAVbbxVn",
        "outputId": "1190ff91-0062-410e-c099-3c96e12c0282"
      },
      "outputs": [
        {
          "output_type": "display_data",
          "data": {
            "image/png": "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\n",
            "text/plain": [
              "<Figure size 720x504 with 10 Axes>"
            ]
          },
          "metadata": {
            "needs_background": "light"
          }
        }
      ],
      "source": [
        "#Q1. Plotting fashion Mnist Dataset\n",
        "# create figure\n",
        "fig = pyplot.figure(figsize=(10, 7))\n",
        "# setting values to rows and column variables\n",
        "rows = 2\n",
        "columns = 5\n",
        "for i in range(10):\n",
        "\t# Adds a subplot at the 2nd position\n",
        "    fig.add_subplot(rows, columns, i+1)\n",
        "    j = list_of_index.get(i)\n",
        "    # showing image\n",
        "    pyplot.imshow(trainX[j])\n",
        "    pyplot.axis('off')\n",
        "    pyplot.title(\"class\"+ str(i))\n",
        "# show the figure\n",
        "pyplot.show()"
      ]
    },
    {
      "cell_type": "code",
      "execution_count": null,
      "metadata": {
        "id": "baFyt6n1k1fI"
      },
      "outputs": [],
      "source": [
        "# reshape dataset to have a single channel\n",
        "trainX = trainX.reshape((trainX.shape[0], 784, 1))\n",
        "testX = testX.reshape((testX.shape[0], 784, 1))"
      ]
    },
    {
      "cell_type": "code",
      "execution_count": null,
      "metadata": {
        "colab": {
          "base_uri": "https://localhost:8080/"
        },
        "id": "N8ht0HobrTkj",
        "outputId": "5e21179a-33df-4c6f-ecb9-b98a72aa6e4b"
      },
      "outputs": [
        {
          "output_type": "execute_result",
          "data": {
            "text/plain": [
              "(784, 1)"
            ]
          },
          "metadata": {},
          "execution_count": 8
        }
      ],
      "source": [
        "trainX[0].shape"
      ]
    },
    {
      "cell_type": "code",
      "execution_count": null,
      "metadata": {
        "id": "Q5RiEJEyNQ7c"
      },
      "outputs": [],
      "source": [
        "import pandas as pd\n",
        "import numpy as np\n",
        "import matplotlib.pyplot as plt\n",
        "import math"
      ]
    },
    {
      "cell_type": "code",
      "execution_count": null,
      "metadata": {
        "id": "lmoOkRqANQ7q"
      },
      "outputs": [],
      "source": [
        "def sigmoid(x):\n",
        "    s = 1/(1+np.exp(-x))\n",
        "    return s\n",
        "\n",
        "def tanh(x):\n",
        "    return np.tanh(x)\n",
        "\n",
        "def relu(x):\n",
        "    return np.max(0.0,x)\n",
        "\n",
        "def softmax(arr):\n",
        "    length = len(arr)\n",
        "    s  = np.zeros(length)\n",
        "    sum = 0\n",
        "    for i in range(length):\n",
        "        sum = sum + np.exp(arr[i])      #Correction-double addition step\n",
        "    for i in range(length):\n",
        "        s[i] = np.exp(arr[i])/sum\n",
        "    return s\n",
        "    \n",
        "def layer_size(trainX,trainY):\n",
        "    n_x = trainX[0].shape[0]\n",
        "    n_y = len(np.unique(ytrain))\n",
        "    return n_x,n_y\n",
        "\n",
        "#implement mean squared error as output is real number\n",
        "def mean_squared_error(y_true,y_pred):\n",
        "    length = y_pred.shape[0]\n",
        "    sum_error = 0\n",
        "    for i in range(length):\n",
        "        sum_error = sum_error + ((y_pred[i] - y_true[i])**2)\n",
        "    return sum_error/length\n",
        "\n",
        "def cross_entropy(p,q):\n",
        "    length = q.shape[0]\n",
        "    sum_error = 0\n",
        "    for i in range(length):     #Can be optimized.\n",
        "        sum_error = sum_error - (p * np.log(q))\n",
        "    return sum_error"
      ]
    },
    {
      "cell_type": "code",
      "source": [
        "def der_sigmoid(x):\n",
        "    return sigmoid(x)*(1-sigmoid(x))\n",
        "\n",
        "def der_tanh(x):\n",
        "    return 1-np.tanh(x)**2\n",
        "\n",
        "def der_relu(x):\n",
        "    return (x>0)*1"
      ],
      "metadata": {
        "id": "DG45VUJ72xUB"
      },
      "execution_count": null,
      "outputs": []
    },
    {
      "cell_type": "code",
      "execution_count": null,
      "metadata": {
        "id": "YUnoe7vVNQ7q"
      },
      "outputs": [],
      "source": [
        "#Initialize the model’s parameters\n",
        "def initialize_parameters(n_x, n_h, n_y):\n",
        "    np.random.seed(2) # we set up a seed so that output matches\n",
        "    length = len(n_h)\n",
        "    W = []\n",
        "    b = []\n",
        "    #Weight and bias  784 * 4 * 5 * 10\n",
        "    W.append(np.random.randn(n_h[0],n_x) * 0.01)\n",
        "    b.append(np.zeros((n_h[0],1)))\n",
        "    for i in range(0,length-1):\n",
        "        W.append(np.random.randn(n_h[i+1],n_h[i]) * 0.01)\n",
        "        b.append(np.zeros((n_h[i+1],1)))\n",
        "    W.append(np.random.randn(n_y,n_h[length-1])* 0.01)\n",
        "    b.append(np.zeros((n_y,1))) \n",
        "    parameters_w = {i: W[i] for i in range(len(W))}\n",
        "    parameters_b = {i: b[i] for i in range(len(b))}\n",
        "    print(len(parameters_w))\n",
        "    print(parameters_b)\n",
        "    return parameters_w,parameters_b"
      ]
    },
    {
      "cell_type": "code",
      "execution_count": null,
      "metadata": {
        "id": "HDcMGtvENQ7r"
      },
      "outputs": [],
      "source": [
        "def forward_propagation(X, parameters_w,parameters_b,activation_fun): \n",
        "    # Retrieve each parameter from the dictionary \"parameters\" \n",
        "    # Implement Forward Propagation to calculate A2\n",
        "    length = len(parameters_w)\n",
        "    A = []\n",
        "    H = []\n",
        "    A.append(np.dot(parameters_w[0],X)+parameters_b[0])\n",
        "    if activation_fun == \"sigmoid\":\n",
        "       H.append(sigmoid(A[0]))\n",
        "    elif activation_fun == \"relu\":\n",
        "       H.append(relu(A[0]))\n",
        "    elif activation_fun == \"tanh\":\n",
        "       H.append(tanh(A[0]))\n",
        "    for i in range(1,length-1):\n",
        "       A.append(np.dot(parameters_w[i],H[i-1])+parameters_b[i])\n",
        "       H.append(sigmoid(A[i]))\n",
        "    A.append(np.dot(parameters_w[length-1],H[length-2])+parameters_b[length-1])\n",
        "    H.append(softmax(A[length-1]))\n",
        "    cache = [A,H]\n",
        "    return H[length-1],cache"
      ]
    },
    {
      "cell_type": "code",
      "execution_count": null,
      "metadata": {
        "id": "_RukkvmsNQ7t"
      },
      "outputs": [],
      "source": [
        "#****Neural Network method***********#\n",
        "def nn_model(X, Y, n_h, epoch,learning_rate,opt_fun,activation_fun): \n",
        "    np.random.seed(3)\n",
        "    n_x,n_y = layer_size(X,Y)\n",
        "    parameters_w,parameters_b = initialize_parameters(n_x, n_h, n_y) \n",
        "    #print(parameters_w)\n",
        "    # Loop (gradient descent)\n",
        "    for i in range(0, epoch):\n",
        "        for x,y in zip(X,Y):\n",
        "            A2, cache = forward_propagation(x, parameters_w,parameters_b,activation_fun)\n",
        "            # grads_w,grads_b = backward_propagation(parameters_w, cache, x, y,activation_fun) #parameters NOT defined.\n",
        "            # Gradient descent parameter update.\n",
        "            for i in range(len(parameters_w)):\n",
        "                 parameters_w[i] = parameters_w[i] - learning_rate*grad_w[i]\n",
        "                 parameters_b[i] = parameters_b[i] - learning_rate*grad_b[i]\n",
        "    return A2, cache\n",
        "\n",
        "\n",
        "def momentum_gd(X, Y, n_h, epoch,learning_rate,opt_fun): \n",
        "    np.random.seed(3)\n",
        "    gamma = 0.9\n",
        "    n_x,n_y = layer_size(X,Y)\n",
        "    parameters_w,parameters_b = initialize_parameters(n_x, n_h, n_y) \n",
        "    prev_w = [np.zeros(parameters_w[i].shape) for i in range(len(parameters_w))]\n",
        "    prev_b = [np.zeros(parameters_b[i].shape) for i in range(len(parameters_b))]\n",
        "    for i in range(0, epoch):\n",
        "        for x,y in zip(X,Y):\n",
        "            pred_y, cache = forward_propagation(x, parameters_w,parameters_b)\n",
        "            grad_w,grad_b = backward_propagation(parameters, cache, x, y) #parameters NOT defined.\n",
        "\n",
        "            # Momentum based Gradient descent parameter update.\n",
        "            #parameters = update_parameters(parameters, grads,learning_rate)\n",
        "            for i in range(len(parameters_w)):\n",
        "                prev_w[i] = np.zeros(grad_w.shape)\n",
        "                prev_b[i] = np.zeros\n",
        "                update_w = gamma*prev_w[i] + learning_rate*grad_w[i]\n",
        "                update_b = gamma*prev_b[i] + learning_rate*grad_b[i]\n",
        "                parameters_w[i] = parameters_w[i] - update_w\n",
        "                parameters_b[i] = parameters_b[i] - update_b\n",
        "                prev_w[i] = update_w\n",
        "                prev_b[i] = update_b  \n",
        "    return pred_y\n",
        "\n",
        "def nestrov_gd(X, Y, n_h, epoch,learning_rate,opt_fun): \n",
        "    np.random.seed(3)\n",
        "    gamma,prev_w,prev_b = 0.9,[],[]\n",
        "    n_x,n_y = layer_size(X,Y)\n",
        "    parameters_w,parameters_b = initialize_parameters(n_x, n_h, n_y) \n",
        "    prev_w = [np.zeros(parameters_w[i].shape) for i in range(len(parameters_w))]\n",
        "    prev_b = [np.zeros(parameters_b[i].shape) for i in range(len(parameters_b))]\n",
        "    for i in range(0, epoch):\n",
        "        for x,y in zip(X,Y):\n",
        "            pred_y, cache = forward_propagation(x, parameters_w,parameters_b)\n",
        "            update_w = [parameters_w[i] - gamma*prev_w[i] for i in range(len(parameters_w))]\n",
        "            update_b = [parameters_b[i] - gamma*prev_b[i] for i in range(len(parameters_b))]\n",
        "            grad_w,grad_b = backward_propagation(update_w, cache, x, y) #parameters NOT defined.\n",
        "            # Momentum based Gradient descent parameter update.\n",
        "            #parameters = update_parameters(parameters, grads,learning_rate)\n",
        "            for i in range(len(parameters_w)):\n",
        "                 update_w = gamma*prev_w[i] + learning_rate*grad_w[i]\n",
        "                 update_b = gamma*prev_b[i] + learning_rate*grad_b[i]\n",
        "                 parameters_w[i] = parameters_w[i] - update_w\n",
        "                 parameters_b[i] = parameters_b[i] - update_b\n",
        "                 prev_w[i] = update_w\n",
        "                 prev_b[i] = update_b  \n",
        "    return pred_y\n",
        "\n",
        "def mini_batch_gd(X, Y, n_h, epoch,learning_rate,batch_size = 64): \n",
        "    # batch_size = 64\n",
        "    np.random.seed(3)\n",
        "    n = X.shape[0]\n",
        "    perm = list(np.random.permutation(n))\n",
        "    shuffledX = X[perm,:]\n",
        "    shuffledY = Y.reshape(Y.shape[0],1)[perm,:]\n",
        "    num_batches = math.floor(n/batch_size);\n",
        "    n_x,n_y = layer_size(X,Y)\n",
        "    parameters_w,parameters_b = initialize_parameters(n_x, n_h, n_y) \n",
        "    for i in range(0, epoch):\n",
        "        for batchnum in range(num_batches):\n",
        "            x = shuffledX[batchnum*batch_size:(batchnum+1)*batch_size,:]\n",
        "            y = shuffledY[batchnum*batch_size:(batchnum+1)*batch_size,:]\n",
        "            pred_y, cache = forward_propagation(x, parameters_w,parameters_b)\n",
        "            grad_w,grad_b = backward_propagation(parameters_w, cache, x, y) #parameters NOT defined.\n",
        "\n",
        "            # Gradient descent parameter update.\n",
        "            #parameters = update_parameters(parameters, grads,learning_rate)\n",
        "            for i in range(len(parameters_w)):\n",
        "                 parameters_w[i] = parameters_w[i] - learning_rate*grad_w[i]\n",
        "                 parameters_b[i] = parameters_b[i] - learning_rate*grad_b[i]\n",
        "    return pred_y\n"
      ]
    },
    {
      "cell_type": "code",
      "execution_count": null,
      "metadata": {
        "id": "E4jfb_XdNQ7s"
      },
      "outputs": [],
      "source": [
        "#Notation used meaning is as below\n",
        "#dW = ∂J/∂W\n",
        "#db = ∂J/∂b\n",
        "#A1*(1 - A1) is differentiation of sigmoid function\n",
        "# Implementing backward_propagation\n",
        "def backward_propagation(parameters_w, cache, X, Y): #\n",
        "    y_true = np.zeros((10,1)) #converting true label in the shape of 10 by 1\n",
        "    y_true[Y] = 1\n",
        "    #Cache contains [A,H] i.e. preactivation followed by activation output at each layer\n",
        "    dA = []\n",
        "    dW = [] #grad w.r.t W\n",
        "    db = [] #grad w.r.t b\n",
        "    dh = [] #grad w.r.t h\n",
        "    num_activation = len(cache[1]) #chache is list of listi.e. half of the entries is A followed by half of the entries as H\n",
        "    l_w = len(parameters_w)\n",
        "    A2 = cache[1][length_cache-1] # predicted Output\n",
        "    A2 = np.array(A2)\n",
        "    A2.shape = [10,1] #predicted output shape was coming as (10,) so changing into (10,1)\n",
        "    delta_a_k = A2-Y #output layer\n",
        "    #print(delta_a_k.shape)\n",
        "    #hidden layer\n",
        "    i = num_activation-1\n",
        "    j = 1\n",
        "    while i>0:\n",
        "      #gradient w.r.t parameters w and b\n",
        "         h1 = np.array(cache[1][i]) #2 by 1, 3 by 1 and 10 by 1\n",
        "         #print(h1.shape)\n",
        "         h1.shape = delta_a_k.shape\n",
        "         dW.insert(0,np.dot(delta_a_k,h1.T)) #After 1st loop 10 by 10\n",
        "         db.insert(0,delta_a_k)\n",
        "      #compute gradient w.r.t layer below\n",
        "         dZ1 = np.dot(parameters_w[i].T,delta_a_k)\n",
        "         print(dZ1)\n",
        "         dh.insert(0,dZ1)\n",
        "      #compute gradient w.r.t layer below(preactivation)\n",
        "         g1 = np.array(cache[1][i-1]) #2 by 1, 3 by 1 and 10 by 1\n",
        "         #print(g1.shape)\n",
        "         g1.shape = dZ1.shape\n",
        "         der_sigmoid = np.multiply(g1,1-g1)\n",
        "         #print(i)\n",
        "         delta_a_k = np.multiply(dZ1,der_sigmoid) #sigmoid as activation function at hidden layer, need to generalize it \n",
        "         i = i - 1\n",
        "    #input layer\n",
        "    dW.insert(0,np.dot(dZ1,X.T))\n",
        "    db.insert(0,delta_a_k)\n",
        "    return dW,db"
      ]
    },
    {
      "cell_type": "markdown",
      "metadata": {
        "id": "ulawqQFK9ukM"
      },
      "source": [
        ""
      ]
    },
    {
      "cell_type": "code",
      "execution_count": null,
      "metadata": {
        "id": "9-rSOh2jNQ7s"
      },
      "outputs": [],
      "source": [
        "#**** SGD ************* #\n",
        "def update_parameters(parameters, grads, learning_rate): \n",
        "    W1 = parameters[\"W1\"]\n",
        "    b1 = parameters[\"b1\"]\n",
        "    W2 = parameters[\"W2\"]\n",
        "    b2 = parameters[\"b2\"]\n",
        "    dW1 = grads[\"dW1\"]\n",
        "    db1 = grads[\"db1\"]\n",
        "    dW2 = grads[\"dW2\"] \n",
        "    db2 = grads[\"db2\"]\n",
        "    W1 = W1-learning_rate*dW1\n",
        "    b1 = b1-learning_rate*db1\n",
        "    W2 = W2-learning_rate*dW2\n",
        "    b2 = b2-learning_rate*db2\n",
        "    parameters = {\"W1\": W1,\"b1\": b1,\"W2\": W2,\"b2\": b2}\n",
        "    return parameters"
      ]
    },
    {
      "cell_type": "code",
      "execution_count": null,
      "metadata": {
        "id": "73HoD9jqoaht",
        "colab": {
          "base_uri": "https://localhost:8080/"
        },
        "outputId": "67984345-a5ef-4190-c47d-a896916c5709"
      },
      "outputs": [
        {
          "output_type": "stream",
          "name": "stdout",
          "text": [
            "3\n",
            "{0: array([[0.],\n",
            "       [0.],\n",
            "       [0.],\n",
            "       [0.]]), 1: array([[0.],\n",
            "       [0.],\n",
            "       [0.],\n",
            "       [0.],\n",
            "       [0.]]), 2: array([[0.],\n",
            "       [0.],\n",
            "       [0.],\n",
            "       [0.],\n",
            "       [0.],\n",
            "       [0.],\n",
            "       [0.],\n",
            "       [0.],\n",
            "       [0.],\n",
            "       [0.]])}\n"
          ]
        }
      ],
      "source": [
        "n_h = [4,5]\n",
        "parameters = nn_model(trainX,trainy,n_h,10,0.1)"
      ]
    },
    {
      "cell_type": "code",
      "source": [
        "parameters"
      ],
      "metadata": {
        "colab": {
          "base_uri": "https://localhost:8080/"
        },
        "id": "UrZp3L8KrZ3d",
        "outputId": "63668dd4-7f6a-4621-dfe3-3baa14560f0f"
      },
      "execution_count": null,
      "outputs": [
        {
          "output_type": "execute_result",
          "data": {
            "text/plain": [
              "array([0.00097676, 0.00097537, 0.00098964, 0.00095553, 0.00098729,\n",
              "       0.00098847, 0.00099481, 0.00101358, 0.0009815 , 0.00099379])"
            ]
          },
          "metadata": {},
          "execution_count": 60
        }
      ]
    },
    {
      "cell_type": "code",
      "source": [
        "parameters"
      ],
      "metadata": {
        "colab": {
          "base_uri": "https://localhost:8080/"
        },
        "id": "7Fgi2Tkixh-E",
        "outputId": "7646f3f9-8b43-4ee4-d188-de3e47a54857"
      },
      "execution_count": null,
      "outputs": [
        {
          "output_type": "execute_result",
          "data": {
            "text/plain": [
              "[[array([[-15.51376012],\n",
              "         [ -7.86620868],\n",
              "         [ 16.0507917 ],\n",
              "         [  6.87236626]]), array([[-0.01116007],\n",
              "         [ 0.00675123],\n",
              "         [-0.00248073],\n",
              "         [-0.0162993 ],\n",
              "         [-0.01752933]]), array([[-0.01011671],\n",
              "         [-0.01153909],\n",
              "         [ 0.00298687],\n",
              "         [-0.03208881],\n",
              "         [ 0.00060995],\n",
              "         [ 0.00180412],\n",
              "         [ 0.00819757],\n",
              "         [ 0.02689096],\n",
              "         [-0.00527053],\n",
              "         [ 0.00716793]])], [array([[1.83003547e-07],\n",
              "         [3.83338522e-04],\n",
              "         [9.99999893e-01],\n",
              "         [9.98965050e-01]]), array([[0.49721001],\n",
              "         [0.5016878 ],\n",
              "         [0.49937982],\n",
              "         [0.49592527],\n",
              "         [0.49561778]]), array([[-0.01011671],\n",
              "         [-0.01153909],\n",
              "         [ 0.00298687],\n",
              "         [-0.03208881],\n",
              "         [ 0.00060995],\n",
              "         [ 0.00180412],\n",
              "         [ 0.00819757],\n",
              "         [ 0.02689096],\n",
              "         [-0.00527053],\n",
              "         [ 0.00716793]])]]"
            ]
          },
          "metadata": {},
          "execution_count": 52
        }
      ]
    },
    {
      "cell_type": "code",
      "execution_count": null,
      "metadata": {
        "id": "S6xwdpiQNQ7u"
      },
      "outputs": [],
      "source": [
        "def predict(parameters,X):\n",
        "    W1 = parameters[\"W1\"]\n",
        "    b1 = parameters[\"b1\"]\n",
        "    W2 = parameters[\"W2\"]\n",
        "    b2 = parameters[\"b2\"] \n",
        "    A2, cache = forward_propagation(X, parameters)\n",
        "    return A2"
      ]
    },
    {
      "cell_type": "markdown",
      "metadata": {
        "id": "Xy3fkIcdCdzR"
      },
      "source": [
        ""
      ]
    },
    {
      "cell_type": "markdown",
      "source": [
       
