{
  "cells": [
    {
      "cell_type": "markdown",
      "metadata": {
        "id": "ed3Fegt5GrCK"
      },
      "source": [
        "#**Deep Learning Assignment 1 - Fashion MNIST dataset**"
      ]
    },
    {
      "cell_type": "code",
      "execution_count": 40,
      "metadata": {
        "colab": {
          "base_uri": "https://localhost:8080/"
        },
        "id": "oVIecPIIJGfF",
        "outputId": "cdb4a133-9928-4467-f5a8-7812a01d5124"
      },
      "outputs": [
        {
          "output_type": "stream",
          "name": "stdout",
          "text": [
            "Requirement already satisfied: scikit-plot in /usr/local/lib/python3.7/dist-packages (0.3.7)\n",
            "Requirement already satisfied: joblib>=0.10 in /usr/local/lib/python3.7/dist-packages (from scikit-plot) (1.1.0)\n",
            "Requirement already satisfied: matplotlib>=1.4.0 in /usr/local/lib/python3.7/dist-packages (from scikit-plot) (3.2.2)\n",
            "Requirement already satisfied: scipy>=0.9 in /usr/local/lib/python3.7/dist-packages (from scikit-plot) (1.4.1)\n",
            "Requirement already satisfied: scikit-learn>=0.18 in /usr/local/lib/python3.7/dist-packages (from scikit-plot) (1.0.2)\n",
            "Requirement already satisfied: numpy>=1.11 in /usr/local/lib/python3.7/dist-packages (from matplotlib>=1.4.0->scikit-plot) (1.21.5)\n",
            "Requirement already satisfied: pyparsing!=2.0.4,!=2.1.2,!=2.1.6,>=2.0.1 in /usr/local/lib/python3.7/dist-packages (from matplotlib>=1.4.0->scikit-plot) (3.0.7)\n",
            "Requirement already satisfied: python-dateutil>=2.1 in /usr/local/lib/python3.7/dist-packages (from matplotlib>=1.4.0->scikit-plot) (2.8.2)\n",
            "Requirement already satisfied: cycler>=0.10 in /usr/local/lib/python3.7/dist-packages (from matplotlib>=1.4.0->scikit-plot) (0.11.0)\n",
            "Requirement already satisfied: kiwisolver>=1.0.1 in /usr/local/lib/python3.7/dist-packages (from matplotlib>=1.4.0->scikit-plot) (1.3.2)\n",
            "Requirement already satisfied: six>=1.5 in /usr/local/lib/python3.7/dist-packages (from python-dateutil>=2.1->matplotlib>=1.4.0->scikit-plot) (1.15.0)\n",
            "Requirement already satisfied: threadpoolctl>=2.0.0 in /usr/local/lib/python3.7/dist-packages (from scikit-learn>=0.18->scikit-plot) (3.1.0)\n"
          ]
        }
      ],
      "source": [
        "!pip install scikit-plot"
      ]
    },
    {
      "cell_type": "markdown",
      "metadata": {
        "id": "75MsIZ4JHGvO"
      },
      "source": [
        "#**Libraries**"
      ]
    },
    {
      "cell_type": "code",
      "execution_count": 41,
      "metadata": {
        "id": "ZuK0pkO0-NEl"
      },
      "outputs": [],
      "source": [
        "import numpy as np\n",
        "import pandas as pd\n",
        "import keras\n",
        "import math\n",
        "import matplotlib.pyplot as plt\n",
        "from keras.datasets import mnist\n",
        "import wandb\n",
        "import tensorflow as tf\n",
        "import tensorflow_datasets as tdfs\n",
        "from sklearn.metrics import accuracy_score\n",
        "import scikitplot as skplt\n",
        "from sklearn.metrics import confusion_matrix"
      ]
    },
    {
      "cell_type": "markdown",
      "metadata": {
        "id": "bA_oP0S3Hq1J"
      },
      "source": [
        "**Visualizing Dataset**"
      ]
    },
    {
      "cell_type": "code",
      "execution_count": 42,
      "metadata": {
        "colab": {
          "base_uri": "https://localhost:8080/",
          "height": 555
        },
        "id": "Jv_U2q2O_Ae1",
        "outputId": "6911497c-f68b-4f5e-91cd-0bb2ef18cbb1"
      },
      "outputs": [
        {
          "output_type": "display_data",
          "data": {
            "image/png": "[encoded data removed]",
            "text/plain": [
              "<Figure size 720x720 with 10 Axes>"
            ]
          },
          "metadata": {
            "needs_background": "light"
          }
        }
      ],
      "source": [
        "# getting one sample image from each class and visualizing \n",
        "(trainx, trainy), (testx, testy)= mnist.load_data()\n",
        "classes = np.unique(trainy)\n",
        "index_mat = [0]*10\n",
        "for i in classes:\n",
        "  index_mat[i] = trainy.tolist().index(i)\n",
        "\n",
        "plt.figure(figsize=(10,10))\n",
        "\n",
        "for j, i in enumerate(index_mat):\n",
        "  plt.subplot(3,4,j+1)\n",
        "  plt.imshow(trainx[i], cmap=plt.get_cmap('gray'))\n",
        "  \n",
        "plt.show()"
      ]
    },
    {
      "cell_type": "code",
      "execution_count": 43,
      "metadata": {
        "id": "SKCCm1xqxYkG"
      },
      "outputs": [],
      "source": [
        "class_names=['0','1','2','3','4','5','6','7','8','9']"
      ]
    },
    {
      "cell_type": "code",
      "execution_count": 44,
      "metadata": {
        "id": "63jtDyXR-8Wb"
      },
      "outputs": [],
      "source": [
        "#display images with names in wandb \n",
        "#uncomment the following lines logging images in wandb\n",
        "#wandb.init(project=\"Assignment_1_T2\", entity=\"ee20s051_ed21s007\")\n",
        "#wandb.log({'sample':[wandb.Image(trainx[i],caption=class_names[trainy[i]]) for i in index_mat]})"
      ]
    },
    {
      "cell_type": "code",
      "execution_count": 45,
      "metadata": {
        "id": "zcRfsy9P--ak"
      },
      "outputs": [],
      "source": [
        "#normalising input x\n",
        "\n",
        "x_train = trainx.reshape(60000,784)/255.0\n",
        "x_test=testx.reshape(10000,784)/255.0\n",
        "y_test=testy\n",
        "#one hot encoding y train\n",
        "temp = np.zeros((60000,10))\n",
        "temp[np.arange(60000),trainy] = 1\n",
        "y_train=temp"
      ]
    },
    {
      "cell_type": "markdown",
      "metadata": {
        "id": "8oCqtQBVtXsS"
      },
      "source": [
        "**Define hyperparameters**"
      ]
    },
    {
      "cell_type": "code",
      "execution_count": 46,
      "metadata": {
        "id": "gOOGjmyOUcRK"
      },
      "outputs": [],
      "source": [
        "# hyperparameters to be used for training\n",
        "config_defaults = {\n",
        "        'epochs':15,\n",
        "        'batch_size':128,\n",
        "        'hidden_layers':4,\n",
        "        'eta': 0.001,\n",
        "        'size':64,\n",
        "        'activation': 'sigmoid',      \n",
        "        'optimizer': 'rmsprop',       \n",
        "        'wt_decay':0.05,\n",
        "        'wt_init':'xavier'\n",
        "        }\n",
        "\n",
        "config=config_defaults "
      ]
    },
    {
      "cell_type": "code",
      "source": [
        "config"
      ],
      "metadata": {
        "colab": {
          "base_uri": "https://localhost:8080/"
        },
        "id": "XoZLucVzh8-U",
        "outputId": "d087782b-ec71-4726-fda2-7a1931d5c99c"
      },
      "execution_count": 47,
      "outputs": [
        {
          "output_type": "execute_result",
          "data": {
            "text/plain": [
              "{'activation': 'sigmoid',\n",
              " 'batch_size': 128,\n",
              " 'epochs': 15,\n",
              " 'eta': 0.001,\n",
              " 'hidden_layers': 4,\n",
              " 'optimizer': 'rmsprop',\n",
              " 'size': 64,\n",
              " 'wt_decay': 0.05,\n",
              " 'wt_init': 'xavier'}"
            ]
          },
          "metadata": {},
          "execution_count": 47
        }
      ]
    },
    {
      "cell_type": "markdown",
      "metadata": {
        "id": "IFFAvgJ8Y1Sa"
      },
      "source": [
        "**Activation function definitions** **And Weight-bias initialization**"
      ]
    },
    {
      "cell_type": "code",
      "execution_count": 48,
      "metadata": {
        "id": "UOL1lVF-XNso"
      },
      "outputs": [],
      "source": [
        "#Defining activation functions and their derivatives\n",
        "\n",
        "def sigmoid(x):\n",
        "  return 1/(1+np.exp(-x))\n",
        "\n",
        "def tanh(x):\n",
        "  return (np.exp(x)-np.exp(-x))/(np.exp(x)+np.exp(-x))\n",
        "\n",
        "def relu(x):\n",
        "  t=np.array((np.maximum(0,x)),dtype=np.longdouble)\n",
        "  return t\n",
        "\n",
        "def grad_tanh(x):\n",
        "  return 1-(tanh(x))**2\n",
        "\n",
        "def grad_relu(x):\n",
        "  t = np.where(x < 0, 0, x)\n",
        "  return t\n",
        "\n",
        "def grad_sigmoid(x):\n",
        "  return (sigmoid(x)*(1-sigmoid(x)))\n",
        "\n",
        "def softmax(x):\n",
        "  exps = np.exp(x )\n",
        "  return exps / np.sum(exps)\n",
        "\n",
        "#Defining initialization of weight and bias: random and xavier initialization\n",
        "def init_random(num_weight_mat,num_nodes):\n",
        "    weights={}\n",
        "    bias = {}\n",
        "    for i in  range(1,num_weight_mat+1):\n",
        "      weights['W%s'% i] = np.random.randn(int(num_nodes[i]),int(num_nodes[i-1]))\n",
        "      bias['b%s'% i] = np.random.randn(int(num_nodes[i]))\n",
        "    \n",
        "    return weights, bias\n",
        "\n",
        "def init_xavier(num_weight_mat,num_nodes):\n",
        "    weights={}\n",
        "    bias = {}\n",
        "    for i in  range(1,num_weight_mat+1):\n",
        "      weights['W%s'%i] = np.random.normal(0, math.sqrt(1/num_nodes[i-1]) ,size=([int(num_nodes[i]),int(num_nodes[i-1])]))\n",
        "      bias['b%s'%i] = np.zeros(int(num_nodes[i]))\n",
        "    \n",
        "    return weights, bias\n",
        "\n",
        "def init_zeros(num_weight_mat,num_nodes):\n",
        "    #print(num_weight_mat)\n",
        "    weights={}\n",
        "    bias = {}\n",
        "    for i in  range(1,num_weight_mat+1):\n",
        "      weights['W%s'% i] = np.zeros([int(num_nodes[i]),int(num_nodes[i-1])])\n",
        "      bias['b%s'% i] = np.zeros(int(num_nodes[i]))\n",
        "\n",
        "    return weights,bias"
      ]
    },
    {
      "cell_type": "code",
      "execution_count": 49,
      "metadata": {
        "id": "AiXPtsIFNxPz"
      },
      "outputs": [],
      "source": [
        "#Setting activation function and its derivative\n",
        "activation_fun = config['activation']\n",
        "if activation_fun == 'sigmoid':\n",
        "    activ = sigmoid\n",
        "    der_activ = grad_sigmoid\n",
        "elif activation_fun == 'tanh':\n",
        "    activ = tanh\n",
        "    der_activ = grad_tanh\n",
        "elif activation_fun == 'relu':\n",
        "    activ = relu\n",
        "    der_activ = grad_relu\n",
        "\n",
        "#Setting output function\n",
        "output = softmax \n",
        "activation = activ\n",
        "  \n",
        "\n",
        "#Forward propogation\n",
        "def forward_propogation(weights, bias, x):\n",
        "    num_weight_mat = len(weights)\n",
        "    num_hidden_layers = num_weight_mat-1\n",
        "    Acti = {}\n",
        "    H = {}\n",
        "    \n",
        "    H['H0'] = x\n",
        "    \n",
        "    for i in range(1,num_hidden_layers+1):\n",
        "      Acti[('A%s'% i)] = np.matmul(weights['W%s'% i],H[('H%s'% (i-1))])+bias['b%s'% i]\n",
        "      H['H%s'% i] = activation(Acti['A%s'% i])\n",
        "    \n",
        "    Acti['A%s'%(num_hidden_layers+1)]= np.matmul(weights['W%s'% (num_hidden_layers+1)],H['H%s'% (num_hidden_layers)])+bias['b%s'% (num_hidden_layers+1)]\n",
        "    y_hat = output(Acti['A%s'% (num_hidden_layers+1)])  \n",
        "    \n",
        "    return y_hat, Acti, H\n",
        "  \n",
        "\n",
        "  #Backward propogation\n",
        "def backward_propogation(w, b, x, y):\n",
        "    grad_A = {}\n",
        "    grad_W = {}\n",
        "    grad_b = {}\n",
        "    grad_H = {}  \n",
        "\n",
        "    num_weight_mat = len(w)\n",
        "    num_hidden_layers = num_weight_mat-1\n",
        "\n",
        "    y_hat, A, H = forward_propogation(w, b, x)\n",
        "\n",
        "    grad_A['A%s'% (num_hidden_layers+1)] = -(y-y_hat)  #cross entropy loss\n",
        "    \n",
        "    for i in range(num_hidden_layers+1, 1, -1):\n",
        "      \n",
        "      grad_W['W%s'%i] = np.matmul(grad_A['A%s'%i].reshape(-1,1), H['H%s'%(i-1)].reshape(1,-1))\n",
        "\n",
        "      grad_b['b%s'%i] = grad_A['A%s'%i]\n",
        "\n",
        "      grad_H['H%s'%(i-1)] = np.dot(np.transpose(w['W%s'%i]), grad_A['A%s'%i]) \n",
        "\n",
        "      grad_A['A%s'%(i-1)] = np.multiply(grad_H['H%s'%(i-1)], der_activ(A['A%s'%(i-1)]))\n",
        "\n",
        "    grad_W['W1'] = np.multiply(grad_A['A1'].reshape(-1,1), H['H0'].reshape(1,-1))\n",
        "\n",
        "    grad_b['b1'] = grad_A['A1']\n",
        "\n",
        "    return grad_W, grad_b"
      ]
    },
    {
      "cell_type": "markdown",
      "metadata": {
        "id": "O12WuMf5dpfS"
      },
      "source": [
        "#**Training the model using various optimisers**"
      ]
    },
    {
      "cell_type": "code",
      "execution_count": 50,
      "metadata": {
        "id": "SJpDL67pg-0Q"
      },
      "outputs": [],
      "source": [
        "def Model_train():            #define inputs\n",
        "  \n",
        "  X = x_train[:54000]\n",
        "  Y = y_train[:54000]\n",
        "\n",
        "  x_val = x_train[54000:]\n",
        "  y_val = y_train[54000:]\n",
        "  \n",
        "\n",
        "  #get inputs from config\n",
        "  eta = config['eta']\n",
        "  epochs = config['epochs']\n",
        "  batch_size=config['batch_size']\n",
        "  activation=config['activation']\n",
        "  optimization=config['optimizer']\n",
        "  num_hidden_layers = config['hidden_layers'] \n",
        "  size=config['size']        \n",
        "  wt_decay=config['wt_decay']   \n",
        "  initialization=config['wt_init']\n",
        "  input_layer_size = 784  #input number of inputs here\n",
        "\n",
        "  output_layer_size = 10  #input number of output nodes here\n",
        "\n",
        "  num_nodes = [input_layer_size]\n",
        "\n",
        "  for i in range(num_hidden_layers):\n",
        "    num_nodes.append(size)\n",
        "  num_nodes.append(output_layer_size)\n",
        "\n",
        "  num_weight_mat = num_hidden_layers+1\n",
        "\n",
        "  \n",
        "  #Setting weight initialization function\n",
        "  if initialization == 'random':\n",
        "    wt_init=init_random(num_weight_mat,num_nodes)\n",
        "  elif initialization == 'xavier':\n",
        "    wt_init = init_xavier(num_weight_mat,num_nodes)\n",
        "  else:\n",
        "    print('weight initialization given is not available')\n",
        "\n",
        "  #Setting weights\n",
        "  weights = {}\n",
        "  bias = {}\n",
        "  weights, bias = wt_init\n",
        "\n",
        "\n",
        "  #Setting activation function and its derivative\n",
        "  if activation == 'sigmoid':\n",
        "    activ = sigmoid\n",
        "    der_activ = grad_sigmoid\n",
        "  elif activation == 'tanh':\n",
        "    activ = tanh\n",
        "    der_activ = grad_tanh\n",
        "  elif activation == 'relu':\n",
        "    activ = relu\n",
        "    der_activ = grad_relu\n",
        "\n",
        "  #Setting output function\n",
        "  output = softmax \n",
        "  activation = activ\n",
        "  \n",
        "  def cross_entropy(p, q):\n",
        "      return -np.log(np.dot(p, q))\n",
        "\n",
        "  def val_accuracy(weights,bias,x_val,y_val):\n",
        "     len = x_val.shape[0]\n",
        "     y_pred=np.zeros(len)\n",
        "     fx=np.zeros([len,10])\n",
        "     val_loss=0\n",
        "     for i in range(len):\n",
        "        fx[i]= forward_propogation(weights,bias,x_val[i])[0]\n",
        "        val_loss+= cross_entropy(y_val[i],fx[i])\n",
        "     val_loss/=len\n",
        "     y_pred=np.argmax(fx,axis=1)   \n",
        "     y_val_=np.argmax(y_val,axis=1)\n",
        "     validation_acc = accuracy_score(y_pred,y_val_)\n",
        "     return val_loss,validation_acc\n",
        "     \n",
        "  def train_accuracy(weights,bias,X,Y):\n",
        "     len = X.shape[0]\n",
        "     y_pred=np.zeros(len)\n",
        "     fx=np.zeros([len,10])\n",
        "     train_loss=0\n",
        "     for i in range(len):\n",
        "        fx[i]= forward_propogation(weights,bias,X[i])[0]\n",
        "        train_loss+= cross_entropy(Y[i],fx[i])\n",
        "     train_loss/=len\n",
        "     y_pred=np.argmax(fx,axis=1)   \n",
        "     y_train_=np.argmax(Y,axis=1)\n",
        "     train_acc = accuracy_score(y_pred,y_train_)\n",
        "     return train_loss,train_acc\n",
        "\n",
        "   #defining function for sgd optimizer\n",
        "  def sgd():\n",
        "    wandb.init(project=\"mnist_data\", entity=\"ee20s051_ed21s007\")\n",
        "    for k in range(epochs):\n",
        "      for x,y in zip(X,Y):\n",
        "        grad_w,grad_b = backward_propogation(weights, bias, x,y)\n",
        "        for j in range(1,num_hidden_layers+2):\n",
        "            weights['W%s'%j]-=(grad_w['W%s'%j])*eta\n",
        "            bias['b%s'%j]-=(grad_b['b%s'%j])*eta\n",
        "      val_loss,val_acc = val_accuracy(weights,bias,x_val,y_val)\n",
        "      train_loss,train_acc = train_accuracy(weights,bias,X,Y)\n",
        "      print(\"epoch______{} :   {}\".format(k, train_accuracy))\n",
        "      wandb.log({\"epoch\": k,\"loss\": train_loss,\"accuracy\": train_acc,\"val_loss\": val_loss,\"val_accuracy\": val_acc})\n",
        "      \n",
        "   #defining function for momentum gd optimizer\n",
        "  def momentum_gd():\n",
        "    wandb.init(project=\"mnist_data\", entity=\"ee20s051_ed21s007\")\n",
        "    gamma=0.9\n",
        "    prev_dw,prev_db=init_zeros(num_weight_mat,num_nodes)\n",
        "\n",
        "    for k in range(epochs):\n",
        "      count=0   \n",
        "    \n",
        "      dw,db=init_zeros(num_weight_mat,num_nodes)\n",
        "      \n",
        "      for x,y in zip(X,Y):\n",
        "        \n",
        "        if count==0:\n",
        "          dw,db=init_zeros(num_weight_mat,num_nodes)\n",
        "        \n",
        "        grad_w,grad_b = backward_propogation(weights, bias, x, y)\n",
        "\n",
        "        for j in range(1,num_hidden_layers+2):\n",
        "          dw['W%s'%j]+=(grad_w['W%s'%j])\n",
        "          db['b%s'%j]+=(grad_b['b%s'%j])\n",
        "        count+=1\n",
        "\n",
        "        if count%batch_size==0:\n",
        "          \n",
        "          weights['W%s'%j]-=((prev_dw['W%s'%j])*gamma+(dw['W%s'%j])*eta+(weights['W%s'%j])*wt_decay*eta)\n",
        "          bias['b%s'%j]-=((prev_db['b%s'%j])*gamma+(db['b%s'%j])*eta+(bias['b%s'%j])*wt_decay*eta)\n",
        "\n",
        "          prev_dw['W%s'%j]=(prev_dw['W%s'%j])*gamma+(dw['W%s'%j])*eta\n",
        "          prev_db['b%s'%j]=(prev_db['b%s'%j])*gamma+(db['b%s'%j])*eta\n",
        "          count=0\n",
        "      val_loss,val_acc = val_accuracy(weights,bias,x_val,y_val)\n",
        "      train_loss,train_acc = train_accuracy(weights,bias,X,Y)\n",
        "      print(\"epoch______{} :   {}\".format(k, train_accuracy))\n",
        "      wandb.log({\"epoch\": k,\"loss\": train_loss,\"accuracy\": train_acc,\"val_loss\": val_loss,\"val_accuracy\": val_acc})\n",
        "   #defining function for NAG optimizer\n",
        "  def nesterov():\n",
        "    wandb.init(project=\"mnist_data\", entity=\"ee20s051_ed21s007\")\n",
        "    gamma=0.9\n",
        "    prev_vw,prev_vb=init_zeros(num_weight_mat,num_nodes)\n",
        "    temp_w,temp_b=init_zeros(num_weight_mat,num_nodes)\n",
        "    dw,db=init_zeros(num_weight_mat,num_nodes)\n",
        "    v_w,v_b=init_zeros(num_weight_mat,num_nodes)\n",
        "\n",
        "    for k in range(epochs):\n",
        "      count=0\n",
        "\n",
        "      if count==0:\n",
        "        for j in range(1,num_hidden_layers+2):\n",
        "            v_w['W%s'%j]=prev_vw['W%s'%j]*gamma \n",
        "            v_b['b%s'%j]=prev_vb['b%s'%j]*gamma \n",
        "\n",
        "\n",
        "      for x,y in zip(X,Y):\n",
        "        if count==0:\n",
        "          dw,db=init_zeros(num_weight_mat,num_nodes)\n",
        "\n",
        "        for j in range(1,num_hidden_layers+2):\n",
        "          temp_w['W%s'%j]=weights['W%s'%j]-v_w['W%s'%j]\n",
        "          temp_b['b%s'%j]=bias['b%s'%j]-v_b['b%s'%j]\n",
        "        \n",
        "        grad_w,grad_b=backward_propogation(temp_w,temp_b,x,y)      \n",
        "        for j in range(1,num_hidden_layers+2):\n",
        "          dw['W%s'%j]+=(grad_w['W%s'%j])\n",
        "          db['b%s'%j]+=(grad_b['b%s'%j])\n",
        "        count+=1\n",
        "\n",
        "        if count%batch_size==0:\n",
        "          \n",
        "          for j in range(1,num_hidden_layers+2):\n",
        "            v_w['W%s'%j]=(prev_vw['W%s'%j])*gamma + (dw['W%s'%j])*eta\n",
        "            v_b['b%s'%j]=(prev_vb['b%s'%j])*gamma + (db['b%s'%j])*eta\n",
        "            weights['W%s'%j]-=(v_w['W%s'%j]+(weights['W%s'%j])*wt_decay*eta)\n",
        "            bias['b%s'%j]-=(v_b['b%s'%j]+(bias['b%s'%j])*wt_decay*eta)\n",
        "            prev_vw['W%s'%j]=v_w['W%s'%j]\n",
        "            prev_vb['b%s'%j]=v_b['b%s'%j]\n",
        "            count=0\n",
        "      val_loss,val_acc = val_accuracy(weights,bias,x_val,y_val)\n",
        "      train_loss,train_acc = train_accuracy(weights,bias,X,Y)\n",
        "      print(\"epoch______{} :   {}\".format(k, train_accuracy))\n",
        "      wandb.log({\"epoch\": k,\"loss\": train_loss,\"accuracy\": train_acc,\"val_loss\": val_loss,\"val_accuracy\": val_acc})\n",
        "   #defining function for adagrad optimizer\n",
        "  def adagrad():\n",
        "    wandb.init(project=\"mnist_data\", entity=\"ee20s051_ed21s007\")\n",
        "    eps = 1e-8\n",
        "\n",
        "    v_w,v_b=init_zeros(num_weight_mat,num_nodes)\n",
        "\n",
        "    for k in range(epochs):\n",
        "      count=0\n",
        "      dw,db=init_zeros(num_weight_mat,num_nodes)\n",
        "      \n",
        "      for x,y in zip(X,Y):\n",
        "\n",
        "        if count==0:\n",
        "          dw,db=init_zeros(num_weight_mat,num_nodes)\n",
        "        \n",
        "        grad_w,grad_b=backward_propogation( weights,bias,x,y)\n",
        "        for j in range(1,num_hidden_layers+2):\n",
        "          dw['W%s'%j]+=(grad_w['W%s'%j])\n",
        "          db['b%s'%j]+=(grad_b['b%s'%j])\n",
        "        count+=1\n",
        "\n",
        "        if count%batch_size==0:\n",
        "\n",
        "          for j in range(1,num_hidden_layers+2):\n",
        "            v_w['W%s'%j] += np.square(dw['W%s'%j])\n",
        "            v_b['b%s'%j] += np.square(db['b%s'%j]) \n",
        "            weights['W%s'%j] -= ((dw['W%s'%j])*(eta/np.sqrt(v_w['W%s'%j] + eps))+(weights['W%s'%j])*wt_decay*eta)\n",
        "            bias['b%s'%j] -= ((db['b%s'%j])*(eta/np.sqrt(v_b['b%s'%j] + eps))+(bias['b%s'%j])*wt_decay*eta)\n",
        "\n",
        "            count=0\n",
        "      val_loss,val_acc = val_accuracy(weights,bias,x_val,y_val)\n",
        "      train_loss,train_acc = train_accuracy(weights,bias,X,Y)\n",
        "      print(\"epoch______{} :   {}\".format(k, train_accuracy))\n",
        "      wandb.log({\"epoch\": k,\"loss\": train_loss,\"accuracy\": train_acc,\"val_loss\": val_loss,\"val_accuracy\": val_acc})\n",
        "  \n",
        "  #defining function for rmsprop optimizer\n",
        "  def rmsprop():\n",
        "    eps = 1e-8\n",
        "    beta1 = 0.9\n",
        "    wandb.init(project=\"mnist_data\", entity=\"ee20s051_ed21s007\")\n",
        "    v_w,v_b=init_zeros(num_weight_mat,num_nodes)\n",
        "\n",
        "    for k in range(epochs):\n",
        "      count=0\n",
        "      dw,db=init_zeros(num_weight_mat,num_nodes)\n",
        "      \n",
        "      for x,y in zip(X,Y):\n",
        "\n",
        "        if count==0:\n",
        "          dw,db=init_zeros(num_weight_mat,num_nodes)\n",
        "        \n",
        "        grad_w,grad_b= backward_propogation( weights,bias,x,y)\n",
        "        for j in range(1,num_hidden_layers+2):\n",
        "          dw['W%s'%j]+=(grad_w['W%s'%j])\n",
        "          db['b%s'%j]+=(grad_b['b%s'%j])\n",
        "        count+=1\n",
        "\n",
        "        if count%batch_size==0:\n",
        "\n",
        "          for j in range(1,num_hidden_layers+2):\n",
        "            v_w['W%s'%j] = beta1*v_w['W%s'%j] + (1-beta1)*np.square(dw['W%s'%j])\n",
        "            v_b['b%s'%j] = beta1*v_b['b%s'%j] + (1-beta1)*np.square(db['b%s'%j]) \n",
        "            weights['W%s'%j] -= ((dw['W%s'%j])*(eta/np.sqrt(v_w['W%s'%j] + eps))+(weights['W%s'%j])*wt_decay*eta)\n",
        "            bias['b%s'%j] -= ((db['b%s'%j])*(eta/np.sqrt(v_b['b%s'%j] + eps))+(bias['b%s'%j])*wt_decay*eta)\n",
        "\n",
        "            count=0\n",
        "      val_loss,val_acc = val_accuracy(weights,bias,x_val,y_val)\n",
        "      train_loss,train_acc = train_accuracy(weights,bias,X,Y)\n",
        "      print(\"epoch______{} :   {}\".format(k, train_accuracy))\n",
        "      wandb.log({\"epoch\": k,\"loss\": train_loss,\"accuracy\": train_acc,\"val_loss\": val_loss,\"val_accuracy\": val_acc})\n",
        "   \n",
        "   #defining function for adam optimizer\n",
        "  def adam():\n",
        "    wandb.init(project=\"mnist_data\", entity=\"ee20s051_ed21s007\")\n",
        "    eps = 1e-8\n",
        "    beta1 = 0.9\n",
        "    beta2 = 0.999\n",
        "\n",
        "    v_w,v_b=init_zeros(num_weight_mat,num_nodes)\n",
        "    v_w_hat,v_b_hat=init_zeros(num_weight_mat,num_nodes)\n",
        "\n",
        "    m_w,m_b=init_zeros(num_weight_mat,num_nodes)\n",
        "    m_w_hat,m_b_hat=init_zeros(num_weight_mat,num_nodes)\n",
        "\n",
        "    for k in range(epochs):\n",
        "      \n",
        "      count=0\n",
        "      dw,db=init_zeros(num_weight_mat,num_nodes)\n",
        "      \n",
        "      for x,y in zip(X,Y):\n",
        "\n",
        "        if count==0:\n",
        "          dw,db=init_zeros(num_weight_mat,num_nodes)\n",
        "        \n",
        "        grad_w,grad_b = backward_propogation( weights,bias,x,y)\n",
        "        for j in range(1,num_hidden_layers+2):\n",
        "          dw['W%s'%j]+=(grad_w['W%s'%j])\n",
        "          db['b%s'%j]+=(grad_b['b%s'%j])\n",
        "        count+=1\n",
        "\n",
        "        if count%batch_size==0:\n",
        "\n",
        "          for j in range(1,num_hidden_layers+2):\n",
        "            \n",
        "            v_w['W%s'%j] = beta2*v_w['W%s'%j] + (1-beta2)*np.square(dw['W%s'%j])\n",
        "            v_b['b%s'%j] = beta2*v_b['b%s'%j] + (1-beta2)*np.square(db['b%s'%j]) \n",
        "\n",
        "            v_w_hat['W%s'%j] = v_w['W%s'%j]*1/(1-math.pow(beta2,k+1))\n",
        "            v_b_hat['b%s'%j] = v_b['b%s'%j]*1/(1-math.pow(beta2,k+1))\n",
        "\n",
        "            m_w['W%s'%j] = beta1*m_w['W%s'%j] + (1-beta1)*(dw['W%s'%j])\n",
        "            m_b['b%s'%j] = beta1*m_b['b%s'%j] + (1-beta1)*(db['b%s'%j]) \n",
        "\n",
        "            m_w_hat['W%s'%j] = m_w['W%s'%j]*1/(1-math.pow(beta1,k+1))\n",
        "            m_b_hat['b%s'%j] = m_b['b%s'%j]*1/(1-math.pow(beta1,k+1))\n",
        "            \n",
        "            weights['W%s'%j] -= ((m_w_hat['W%s'%j])*(eta/np.sqrt(v_w_hat['W%s'%j] + eps))+(weights['W%s'%j])*wt_decay*eta) \n",
        "            bias['b%s'%j] -= ((m_b_hat['b%s'%j])*(eta/np.sqrt(v_b_hat['b%s'%j] + eps))+(bias['b%s'%j])*wt_decay*eta)\n",
        "\n",
        "            count=0\n",
        "      val_loss,val_acc = val_accuracy(weights,bias,x_val,y_val)\n",
        "      train_loss,train_acc = train_accuracy(weights,bias,X,Y)\n",
        "      print(\"epoch______{} :   {}\".format(k, train_accuracy))\n",
        "      wandb.log({\"epoch\": k,\"loss\": train_loss,\"accuracy\": train_acc,\"val_loss\": val_loss,\"val_accuracy\": val_acc})\n",
        "  #Setting optimization function\n",
        "  if optimization == 'sgd':\n",
        "    sgd()\n",
        "  elif optimization == 'momentum':\n",
        "    momentum_gd()\n",
        "  elif optimization == 'nesterov':\n",
        "    nesterov()\n",
        "  elif optimization == 'rmsprop':\n",
        "    rmsprop()\n",
        "  elif optimization =='adam':\n",
        "    adam()\n",
        "  elif optimization =='adagrad':\n",
        "    adagrad()  \n",
        "  else:\n",
        "    print('Optimization algo given is not available')\n",
        "  #function for errors and validation accuracy \n",
        " \n",
        "  #val_loss,val_accuracy = val_accuracy(weights,bias,x_val,y_val)\n",
        "  \n",
        "  #train_loss,train_accuracy = train_accuracy(weights,bias,X,Y)\n",
        "  #for j in range(config[\"epochs\"]):\n",
        "  #print(val_loss) #to know how the model is performing on validation set\n",
        "  #params={'epochs':epochs,'learning rate':eta,'no of hidden layers':num_hidden_layers,'layer size':size,'batch size':batch_size,'optimizer':optimization,'val loss':val_loss,'validation accuracy':val_accuracy}\n",
        "  \n",
        "  return weights,bias"
      ]
    },
    {
      "cell_type": "markdown",
      "metadata": {
        "id": "Qxl9dEz7XQc1"
      },
      "source": [
        "#**Run model on test set**"
      ]
    },
    {
      "cell_type": "code",
      "execution_count": 51,
      "metadata": {
        "colab": {
          "base_uri": "https://localhost:8080/",
          "height": 634,
          "referenced_widgets": [
            "7fe1fe3319524211a6df8805fa9ee26f",
            "f5f4ed90d4664dd3b791ec92be97b38e",
            "d544b19971b3473897e294bd339cac21",
            "940e9337240642038078526f583e8339",
            "fd87554272044918a8f4e53f5e7241d8",
            "0f703babb2f24688bfce43efa9198da3",
            "4640145ae26c401e8b67b75791c13995",
            "804074d6ff5b45fbbc2c34d7f257dc1e"
          ]
        },
        "id": "8JyJCSCdMGW_",
        "outputId": "6a387fa8-fb69-4c12-8cf4-70c89a2a7449"
      },
      "outputs": [
        {
          "output_type": "display_data",
          "data": {
            "text/html": [
              "Finishing last run (ID:2bihkucy) before initializing another..."
            ],
            "text/plain": [
              "<IPython.core.display.HTML object>"
            ]
          },
          "metadata": {}
        },
        {
          "output_type": "display_data",
          "data": {
            "text/html": [
              "<br/>Waiting for W&B process to finish, PID 563... <strong style=\"color:green\">(success).</strong>"
            ],
            "text/plain": [
              "<IPython.core.display.HTML object>"
            ]
          },
          "metadata": {}
        },
        {
          "output_type": "display_data",
          "data": {
            "application/vnd.jupyter.widget-view+json": {
              "model_id": "7fe1fe3319524211a6df8805fa9ee26f",
              "version_minor": 0,
              "version_major": 2
            },
            "text/plain": [
              "VBox(children=(Label(value=' 0.00MB of 0.00MB uploaded (0.00MB deduped)\\r'), FloatProgress(value=1.0, max=1.0)…"
            ]
          },
          "metadata": {}
        },
        {
          "output_type": "display_data",
          "data": {
            "text/html": [
              "<style>\n",
              "    table.wandb td:nth-child(1) { padding: 0 10px; text-align: right }\n",
              "    .wandb-row { display: flex; flex-direction: row; flex-wrap: wrap; width: 100% }\n",
              "    .wandb-col { display: flex; flex-direction: column; flex-basis: 100%; flex: 1; padding: 10px; }\n",
              "    </style>\n",
              "<div class=\"wandb-row\"><div class=\"wandb-col\">\n",
              "<h3>Run history:</h3><br/><table class=\"wandb\"><tr><td>accuracy</td><td>▁▇███</td></tr><tr><td>epoch</td><td>▁▃▅▆█</td></tr><tr><td>loss</td><td>█▁▁▂▃</td></tr><tr><td>val_accuracy</td><td>▁▇███</td></tr><tr><td>val_loss</td><td>█▁▁▂▃</td></tr></table><br/></div><div class=\"wandb-col\">\n",
              "<h3>Run summary:</h3><br/><table class=\"wandb\"><tr><td>accuracy</td><td>0.94254</td></tr><tr><td>epoch</td><td>4</td></tr><tr><td>loss</td><td>0.24513</td></tr><tr><td>val_accuracy</td><td>0.95067</td></tr><tr><td>val_loss</td><td>0.21705</td></tr></table>\n",
              "</div></div>\n",
              "Synced 5 W&B file(s), 0 media file(s), 0 artifact file(s) and 0 other file(s)\n",
              "<br/>Synced <strong style=\"color:#cdcd00\">dulcet-monkey-2</strong>: <a href=\"https://wandb.ai/ee20s051_ed21s007/mnist_data/runs/2bihkucy\" target=\"_blank\">https://wandb.ai/ee20s051_ed21s007/mnist_data/runs/2bihkucy</a><br/>\n",
              "Find logs at: <code>./wandb/run-20220225_160013-2bihkucy/logs</code><br/>\n"
            ],
            "text/plain": [
              "<IPython.core.display.HTML object>"
            ]
          },
          "metadata": {}
        },
        {
          "output_type": "display_data",
          "data": {
            "text/html": [
              "Successfully finished last run (ID:2bihkucy). Initializing new run:<br/>"
            ],
            "text/plain": [
              "<IPython.core.display.HTML object>"
            ]
          },
          "metadata": {}
        },
        {
          "output_type": "display_data",
          "data": {
            "text/html": [
              "\n",
              "                    Syncing run <strong><a href=\"https://wandb.ai/ee20s051_ed21s007/mnist_data/runs/2urh7p14\" target=\"_blank\">chocolate-dream-3</a></strong> to <a href=\"https://wandb.ai/ee20s051_ed21s007/mnist_data\" target=\"_blank\">Weights & Biases</a> (<a href=\"https://docs.wandb.com/integrations/jupyter.html\" target=\"_blank\">docs</a>).<br/>\n",
              "\n",
              "                "
            ],
            "text/plain": [
              "<IPython.core.display.HTML object>"
            ]
          },
          "metadata": {}
        },
        {
          "output_type": "stream",
          "name": "stdout",
          "text": [
            "epoch______0 :   <function Model_train.<locals>.train_accuracy at 0x7f08a9756dd0>\n",
            "epoch______1 :   <function Model_train.<locals>.train_accuracy at 0x7f08a9756dd0>\n",
            "epoch______2 :   <function Model_train.<locals>.train_accuracy at 0x7f08a9756dd0>\n",
            "epoch______3 :   <function Model_train.<locals>.train_accuracy at 0x7f08a9756dd0>\n",
            "epoch______4 :   <function Model_train.<locals>.train_accuracy at 0x7f08a9756dd0>\n",
            "epoch______5 :   <function Model_train.<locals>.train_accuracy at 0x7f08a9756dd0>\n",
            "epoch______6 :   <function Model_train.<locals>.train_accuracy at 0x7f08a9756dd0>\n",
            "epoch______7 :   <function Model_train.<locals>.train_accuracy at 0x7f08a9756dd0>\n",
            "epoch______8 :   <function Model_train.<locals>.train_accuracy at 0x7f08a9756dd0>\n",
            "epoch______9 :   <function Model_train.<locals>.train_accuracy at 0x7f08a9756dd0>\n",
            "epoch______10 :   <function Model_train.<locals>.train_accuracy at 0x7f08a9756dd0>\n",
            "epoch______11 :   <function Model_train.<locals>.train_accuracy at 0x7f08a9756dd0>\n",
            "epoch______12 :   <function Model_train.<locals>.train_accuracy at 0x7f08a9756dd0>\n",
            "epoch______13 :   <function Model_train.<locals>.train_accuracy at 0x7f08a9756dd0>\n",
            "epoch______14 :   <function Model_train.<locals>.train_accuracy at 0x7f08a9756dd0>\n"
          ]
        }
      ],
      "source": [
        "#following block of code to get test set error and accuracy\n",
        "W,b = Model_train()\n",
        "\n",
        "# function to return test error and accuracy\n",
        "def test_model():\n",
        "  f_x=np.zeros([10000,10])\n",
        "  for i in range(10000):\n",
        "    f_x[i],A,H=forward_propogation(W,b,x_test[i]) #Ingnore A and H values, here we need only f_x value\n",
        "  test_pred=np.argmax(f_x,axis=1)\n",
        "  test_acc=accuracy_score(test_pred,y_test)\n",
        "  return test_acc,test_pred"
      ]
    },
    {
      "cell_type": "code",
      "execution_count": 52,
      "metadata": {
        "colab": {
          "base_uri": "https://localhost:8080/"
        },
        "id": "uye3YAZW7itD",
        "outputId": "c76267b9-e2df-483b-9680-c6430a045e1d"
      },
      "outputs": [
        {
          "output_type": "execute_result",
          "data": {
            "text/plain": [
              "0.9606"
            ]
          },
          "metadata": {},
          "execution_count": 52
        }
      ],
      "source": [
        "accuracy,pred = test_model()\n",
        "accuracy"
      ]
    },
    {
      "cell_type": "code",
      "execution_count": 53,
      "metadata": {
        "colab": {
          "base_uri": "https://localhost:8080/",
          "height": 580
        },
        "id": "042ri_f9rGWw",
        "outputId": "1a0fdbed-5335-41df-af48-8518c093f5f9"
      },
      "outputs": [
        {
          "output_type": "display_data",
          "data": {
            "image/png": "[encoded data removed]",
            "text/plain": [
              "<Figure size 720x720 with 2 Axes>"
            ]
          },
          "metadata": {
            "needs_background": "light"
          }
        }
      ],
      "source": [
        "test_acc,test_pred=test_model()\n",
        "ytest_pred=[class_names[k] for k in test_pred]\n",
        "ytest=[class_names[k]  for k in y_test]\n",
        "confusion_mat=skplt.metrics.plot_confusion_matrix(ytest,ytest_pred,figsize=(10,10))"
      ]
    }
  ],
  "metadata": {
    "accelerator": "GPU",
    "colab": {
      "collapsed_sections": [],
      "name": "mnnist_digit.ipynb",
      "provenance": []
    },
    "kernelspec": {
      "display_name": "Python 3",
      "language": "python",
      "name": "python3"
    },
    "language_info": {
      "codemirror_mode": {
        "name": "ipython",
        "version": 3
      },
      "file_extension": ".py",
      "mimetype": "text/x-python",
      "name": "python",
      "nbconvert_exporter": "python",
      "pygments_lexer": "ipython3",
      "version": "3.8.5"
    },
    "widgets": {
      "application/vnd.jupyter.widget-state+json": {
        "7fe1fe3319524211a6df8805fa9ee26f": {
          "model_module": "@jupyter-widgets/controls",
          "model_name": "VBoxModel",
          "model_module_version": "1.5.0",
          "state": {
            "_view_name": "VBoxView",
            "_dom_classes": [],
            "_model_name": "VBoxModel",
            "_view_module": "@jupyter-widgets/controls",
            "_model_module_version": "1.5.0",
            "_view_count": null,
            "_view_module_version": "1.5.0",
            "box_style": "",
            "layout": "IPY_MODEL_f5f4ed90d4664dd3b791ec92be97b38e",
            "_model_module": "@jupyter-widgets/controls",
            "children": [
              "IPY_MODEL_d544b19971b3473897e294bd339cac21",
              "IPY_MODEL_940e9337240642038078526f583e8339"
            ]
          }
        },
        "f5f4ed90d4664dd3b791ec92be97b38e": {
          "model_module": "@jupyter-widgets/base",
          "model_name": "LayoutModel",
          "model_module_version": "1.2.0",
          "state": {
            "_view_name": "LayoutView",
            "grid_template_rows": null,
            "right": null,
            "justify_content": null,
            "_view_module": "@jupyter-widgets/base",
            "overflow": null,
            "_model_module_version": "1.2.0",
            "_view_count": null,
            "flex_flow": null,
            "width": null,
            "min_width": null,
            "border": null,
            "align_items": null,
            "bottom": null,
            "_model_module": "@jupyter-widgets/base",
            "top": null,
            "grid_column": null,
            "overflow_y": null,
            "overflow_x": null,
            "grid_auto_flow": null,
            "grid_area": null,
            "grid_template_columns": null,
            "flex": null,
            "_model_name": "LayoutModel",
            "justify_items": null,
            "grid_row": null,
            "max_height": null,
            "align_content": null,
            "visibility": null,
            "align_self": null,
            "height": null,
            "min_height": null,
            "padding": null,
            "grid_auto_rows": null,
            "grid_gap": null,
            "max_width": null,
            "order": null,
            "_view_module_version": "1.2.0",
            "grid_template_areas": null,
            "object_position": null,
            "object_fit": null,
            "grid_auto_columns": null,
            "margin": null,
            "display": null,
            "left": null
          }
        },
        "d544b19971b3473897e294bd339cac21": {
          "model_module": "@jupyter-widgets/controls",
          "model_name": "LabelModel",
          "model_module_version": "1.5.0",
          "state": {
            "_view_name": "LabelView",
            "style": "IPY_MODEL_fd87554272044918a8f4e53f5e7241d8",
            "_dom_classes": [],
            "description": "",
            "_model_name": "LabelModel",
            "placeholder": "​",
            "_view_module": "@jupyter-widgets/controls",
            "_model_module_version": "1.5.0",
            "value": " 0.01MB of 0.01MB uploaded (0.00MB deduped)\r",
            "_view_count": null,
            "_view_module_version": "1.5.0",
            "description_tooltip": null,
            "_model_module": "@jupyter-widgets/controls",
            "layout": "IPY_MODEL_0f703babb2f24688bfce43efa9198da3"
          }
        },
        "940e9337240642038078526f583e8339": {
          "model_module": "@jupyter-widgets/controls",
          "model_name": "FloatProgressModel",
          "model_module_version": "1.5.0",
          "state": {
            "_view_name": "ProgressView",
            "style": "IPY_MODEL_4640145ae26c401e8b67b75791c13995",
            "_dom_classes": [],
            "description": "",
            "_model_name": "FloatProgressModel",
            "bar_style": "",
            "max": 1,
            "_view_module": "@jupyter-widgets/controls",
            "_model_module_version": "1.5.0",
            "value": 1,
            "_view_count": null,
            "_view_module_version": "1.5.0",
            "orientation": "horizontal",
            "min": 0,
            "description_tooltip": null,
            "_model_module": "@jupyter-widgets/controls",
            "layout": "IPY_MODEL_804074d6ff5b45fbbc2c34d7f257dc1e"
          }
        },
        "fd87554272044918a8f4e53f5e7241d8": {
          "model_module": "@jupyter-widgets/controls",
          "model_name": "DescriptionStyleModel",
          "model_module_version": "1.5.0",
          "state": {
            "_view_name": "StyleView",
            "_model_name": "DescriptionStyleModel",
            "description_width": "",
            "_view_module": "@jupyter-widgets/base",
            "_model_module_version": "1.5.0",
            "_view_count": null,
            "_view_module_version": "1.2.0",
            "_model_module": "@jupyter-widgets/controls"
          }
        },
        "0f703babb2f24688bfce43efa9198da3": {
          "model_module": "@jupyter-widgets/base",
          "model_name": "LayoutModel",
          "model_module_version": "1.2.0",
          "state": {
            "_view_name": "LayoutView",
            "grid_template_rows": null,
            "right": null,
            "justify_content": null,
            "_view_module": "@jupyter-widgets/base",
            "overflow": null,
            "_model_module_version": "1.2.0",
            "_view_count": null,
            "flex_flow": null,
            "width": null,
            "min_width": null,
            "border": null,
            "align_items": null,
            "bottom": null,
            "_model_module": "@jupyter-widgets/base",
            "top": null,
            "grid_column": null,
            "overflow_y": null,
            "overflow_x": null,
            "grid_auto_flow": null,
            "grid_area": null,
            "grid_template_columns": null,
            "flex": null,
            "_model_name": "LayoutModel",
            "justify_items": null,
            "grid_row": null,
            "max_height": null,
            "align_content": null,
            "visibility": null,
            "align_self": null,
            "height": null,
            "min_height": null,
            "padding": null,
            "grid_auto_rows": null,
            "grid_gap": null,
            "max_width": null,
            "order": null,
            "_view_module_version": "1.2.0",
            "grid_template_areas": null,
            "object_position": null,
            "object_fit": null,
            "grid_auto_columns": null,
            "margin": null,
            "display": null,
            "left": null
          }
        },
        "4640145ae26c401e8b67b75791c13995": {
          "model_module": "@jupyter-widgets/controls",
          "model_name": "ProgressStyleModel",
          "model_module_version": "1.5.0",
          "state": {
            "_view_name": "StyleView",
            "_model_name": "ProgressStyleModel",
            "description_width": "",
            "_view_module": "@jupyter-widgets/base",
            "_model_module_version": "1.5.0",
            "_view_count": null,
            "_view_module_version": "1.2.0",
            "bar_color": null,
            "_model_module": "@jupyter-widgets/controls"
          }
        },
        "804074d6ff5b45fbbc2c34d7f257dc1e": {
          "model_module": "@jupyter-widgets/base",
          "model_name": "LayoutModel",
          "model_module_version": "1.2.0",
          "state": {
            "_view_name": "LayoutView",
            "grid_template_rows": null,
            "right": null,
            "justify_content": null,
            "_view_module": "@jupyter-widgets/base",
            "overflow": null,
            "_model_module_version": "1.2.0",
            "_view_count": null,
            "flex_flow": null,
            "width": null,
            "min_width": null,
            "border": null,
            "align_items": null,
            "bottom": null,
            "_model_module": "@jupyter-widgets/base",
            "top": null,
            "grid_column": null,
            "overflow_y": null,
            "overflow_x": null,
            "grid_auto_flow": null,
            "grid_area": null,
            "grid_template_columns": null,
            "flex": null,
            "_model_name": "LayoutModel",
            "justify_items": null,
            "grid_row": null,
            "max_height": null,
            "align_content": null,
            "visibility": null,
            "align_self": null,
            "height": null,
            "min_height": null,
            "padding": null,
            "grid_auto_rows": null,
            "grid_gap": null,
            "max_width": null,
            "order": null,
            "_view_module_version": "1.2.0",
            "grid_template_areas": null,
            "object_position": null,
            "object_fit": null,
            "grid_auto_columns": null,
            "margin": null,
            "display": null,
            "left": null
          }
        }
      }
    }
  },
  "nbformat": 4,
  "nbformat_minor": 0
}