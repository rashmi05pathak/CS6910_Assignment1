{
  "cells": [
    {
      "cell_type": "markdown",
      "metadata": {
        "id": "view-in-github",
        "colab_type": "text"
      },
      "source": [
        "<a href=\"https://colab.research.google.com/github/rashmi05pathak/CS6910_Assignment1/blob/main/EE20S051_ED21S007_DL_Assignment1.ipynb\" target=\"_parent\"><img src=\"https://colab.research.google.com/assets/colab-badge.svg\" alt=\"Open In Colab\"/></a>"
      ]
    },
    {
      "cell_type": "markdown",
      "metadata": {
        "id": "ed3Fegt5GrCK"
      },
      "source": [
        "#**Deep Learning Assignment 1 - Fashion MNIST dataset**"
      ]
    },
    {
      "cell_type": "code",
      "execution_count": 69,
      "metadata": {
        "colab": {
          "base_uri": "https://localhost:8080/"
        },
        "id": "oVIecPIIJGfF",
        "outputId": "27b534a2-cd59-49f8-91e6-02b6b16aaaa6"
      },
      "outputs": [
        {
          "output_type": "stream",
          "name": "stdout",
          "text": [
            "Requirement already satisfied: wandb in /usr/local/lib/python3.7/dist-packages (0.12.10)\n",
            "Requirement already satisfied: PyYAML in /usr/local/lib/python3.7/dist-packages (from wandb) (3.13)\n",
            "Requirement already satisfied: psutil>=5.0.0 in /usr/local/lib/python3.7/dist-packages (from wandb) (5.4.8)\n",
            "Requirement already satisfied: six>=1.13.0 in /usr/local/lib/python3.7/dist-packages (from wandb) (1.15.0)\n",
            "Requirement already satisfied: sentry-sdk>=1.0.0 in /usr/local/lib/python3.7/dist-packages (from wandb) (1.5.6)\n",
            "Requirement already satisfied: pathtools in /usr/local/lib/python3.7/dist-packages (from wandb) (0.1.2)\n",
            "Requirement already satisfied: python-dateutil>=2.6.1 in /usr/local/lib/python3.7/dist-packages (from wandb) (2.8.2)\n",
            "Requirement already satisfied: requests<3,>=2.0.0 in /usr/local/lib/python3.7/dist-packages (from wandb) (2.23.0)\n",
            "Requirement already satisfied: GitPython>=1.0.0 in /usr/local/lib/python3.7/dist-packages (from wandb) (3.1.27)\n",
            "Requirement already satisfied: shortuuid>=0.5.0 in /usr/local/lib/python3.7/dist-packages (from wandb) (1.0.8)\n",
            "Requirement already satisfied: Click!=8.0.0,>=7.0 in /usr/local/lib/python3.7/dist-packages (from wandb) (7.1.2)\n",
            "Requirement already satisfied: protobuf>=3.12.0 in /usr/local/lib/python3.7/dist-packages (from wandb) (3.17.3)\n",
            "Requirement already satisfied: docker-pycreds>=0.4.0 in /usr/local/lib/python3.7/dist-packages (from wandb) (0.4.0)\n",
            "Requirement already satisfied: promise<3,>=2.0 in /usr/local/lib/python3.7/dist-packages (from wandb) (2.3)\n",
            "Requirement already satisfied: yaspin>=1.0.0 in /usr/local/lib/python3.7/dist-packages (from wandb) (2.1.0)\n",
            "Requirement already satisfied: typing-extensions>=3.7.4.3 in /usr/local/lib/python3.7/dist-packages (from GitPython>=1.0.0->wandb) (3.10.0.2)\n",
            "Requirement already satisfied: gitdb<5,>=4.0.1 in /usr/local/lib/python3.7/dist-packages (from GitPython>=1.0.0->wandb) (4.0.9)\n",
            "Requirement already satisfied: smmap<6,>=3.0.1 in /usr/local/lib/python3.7/dist-packages (from gitdb<5,>=4.0.1->GitPython>=1.0.0->wandb) (5.0.0)\n",
            "Requirement already satisfied: urllib3!=1.25.0,!=1.25.1,<1.26,>=1.21.1 in /usr/local/lib/python3.7/dist-packages (from requests<3,>=2.0.0->wandb) (1.24.3)\n",
            "Requirement already satisfied: certifi>=2017.4.17 in /usr/local/lib/python3.7/dist-packages (from requests<3,>=2.0.0->wandb) (2021.10.8)\n",
            "Requirement already satisfied: idna<3,>=2.5 in /usr/local/lib/python3.7/dist-packages (from requests<3,>=2.0.0->wandb) (2.10)\n",
            "Requirement already satisfied: chardet<4,>=3.0.2 in /usr/local/lib/python3.7/dist-packages (from requests<3,>=2.0.0->wandb) (3.0.4)\n",
            "Requirement already satisfied: termcolor<2.0.0,>=1.1.0 in /usr/local/lib/python3.7/dist-packages (from yaspin>=1.0.0->wandb) (1.1.0)\n",
            "Requirement already satisfied: scikit-plot in /usr/local/lib/python3.7/dist-packages (0.3.7)\n",
            "Requirement already satisfied: matplotlib>=1.4.0 in /usr/local/lib/python3.7/dist-packages (from scikit-plot) (3.2.2)\n",
            "Requirement already satisfied: scikit-learn>=0.18 in /usr/local/lib/python3.7/dist-packages (from scikit-plot) (1.0.2)\n",
            "Requirement already satisfied: joblib>=0.10 in /usr/local/lib/python3.7/dist-packages (from scikit-plot) (1.1.0)\n",
            "Requirement already satisfied: scipy>=0.9 in /usr/local/lib/python3.7/dist-packages (from scikit-plot) (1.4.1)\n",
            "Requirement already satisfied: cycler>=0.10 in /usr/local/lib/python3.7/dist-packages (from matplotlib>=1.4.0->scikit-plot) (0.11.0)\n",
            "Requirement already satisfied: pyparsing!=2.0.4,!=2.1.2,!=2.1.6,>=2.0.1 in /usr/local/lib/python3.7/dist-packages (from matplotlib>=1.4.0->scikit-plot) (3.0.7)\n",
            "Requirement already satisfied: python-dateutil>=2.1 in /usr/local/lib/python3.7/dist-packages (from matplotlib>=1.4.0->scikit-plot) (2.8.2)\n",
            "Requirement already satisfied: kiwisolver>=1.0.1 in /usr/local/lib/python3.7/dist-packages (from matplotlib>=1.4.0->scikit-plot) (1.3.2)\n",
            "Requirement already satisfied: numpy>=1.11 in /usr/local/lib/python3.7/dist-packages (from matplotlib>=1.4.0->scikit-plot) (1.21.5)\n",
            "Requirement already satisfied: six>=1.5 in /usr/local/lib/python3.7/dist-packages (from python-dateutil>=2.1->matplotlib>=1.4.0->scikit-plot) (1.15.0)\n",
            "Requirement already satisfied: threadpoolctl>=2.0.0 in /usr/local/lib/python3.7/dist-packages (from scikit-learn>=0.18->scikit-plot) (3.1.0)\n"
          ]
        }
      ],
      "source": [
        "!pip install wandb\n",
        "!pip install scikit-plot"
      ]
    },
    {
      "cell_type": "markdown",
      "metadata": {
        "id": "75MsIZ4JHGvO"
      },
      "source": [
        "#**Libraries**"
      ]
    },
    {
      "cell_type": "code",
      "execution_count": 70,
      "metadata": {
        "id": "ZuK0pkO0-NEl"
      },
      "outputs": [],
      "source": [
        "import numpy as np\n",
        "import pandas as pd\n",
        "import keras\n",
        "import math\n",
        "import matplotlib.pyplot as plt\n",
        "from keras.datasets import fashion_mnist\n",
        "import wandb\n",
        "import tensorflow as tf\n",
        "import tensorflow_datasets as tdfs\n",
        "from sklearn.metrics import accuracy_score\n",
        "import scikitplot as skplt\n",
        "from sklearn.metrics import confusion_matrix"
      ]
    },
    {
      "cell_type": "markdown",
      "metadata": {
        "id": "bA_oP0S3Hq1J"
      },
      "source": [
        "**Visualizing Dataset**"
      ]
    },
    {
      "cell_type": "code",
      "execution_count": 71,
      "metadata": {
        "colab": {
          "base_uri": "https://localhost:8080/",
          "height": 555
        },
        "id": "Jv_U2q2O_Ae1",
        "outputId": "3fefbbfa-da70-4151-e5ef-a216eb1529b1"
      },
      "outputs": [
        {
          "output_type": "display_data",
          "data": {
            "image/png": "[encoded data removed]",
            "text/plain": [
              "<Figure size 720x720 with 10 Axes>"
            ]
          },
          "metadata": {
            "needs_background": "light"
          }
        }
      ],
      "source": [
        "# getting one sample image from each class and visualizing \n",
        "(trainx, trainy), (testx, testy)= fashion_mnist.load_data()\n",
        "classes = np.unique(trainy)\n",
        "index_mat = [0]*10\n",
        "for i in classes:\n",
        "  index_mat[i] = trainy.tolist().index(i)\n",
        "\n",
        "plt.figure(figsize=(10,10))\n",
        "\n",
        "for j, i in enumerate(index_mat):\n",
        "  plt.subplot(3,4,j+1)\n",
        "  plt.imshow(trainx[i], cmap=plt.get_cmap('gray'))\n",
        "  \n",
        "plt.show()"
      ]
    },
    {
      "cell_type": "code",
      "execution_count": 72,
      "metadata": {
        "id": "SKCCm1xqxYkG"
      },
      "outputs": [],
      "source": [
        "class_names=['T-shirt/top','Trouser','Pullover','Dress','Coat','Sandal','Shirt','Sneaker','Bag','Ankle boot']"
      ]
    },
    {
      "cell_type": "code",
      "execution_count": 73,
      "metadata": {
        "colab": {
          "base_uri": "https://localhost:8080/",
          "height": 360,
          "referenced_widgets": [
            "be8c35486f6149b082db4f35991b9ce2",
            "e03a5248b2d44407bb7c7e26763bb5d5",
            "92b801f9386643febd286c3c6b65be37",
            "457d70960b59462d810416ee174d0725",
            "fe76b5e5687c47b2b751825950e22651",
            "bdf0dad2fdaf416682460f2a6196b65b",
            "82a508e519874d5bba1bf960a588d3dc",
            "3e65d2e7154545e6b35d1069df3f9549"
          ]
        },
        "id": "63jtDyXR-8Wb",
        "outputId": "280d5988-c8c2-4a49-adfa-78fa7a2ac020"
      },
      "outputs": [
        {
          "output_type": "display_data",
          "data": {
            "text/html": [
              "Finishing last run (ID:7g3qchlj) before initializing another..."
            ],
            "text/plain": [
              "<IPython.core.display.HTML object>"
            ]
          },
          "metadata": {}
        },
        {
          "output_type": "display_data",
          "data": {
            "text/html": [
              "<br/>Waiting for W&B process to finish, PID 965... <strong style=\"color:green\">(success).</strong>"
            ],
            "text/plain": [
              "<IPython.core.display.HTML object>"
            ]
          },
          "metadata": {}
        },
        {
          "output_type": "display_data",
          "data": {
            "application/vnd.jupyter.widget-view+json": {
              "model_id": "be8c35486f6149b082db4f35991b9ce2",
              "version_minor": 0,
              "version_major": 2
            },
            "text/plain": [
              "VBox(children=(Label(value=' 0.00MB of 0.00MB uploaded (0.00MB deduped)\\r'), FloatProgress(value=1.0, max=1.0)…"
            ]
          },
          "metadata": {}
        },
        {
          "output_type": "display_data",
          "data": {
            "text/html": [
              "<style>\n",
              "    table.wandb td:nth-child(1) { padding: 0 10px; text-align: right }\n",
              "    .wandb-row { display: flex; flex-direction: row; flex-wrap: wrap; width: 100% }\n",
              "    .wandb-col { display: flex; flex-direction: column; flex-basis: 100%; flex: 1; padding: 10px; }\n",
              "    </style>\n",
              "<div class=\"wandb-row\"><div class=\"wandb-col\">\n",
              "<h3>Run history:</h3><br/><table class=\"wandb\"><tr><td>accuracy</td><td>▁▂▂▃▄▅▅▆▆▇▇▇███</td></tr><tr><td>epoch</td><td>▁▁▂▃▃▃▄▅▅▅▆▇▇▇█</td></tr><tr><td>loss</td><td>██▇▅▄▄▃▃▃▂▂▂▁▁▁</td></tr><tr><td>val_accuracy</td><td>▁▂▂▃▄▅▅▆▆▇▇▇███</td></tr><tr><td>val_loss</td><td>██▇▅▄▄▃▃▂▂▂▂▁▁▁</td></tr></table><br/></div><div class=\"wandb-col\">\n",
              "<h3>Run summary:</h3><br/><table class=\"wandb\"><tr><td>accuracy</td><td>0.77846</td></tr><tr><td>epoch</td><td>14</td></tr><tr><td>loss</td><td>0.65053</td></tr><tr><td>val_accuracy</td><td>0.77617</td></tr><tr><td>val_loss</td><td>0.65806</td></tr></table>\n",
              "</div></div>\n",
              "Synced 5 W&B file(s), 0 media file(s), 0 artifact file(s) and 0 other file(s)\n",
              "<br/>Synced <strong style=\"color:#cdcd00\">peachy-wind-10</strong>: <a href=\"https://wandb.ai/rashmi05pathak/Assignment_try1/runs/7g3qchlj\" target=\"_blank\">https://wandb.ai/rashmi05pathak/Assignment_try1/runs/7g3qchlj</a><br/>\n",
              "Find logs at: <code>./wandb/run-20220225_112601-7g3qchlj/logs</code><br/>\n"
            ],
            "text/plain": [
              "<IPython.core.display.HTML object>"
            ]
          },
          "metadata": {}
        },
        {
          "output_type": "display_data",
          "data": {
            "text/html": [
              "Successfully finished last run (ID:7g3qchlj). Initializing new run:<br/>"
            ],
            "text/plain": [
              "<IPython.core.display.HTML object>"
            ]
          },
          "metadata": {}
        },
        {
          "output_type": "display_data",
          "data": {
            "text/html": [
              "\n",
              "                    Syncing run <strong><a href=\"https://wandb.ai/rashmi05pathak/Assignment_try1/runs/3p0wwths\" target=\"_blank\">chocolate-morning-11</a></strong> to <a href=\"https://wandb.ai/rashmi05pathak/Assignment_try1\" target=\"_blank\">Weights & Biases</a> (<a href=\"https://docs.wandb.com/integrations/jupyter.html\" target=\"_blank\">docs</a>).<br/>\n",
              "\n",
              "                "
            ],
            "text/plain": [
              "<IPython.core.display.HTML object>"
            ]
          },
          "metadata": {}
        }
      ],
      "source": [
        "#display images with names in wandb \n",
        "#uncomment the following lines logging images in wandb\n",
        "wandb.init(entity='rashmi05pathak',project='Assignment_try1')\n",
        "wandb.log({'sample':[wandb.Image(trainx[i],caption=class_names[trainy[i]]) for i in index_mat]})"
      ]
    },
    {
      "cell_type": "code",
      "execution_count": 88,
      "metadata": {
        "id": "zcRfsy9P--ak"
      },
      "outputs": [],
      "source": [
        "class_names=['T-shirt/top','Trouser','Pullover','Dress','Coat','Sandal','Shirt','Sneaker','Bag','Ankle boot']\n",
        "\n",
        "#normalising input x\n",
        "\n",
        "x_train = trainx.reshape(60000,784)/255.0\n",
        "x_test=testx.reshape(10000,784)/255.0\n",
        "y_test=testy\n",
        "#one hot encoding y train\n",
        "temp = np.zeros((60000,10))\n",
        "temp[np.arange(60000),trainy] = 1\n",
        "y_train=temp"
      ]
    },
    {
      "cell_type": "markdown",
      "metadata": {
        "id": "8oCqtQBVtXsS"
      },
      "source": [
        "**Define hyperparameters**"
      ]
    },
    {
      "cell_type": "code",
      "execution_count": 75,
      "metadata": {
        "id": "gOOGjmyOUcRK"
      },
      "outputs": [],
      "source": [
        "# hyperparameters to be used for training\n",
        "config_defaults = {\n",
        "        'epochs': 15,\n",
        "        'batch_size':32,\n",
        "        'hidden_layers':4,\n",
        "        'eta': 0.001,\n",
        "        'size':32,\n",
        "        'activation': 'sigmoid',      \n",
        "        'optimizer': 'sgd',       \n",
        "        'wt_decay':0.05,\n",
        "        'wt_init':'xavier'\n",
        "        }\n",
        "\n",
        "config=config_defaults  "
      ]
    },
    {
      "cell_type": "code",
      "execution_count": 35,
      "metadata": {
        "id": "nIo-diz97IzO"
      },
      "outputs": [],
      "source": [
        "#hyperparameters config used for wandb sweep using grid search\n",
        "sweep_config = {\n",
        "  'name': 'sweep6',  \n",
        "  'method': 'grid',\n",
        "  'parameters': {\n",
        "        'epochs': {\n",
        "            'values': [5]\n",
        "        },\n",
        "        'batch_size':{\n",
        "            'values':[32]\n",
        "        },\n",
        "        'hidden_layers':{\n",
        "            'values':[3,4]\n",
        "        },\n",
        "        'eta': {\n",
        "            'values': [0.005]\n",
        "        },\n",
        "        'size':{\n",
        "            'values':[32,64]\n",
        "        },\n",
        "        'optimizer': {\n",
        "            'values': ['adam','rmsprop']\n",
        "        },\n",
        "        'activation': {\n",
        "            'values': ['sigmoid','tanh','relu']\n",
        "        },\n",
        "        'wt_decay': {\n",
        "            'values': [0.005,0.05]\n",
        "        },\n",
        "        'wt_init':{\n",
        "            'values':['xavier','random']\n",
        "        }\n",
        "    }\n",
        "}"
      ]
    },
    {
      "cell_type": "code",
      "execution_count": 76,
      "metadata": {
        "id": "G3pDJFFyl-cX"
      },
      "outputs": [],
      "source": [
        "sweep_config = {\n",
        "        'method': 'bayes',\n",
        "        \"name\": \"assignement1-Sweep2\",\n",
        "        'metric':{\n",
        "            'goal': 'maximize',\n",
        "            'name': 'val_accuracy'\n",
        "        },\n",
        "        'parameters': {\n",
        "        'epochs': {\n",
        "            'values': [5,10,15]\n",
        "        },\n",
        "        'no_hidden_layers':{\n",
        "            'values': [3,4,5]\n",
        "        },\n",
        "        'size_hidden_layers':{\n",
        "            'values': [64,128]\n",
        "        },\n",
        "        'learning_rate':{\n",
        "            'values': [0.001,0.01,0.0001,0.05,0.02]\n",
        "        },\n",
        "        'optimizer':{\n",
        "            'values': ['momentum','sgd','rmsprop','nesterov','adam']\n",
        "        },\n",
        "        'batch_size':{\n",
        "            'values': [32,64,128]\n",
        "        },\n",
        "        'activation':{\n",
        "            'values': ['sigmoid','tanh','Relu']\n",
        "        },\n",
        "        'weight_initializations':{\n",
        "            'values': ['random','xavier']\n",
        "        },\n",
        "        'weight_decay':{\n",
        "            'values': [0,0.0005,0.05]\n",
        "        }\n",
        "\n",
        "    }\n",
        "    }"
      ]
    },
    {
      "cell_type": "code",
      "source": [
        "config"
      ],
      "metadata": {
        "colab": {
          "base_uri": "https://localhost:8080/"
        },
        "id": "XoZLucVzh8-U",
        "outputId": "0c19567e-e910-4eea-a3f6-b747e928a3d3"
      },
      "execution_count": 10,
      "outputs": [
        {
          "output_type": "execute_result",
          "data": {
            "text/plain": [
              "{'activation': 'sigmoid',\n",
              " 'batch_size': 32,\n",
              " 'epochs': 10,\n",
              " 'eta': 0.001,\n",
              " 'hidden_layers': 3,\n",
              " 'optimizer': 'rmsprop',\n",
              " 'size': 32,\n",
              " 'wt_decay': 0.05,\n",
              " 'wt_init': 'xavier'}"
            ]
          },
          "metadata": {},
          "execution_count": 10
        }
      ]
    },
    {
      "cell_type": "markdown",
      "metadata": {
        "id": "IFFAvgJ8Y1Sa"
      },
      "source": [
        "**Activation function definitions** **And Weight-bias initialization**"
      ]
    },
    {
      "cell_type": "code",
      "execution_count": 77,
      "metadata": {
        "id": "UOL1lVF-XNso"
      },
      "outputs": [],
      "source": [
        "#Defining activation functions and their derivatives\n",
        "\n",
        "def sigmoid(x):\n",
        "  return 1/(1+np.exp(-x))\n",
        "\n",
        "def tanh(x):\n",
        "  return (np.exp(x)-np.exp(-x))/(np.exp(x)+np.exp(-x))\n",
        "\n",
        "def relu(x):\n",
        "  t=np.array((np.maximum(0,x)),dtype=np.longdouble)\n",
        "  return t\n",
        "\n",
        "def grad_tanh(x):\n",
        "  return 1-(tanh(x))**2\n",
        "\n",
        "def grad_relu(x):\n",
        "  t = np.where(x < 0, 0, x)\n",
        "  return t\n",
        "\n",
        "def grad_sigmoid(x):\n",
        "  return (sigmoid(x)*(1-sigmoid(x)))\n",
        "\n",
        "def softmax(x):\n",
        "  exps = np.exp(x )\n",
        "  return exps / np.sum(exps)\n",
        "\n",
        "#Defining initialization of weight and bias: random and xavier initialization\n",
        "def init_random(num_weight_mat,num_nodes):\n",
        "    weights={}\n",
        "    bias = {}\n",
        "    for i in  range(1,num_weight_mat+1):\n",
        "      weights['W%s'% i] = np.random.randn(int(num_nodes[i]),int(num_nodes[i-1]))\n",
        "      bias['b%s'% i] = np.random.randn(int(num_nodes[i]))\n",
        "    \n",
        "    return weights, bias\n",
        "\n",
        "def init_xavier(num_weight_mat,num_nodes):\n",
        "    weights={}\n",
        "    bias = {}\n",
        "    for i in  range(1,num_weight_mat+1):\n",
        "      weights['W%s'%i] = np.random.normal(0, math.sqrt(1/num_nodes[i-1]) ,size=([int(num_nodes[i]),int(num_nodes[i-1])]))\n",
        "      bias['b%s'%i] = np.zeros(int(num_nodes[i]))\n",
        "    \n",
        "    return weights, bias\n",
        "\n",
        "def init_zeros(num_weight_mat,num_nodes):\n",
        "    #print(num_weight_mat)\n",
        "    weights={}\n",
        "    bias = {}\n",
        "    for i in  range(1,num_weight_mat+1):\n",
        "      weights['W%s'% i] = np.zeros([int(num_nodes[i]),int(num_nodes[i-1])])\n",
        "      bias['b%s'% i] = np.zeros(int(num_nodes[i]))\n",
        "\n",
        "    return weights,bias"
      ]
    },
    {
      "cell_type": "code",
      "execution_count": 78,
      "metadata": {
        "id": "AiXPtsIFNxPz"
      },
      "outputs": [],
      "source": [
        "#Setting activation function and its derivative\n",
        "activation_fun = config['activation']\n",
        "if activation_fun == 'sigmoid':\n",
        "    activ = sigmoid\n",
        "    der_activ = grad_sigmoid\n",
        "elif activation_fun == 'tanh':\n",
        "    activ = tanh\n",
        "    der_activ = grad_tanh\n",
        "elif activation_fun == 'relu':\n",
        "    activ = relu\n",
        "    der_activ = grad_relu\n",
        "\n",
        "#Setting output function\n",
        "output = softmax \n",
        "activation = activ\n",
        "  \n",
        "\n",
        "#Forward propogation\n",
        "def forward_propogation(weights, bias, x):\n",
        "    num_weight_mat = len(weights)\n",
        "    num_hidden_layers = num_weight_mat-1\n",
        "    Acti = {}\n",
        "    H = {}\n",
        "    \n",
        "    H['H0'] = x\n",
        "    \n",
        "    for i in range(1,num_hidden_layers+1):\n",
        "      Acti[('A%s'% i)] = np.matmul(weights['W%s'% i],H[('H%s'% (i-1))])+bias['b%s'% i]\n",
        "      H['H%s'% i] = activation(Acti['A%s'% i])\n",
        "    \n",
        "    Acti['A%s'%(num_hidden_layers+1)]= np.matmul(weights['W%s'% (num_hidden_layers+1)],H['H%s'% (num_hidden_layers)])+bias['b%s'% (num_hidden_layers+1)]\n",
        "    y_hat = output(Acti['A%s'% (num_hidden_layers+1)])  \n",
        "    \n",
        "    return y_hat, Acti, H\n",
        "  \n",
        "\n",
        "  #Backward propogation\n",
        "def backward_propogation(w, b, x, y):\n",
        "    grad_A = {}\n",
        "    grad_W = {}\n",
        "    grad_b = {}\n",
        "    grad_H = {}  \n",
        "\n",
        "    num_weight_mat = len(w)\n",
        "    num_hidden_layers = num_weight_mat-1\n",
        "\n",
        "    y_hat, A, H = forward_propogation(w, b, x)\n",
        "\n",
        "    grad_A['A%s'% (num_hidden_layers+1)] = -(y-y_hat)  #cross entropy loss\n",
        "    #l = np.argmax(y)                                              # squared error loss  \n",
        "    #grad_A['A%s'% (num_hidden_layers+1)] = -y_hat[l]*(y-y_hat)**2 #squared error loss\n",
        "    \n",
        "    for i in range(num_hidden_layers+1, 1, -1):\n",
        "      \n",
        "      grad_W['W%s'%i] = np.matmul(grad_A['A%s'%i].reshape(-1,1), H['H%s'%(i-1)].reshape(1,-1))\n",
        "\n",
        "      grad_b['b%s'%i] = grad_A['A%s'%i]\n",
        "\n",
        "      grad_H['H%s'%(i-1)] = np.dot(np.transpose(w['W%s'%i]), grad_A['A%s'%i]) \n",
        "\n",
        "      grad_A['A%s'%(i-1)] = np.multiply(grad_H['H%s'%(i-1)], der_activ(A['A%s'%(i-1)]))\n",
        "\n",
        "    grad_W['W1'] = np.multiply(grad_A['A1'].reshape(-1,1), H['H0'].reshape(1,-1))\n",
        "\n",
        "    grad_b['b1'] = grad_A['A1']\n",
        "\n",
        "    return grad_W, grad_b"
      ]
    },
    {
      "cell_type": "markdown",
      "metadata": {
        "id": "O12WuMf5dpfS"
      },
      "source": [
        "#**Training the model using various optimisers**"
      ]
    },
    {
      "cell_type": "code",
      "execution_count": 79,
      "metadata": {
        "id": "SJpDL67pg-0Q"
      },
      "outputs": [],
      "source": [
        "def Model_train():            #define inputs\n",
        "  \n",
        "  X = x_train[:54000]\n",
        "  Y = y_train[:54000]\n",
        "\n",
        "  x_val = x_train[54000:]\n",
        "  y_val = y_train[54000:]\n",
        "  \n",
        "\n",
        "  #get inputs from config\n",
        "  eta = config['eta']\n",
        "  epochs = config['epochs']\n",
        "  batch_size=config['batch_size']\n",
        "  activation=config['activation']\n",
        "  optimization=config['optimizer']\n",
        "  num_hidden_layers = config['hidden_layers'] \n",
        "  size=config['size']        \n",
        "  wt_decay=config['wt_decay']   \n",
        "  initialization=config['wt_init']\n",
        "  input_layer_size = 784  #input number of inputs here\n",
        "\n",
        "  output_layer_size = 10  #input number of output nodes here\n",
        "\n",
        "  num_nodes = [input_layer_size]\n",
        "\n",
        "  for i in range(num_hidden_layers):\n",
        "    num_nodes.append(size)\n",
        "  num_nodes.append(output_layer_size)\n",
        "\n",
        "  num_weight_mat = num_hidden_layers+1\n",
        "\n",
        "  \n",
        "  #Setting weight initialization function\n",
        "  if initialization == 'random':\n",
        "    wt_init=init_random(num_weight_mat,num_nodes)\n",
        "  elif initialization == 'xavier':\n",
        "    wt_init = init_xavier(num_weight_mat,num_nodes)\n",
        "  else:\n",
        "    print('weight initialization given is not available')\n",
        "\n",
        "  #Setting weights\n",
        "  weights = {}\n",
        "  bias = {}\n",
        "  weights, bias = wt_init\n",
        "\n",
        "\n",
        "  #Setting activation function and its derivative\n",
        "  if activation == 'sigmoid':\n",
        "    activ = sigmoid\n",
        "    der_activ = grad_sigmoid\n",
        "  elif activation == 'tanh':\n",
        "    activ = tanh\n",
        "    der_activ = grad_tanh\n",
        "  elif activation == 'relu':\n",
        "    activ = relu\n",
        "    der_activ = grad_relu\n",
        "\n",
        "  #Setting output function\n",
        "  output = softmax \n",
        "  activation = activ\n",
        "  \n",
        "  def cross_entropy(p, q):\n",
        "      return -np.log(np.dot(p, q))\n",
        "  \n",
        "  def mean_squared_error(y_true,y_pred):\n",
        "      return ((y_pred - y_true)**2)\n",
        "    \n",
        "  def val_accuracy(weights,bias,x_val,y_val):\n",
        "     len = x_val.shape[0]\n",
        "     y_pred=np.zeros(len)\n",
        "     fx=np.zeros([len,10])\n",
        "     val_loss=0\n",
        "     for i in range(len):\n",
        "        fx[i]= forward_propogation(weights,bias,x_val[i])[0]\n",
        "        val_loss+= cross_entropy(y_val[i],fx[i])\n",
        "        #val_loss+=mean_squared_error(y_val[i],fx[i]) #for testing MSE loss\n",
        "     val_loss/=len\n",
        "     y_pred=np.argmax(fx,axis=1)   \n",
        "     y_val_=np.argmax(y_val,axis=1)\n",
        "     validation_acc = accuracy_score(y_pred,y_val_)\n",
        "     return val_loss,validation_acc\n",
        "     \n",
        "  def train_accuracy(weights,bias,X,Y):\n",
        "     len = X.shape[0]\n",
        "     y_pred=np.zeros(len)\n",
        "     fx=np.zeros([len,10])\n",
        "     train_loss=0\n",
        "     for i in range(len):\n",
        "        fx[i]= forward_propogation(weights,bias,X[i])[0]\n",
        "        train_loss+= cross_entropy(Y[i],fx[i])\n",
        "        #train_loss+=mean_squared_error(Y[i],fx[i]) #for tesing MSE loss\n",
        "     train_loss/=len\n",
        "     y_pred=np.argmax(fx,axis=1)   \n",
        "     y_train_=np.argmax(Y,axis=1)\n",
        "     train_acc = accuracy_score(y_pred,y_train_)\n",
        "     return train_loss,train_acc\n",
        "\n",
        "  #defining function for sgd optimizer\n",
        "  def sgd():\n",
        "    wandb.init(entity='rashmi05pathak',project='Assignment_try1')\n",
        "    for k in range(epochs):\n",
        "      for x,y in zip(X,Y):\n",
        "        grad_w,grad_b = backward_propogation(weights, bias, x,y)\n",
        "        for j in range(1,num_hidden_layers+2):\n",
        "            weights['W%s'%j]-=(grad_w['W%s'%j])*eta\n",
        "            bias['b%s'%j]-=(grad_b['b%s'%j])*eta\n",
        "      #Logging the loss in wandb\n",
        "      val_loss,val_acc = val_accuracy(weights,bias,x_val,y_val)\n",
        "      train_loss,train_acc = train_accuracy(weights,bias,X,Y)\n",
        "      print(\"epoch______{} :   {}\".format(k, train_accuracy))\n",
        "      wandb.log({\"epoch\": k,\"loss\": train_loss,\"accuracy\": train_acc,\"val_loss\": val_loss,\"val_accuracy\": val_acc})\n",
        "      \n",
        "  #defining function for momentum gd optimizer\n",
        "  def momentum_gd():\n",
        "    wandb.init(entity='rashmi05pathak',project='Assignment_try1')\n",
        "    gamma=0.9\n",
        "    prev_dw,prev_db=init_zeros(num_weight_mat,num_nodes)\n",
        "\n",
        "    for k in range(epochs):\n",
        "      count=0   \n",
        "    \n",
        "      dw,db=init_zeros(num_weight_mat,num_nodes)\n",
        "      \n",
        "      for x,y in zip(X,Y):\n",
        "        \n",
        "        if count==0:\n",
        "          dw,db=init_zeros(num_weight_mat,num_nodes)\n",
        "        \n",
        "        grad_w,grad_b = backward_propogation(weights, bias, x, y)\n",
        "\n",
        "        for j in range(1,num_hidden_layers+2):\n",
        "          dw['W%s'%j]+=(grad_w['W%s'%j])\n",
        "          db['b%s'%j]+=(grad_b['b%s'%j])\n",
        "        count+=1\n",
        "\n",
        "        if count%batch_size==0:\n",
        "          \n",
        "          weights['W%s'%j]-=((prev_dw['W%s'%j])*gamma+(dw['W%s'%j])*eta+(weights['W%s'%j])*wt_decay*eta)\n",
        "          bias['b%s'%j]-=((prev_db['b%s'%j])*gamma+(db['b%s'%j])*eta+(bias['b%s'%j])*wt_decay*eta)\n",
        "\n",
        "          prev_dw['W%s'%j]=(prev_dw['W%s'%j])*gamma+(dw['W%s'%j])*eta\n",
        "          prev_db['b%s'%j]=(prev_db['b%s'%j])*gamma+(db['b%s'%j])*eta\n",
        "          count=0\n",
        "      #Logging the loss in wandb\n",
        "      val_loss,val_acc = val_accuracy(weights,bias,x_val,y_val)\n",
        "      train_loss,train_acc = train_accuracy(weights,bias,X,Y)\n",
        "      print(\"epoch______{} :   {}\".format(k, train_accuracy))\n",
        "      wandb.log({\"epoch\": k,\"loss\": train_loss,\"accuracy\": train_acc,\"val_loss\": val_loss,\"val_accuracy\": val_acc})\n",
        "  \n",
        "  #defining function for NAG optimizer\n",
        "  def nesterov():\n",
        "    wandb.init(entity='rashmi05pathak',project='Assignment_try1')\n",
        "    gamma=0.9\n",
        "    prev_vw,prev_vb=init_zeros(num_weight_mat,num_nodes)\n",
        "    temp_w,temp_b=init_zeros(num_weight_mat,num_nodes)\n",
        "    dw,db=init_zeros(num_weight_mat,num_nodes)\n",
        "    v_w,v_b=init_zeros(num_weight_mat,num_nodes)\n",
        "\n",
        "    for k in range(epochs):\n",
        "      count=0\n",
        "\n",
        "      if count==0:\n",
        "        for j in range(1,num_hidden_layers+2):\n",
        "            v_w['W%s'%j]=prev_vw['W%s'%j]*gamma \n",
        "            v_b['b%s'%j]=prev_vb['b%s'%j]*gamma \n",
        "\n",
        "\n",
        "      for x,y in zip(X,Y):\n",
        "        if count==0:\n",
        "          dw,db=init_zeros(num_weight_mat,num_nodes)\n",
        "\n",
        "        for j in range(1,num_hidden_layers+2):\n",
        "          temp_w['W%s'%j]=weights['W%s'%j]-v_w['W%s'%j]\n",
        "          temp_b['b%s'%j]=bias['b%s'%j]-v_b['b%s'%j]\n",
        "        \n",
        "        grad_w,grad_b=backward_propogation(temp_w,temp_b,x,y)      \n",
        "        for j in range(1,num_hidden_layers+2):\n",
        "          dw['W%s'%j]+=(grad_w['W%s'%j])\n",
        "          db['b%s'%j]+=(grad_b['b%s'%j])\n",
        "        count+=1\n",
        "\n",
        "        if count%batch_size==0:\n",
        "          \n",
        "          for j in range(1,num_hidden_layers+2):\n",
        "            v_w['W%s'%j]=(prev_vw['W%s'%j])*gamma + (dw['W%s'%j])*eta\n",
        "            v_b['b%s'%j]=(prev_vb['b%s'%j])*gamma + (db['b%s'%j])*eta\n",
        "            weights['W%s'%j]-=(v_w['W%s'%j]+(weights['W%s'%j])*wt_decay*eta)\n",
        "            bias['b%s'%j]-=(v_b['b%s'%j]+(bias['b%s'%j])*wt_decay*eta)\n",
        "            prev_vw['W%s'%j]=v_w['W%s'%j]\n",
        "            prev_vb['b%s'%j]=v_b['b%s'%j]\n",
        "            count=0\n",
        "      \n",
        "      #Logging the loss in wandb\n",
        "      val_loss,val_acc = val_accuracy(weights,bias,x_val,y_val)\n",
        "      train_loss,train_acc = train_accuracy(weights,bias,X,Y)\n",
        "      print(\"epoch______{} :   {}\".format(k, train_accuracy))\n",
        "      wandb.log({\"epoch\": k,\"loss\": train_loss,\"accuracy\": train_acc,\"val_loss\": val_loss,\"val_accuracy\": val_acc})\n",
        "  \n",
        "  #defining function for adagrad optimizer\n",
        "  def adagrad():\n",
        "    wandb.init(entity='rashmi05pathak',project='Assignment_try1')\n",
        "    eps = 1e-8\n",
        "\n",
        "    v_w,v_b=init_zeros(num_weight_mat,num_nodes)\n",
        "\n",
        "    for k in range(epochs):\n",
        "      count=0\n",
        "      dw,db=init_zeros(num_weight_mat,num_nodes)\n",
        "      \n",
        "      for x,y in zip(X,Y):\n",
        "\n",
        "        if count==0:\n",
        "          dw,db=init_zeros(num_weight_mat,num_nodes)\n",
        "        \n",
        "        grad_w,grad_b=backward_propogation( weights,bias,x,y)\n",
        "        for j in range(1,num_hidden_layers+2):\n",
        "          dw['W%s'%j]+=(grad_w['W%s'%j])\n",
        "          db['b%s'%j]+=(grad_b['b%s'%j])\n",
        "        count+=1\n",
        "\n",
        "        if count%batch_size==0:\n",
        "\n",
        "          for j in range(1,num_hidden_layers+2):\n",
        "            v_w['W%s'%j] += np.square(dw['W%s'%j])\n",
        "            v_b['b%s'%j] += np.square(db['b%s'%j]) \n",
        "            weights['W%s'%j] -= ((dw['W%s'%j])*(eta/np.sqrt(v_w['W%s'%j] + eps))+(weights['W%s'%j])*wt_decay*eta)\n",
        "            bias['b%s'%j] -= ((db['b%s'%j])*(eta/np.sqrt(v_b['b%s'%j] + eps))+(bias['b%s'%j])*wt_decay*eta)\n",
        "\n",
        "            count=0\n",
        "      val_loss,val_acc = val_accuracy(weights,bias,x_val,y_val)\n",
        "      train_loss,train_acc = train_accuracy(weights,bias,X,Y)\n",
        "      print(\"epoch______{} :   {}\".format(k, train_accuracy))\n",
        "      wandb.log({\"epoch\": k,\"loss\": train_loss,\"accuracy\": train_acc,\"val_loss\": val_loss,\"val_accuracy\": val_acc})\n",
        "  \n",
        "  #defining function for rmsprop optimizer\n",
        "  def rmsprop():\n",
        "    eps = 1e-8\n",
        "    beta1 = 0.9\n",
        "    wandb.init(entity='rashmi05pathak',project='Assignment_try1')\n",
        "    v_w,v_b=init_zeros(num_weight_mat,num_nodes)\n",
        "\n",
        "    for k in range(epochs):\n",
        "      count=0\n",
        "      dw,db=init_zeros(num_weight_mat,num_nodes)\n",
        "      \n",
        "      for x,y in zip(X,Y):\n",
        "\n",
        "        if count==0:\n",
        "          dw,db=init_zeros(num_weight_mat,num_nodes)\n",
        "        \n",
        "        grad_w,grad_b= backward_propogation( weights,bias,x,y)\n",
        "        for j in range(1,num_hidden_layers+2):\n",
        "          dw['W%s'%j]+=(grad_w['W%s'%j])\n",
        "          db['b%s'%j]+=(grad_b['b%s'%j])\n",
        "        count+=1\n",
        "\n",
        "        if count%batch_size==0:\n",
        "\n",
        "          for j in range(1,num_hidden_layers+2):\n",
        "            v_w['W%s'%j] = beta1*v_w['W%s'%j] + (1-beta1)*np.square(dw['W%s'%j])\n",
        "            v_b['b%s'%j] = beta1*v_b['b%s'%j] + (1-beta1)*np.square(db['b%s'%j]) \n",
        "            weights['W%s'%j] -= ((dw['W%s'%j])*(eta/np.sqrt(v_w['W%s'%j] + eps))+(weights['W%s'%j])*wt_decay*eta)\n",
        "            bias['b%s'%j] -= ((db['b%s'%j])*(eta/np.sqrt(v_b['b%s'%j] + eps))+(bias['b%s'%j])*wt_decay*eta)\n",
        "\n",
        "            count=0\n",
        "      #Logging the loss in wandb\n",
        "      val_loss,val_acc = val_accuracy(weights,bias,x_val,y_val)\n",
        "      train_loss,train_acc = train_accuracy(weights,bias,X,Y)\n",
        "      print(\"epoch______{} :   {}\".format(k, train_accuracy))\n",
        "      wandb.log({\"epoch\": k,\"loss\": train_loss,\"accuracy\": train_acc,\"val_loss\": val_loss,\"val_accuracy\": val_acc})\n",
        "   \n",
        "   #defining function for adam optimizer\n",
        "  def adam():\n",
        "    wandb.init(entity='rashmi05pathak',project='Assignment_try1')\n",
        "    eps = 1e-8\n",
        "    beta1 = 0.9\n",
        "    beta2 = 0.999\n",
        "\n",
        "    v_w,v_b=init_zeros(num_weight_mat,num_nodes)\n",
        "    v_w_hat,v_b_hat=init_zeros(num_weight_mat,num_nodes)\n",
        "\n",
        "    m_w,m_b=init_zeros(num_weight_mat,num_nodes)\n",
        "    m_w_hat,m_b_hat=init_zeros(num_weight_mat,num_nodes)\n",
        "\n",
        "    for k in range(epochs):\n",
        "      \n",
        "      count=0\n",
        "      dw,db=init_zeros(num_weight_mat,num_nodes)\n",
        "      \n",
        "      for x,y in zip(X,Y):\n",
        "\n",
        "        if count==0:\n",
        "          dw,db=init_zeros(num_weight_mat,num_nodes)\n",
        "        \n",
        "        grad_w,grad_b = backward_propogation( weights,bias,x,y)\n",
        "        for j in range(1,num_hidden_layers+2):\n",
        "          dw['W%s'%j]+=(grad_w['W%s'%j])\n",
        "          db['b%s'%j]+=(grad_b['b%s'%j])\n",
        "        count+=1\n",
        "\n",
        "        if count%batch_size==0:\n",
        "\n",
        "          for j in range(1,num_hidden_layers+2):\n",
        "            \n",
        "            v_w['W%s'%j] = beta2*v_w['W%s'%j] + (1-beta2)*np.square(dw['W%s'%j])\n",
        "            v_b['b%s'%j] = beta2*v_b['b%s'%j] + (1-beta2)*np.square(db['b%s'%j]) \n",
        "\n",
        "            v_w_hat['W%s'%j] = v_w['W%s'%j]*1/(1-math.pow(beta2,k+1))\n",
        "            v_b_hat['b%s'%j] = v_b['b%s'%j]*1/(1-math.pow(beta2,k+1))\n",
        "\n",
        "            m_w['W%s'%j] = beta1*m_w['W%s'%j] + (1-beta1)*(dw['W%s'%j])\n",
        "            m_b['b%s'%j] = beta1*m_b['b%s'%j] + (1-beta1)*(db['b%s'%j]) \n",
        "\n",
        "            m_w_hat['W%s'%j] = m_w['W%s'%j]*1/(1-math.pow(beta1,k+1))\n",
        "            m_b_hat['b%s'%j] = m_b['b%s'%j]*1/(1-math.pow(beta1,k+1))\n",
        "            \n",
        "            weights['W%s'%j] -= ((m_w_hat['W%s'%j])*(eta/np.sqrt(v_w_hat['W%s'%j] + eps))+(weights['W%s'%j])*wt_decay*eta) \n",
        "            bias['b%s'%j] -= ((m_b_hat['b%s'%j])*(eta/np.sqrt(v_b_hat['b%s'%j] + eps))+(bias['b%s'%j])*wt_decay*eta)\n",
        "\n",
        "            count=0\n",
        "      val_loss,val_acc = val_accuracy(weights,bias,x_val,y_val)\n",
        "      train_loss,train_acc = train_accuracy(weights,bias,X,Y)\n",
        "      print(\"epoch______{} :   {}\".format(k, train_accuracy))\n",
        "      wandb.log({\"epoch\": k,\"loss\": train_loss,\"accuracy\": train_acc,\"val_loss\": val_loss,\"val_accuracy\": val_acc})\n",
        "  #Setting optimization function\n",
        "  if optimization == 'sgd':\n",
        "    sgd()\n",
        "  elif optimization == 'momentum':\n",
        "    momentum_gd()\n",
        "  elif optimization == 'nesterov':\n",
        "    nesterov()\n",
        "  elif optimization == 'rmsprop':\n",
        "    rmsprop()\n",
        "  elif optimization =='adam':\n",
        "    adam()\n",
        "  elif optimization =='adagrad':\n",
        "    adagrad()  \n",
        "  else:\n",
        "    print('Optimization algo given is not available')\n",
        "  #function for errors and validation accuracy \n",
        " \n",
        "  #val_loss,val_accuracy = val_accuracy(weights,bias,x_val,y_val)\n",
        "  \n",
        "  #train_loss,train_accuracy = train_accuracy(weights,bias,X,Y)\n",
        "  #for j in range(config[\"epochs\"]):\n",
        "  #print(val_loss) #to know how the model is performing on validation set\n",
        "  return weights,bias"
      ]
    },
    {
      "cell_type": "markdown",
      "metadata": {
        "id": "Qxl9dEz7XQc1"
      },
      "source": [
        "#**Run model on test set**"
      ]
    },
    {
      "cell_type": "code",
      "execution_count": 80,
      "metadata": {
        "colab": {
          "base_uri": "https://localhost:8080/",
          "height": 436,
          "referenced_widgets": [
            "91a299c08a7d42a19d4cab69e504996e",
            "962e964aa0944036972fedb81f403f0d",
            "b164ea7548404f018ab802e370aa8840",
            "58253cb8a7ca449a8d7fa99b6bfef27d",
            "78d818a090e945548c01790b53200174",
            "8fd70f70e55d4f6da54df8d2a357ff42",
            "9f8b86cd3eb3483ba5c8f11177ea768e",
            "a2b9d17cb20c4fe78060cdae8e8c5415"
          ]
        },
        "id": "8JyJCSCdMGW_",
        "outputId": "28ef7bfb-cf5d-4afa-c900-48bc90f70e76"
      },
      "outputs": [
        {
          "output_type": "display_data",
          "data": {
            "text/html": [
              "Finishing last run (ID:3p0wwths) before initializing another..."
            ],
            "text/plain": [
              "<IPython.core.display.HTML object>"
            ]
          },
          "metadata": {}
        },
        {
          "output_type": "display_data",
          "data": {
            "text/html": [
              "<br/>Waiting for W&B process to finish, PID 1162... <strong style=\"color:green\">(success).</strong>"
            ],
            "text/plain": [
              "<IPython.core.display.HTML object>"
            ]
          },
          "metadata": {}
        },
        {
          "output_type": "display_data",
          "data": {
            "application/vnd.jupyter.widget-view+json": {
              "model_id": "91a299c08a7d42a19d4cab69e504996e",
              "version_minor": 0,
              "version_major": 2
            },
            "text/plain": [
              "VBox(children=(Label(value=' 0.01MB of 0.01MB uploaded (0.00MB deduped)\\r'), FloatProgress(value=1.0, max=1.0)…"
            ]
          },
          "metadata": {}
        },
        {
          "output_type": "display_data",
          "data": {
            "text/html": [
              "<style>\n",
              "    table.wandb td:nth-child(1) { padding: 0 10px; text-align: right }\n",
              "    .wandb-row { display: flex; flex-direction: row; flex-wrap: wrap; width: 100% }\n",
              "    .wandb-col { display: flex; flex-direction: column; flex-basis: 100%; flex: 1; padding: 10px; }\n",
              "    </style>\n",
              "<div class=\"wandb-row\"><div class=\"wandb-col\">\n",
              "</div><div class=\"wandb-col\">\n",
              "</div></div>\n",
              "Synced 4 W&B file(s), 10 media file(s), 0 artifact file(s) and 0 other file(s)\n",
              "<br/>Synced <strong style=\"color:#cdcd00\">chocolate-morning-11</strong>: <a href=\"https://wandb.ai/rashmi05pathak/Assignment_try1/runs/3p0wwths\" target=\"_blank\">https://wandb.ai/rashmi05pathak/Assignment_try1/runs/3p0wwths</a><br/>\n",
              "Find logs at: <code>./wandb/run-20220225_122037-3p0wwths/logs</code><br/>\n"
            ],
            "text/plain": [
              "<IPython.core.display.HTML object>"
            ]
          },
          "metadata": {}
        },
        {
          "output_type": "display_data",
          "data": {
            "text/html": [
              "Successfully finished last run (ID:3p0wwths). Initializing new run:<br/>"
            ],
            "text/plain": [
              "<IPython.core.display.HTML object>"
            ]
          },
          "metadata": {}
        },
        {
          "output_type": "display_data",
          "data": {
            "text/html": [
              "\n",
              "                    Syncing run <strong><a href=\"https://wandb.ai/rashmi05pathak/Assignment_try1/runs/3cnn53a2\" target=\"_blank\">good-serenity-12</a></strong> to <a href=\"https://wandb.ai/rashmi05pathak/Assignment_try1\" target=\"_blank\">Weights & Biases</a> (<a href=\"https://docs.wandb.com/integrations/jupyter.html\" target=\"_blank\">docs</a>).<br/>\n",
              "\n",
              "                "
            ],
            "text/plain": [
              "<IPython.core.display.HTML object>"
            ]
          },
          "metadata": {}
        },
        {
          "output_type": "stream",
          "name": "stdout",
          "text": [
            "epoch______0 :   <function Model_train.<locals>.train_accuracy at 0x7fc923454f80>\n",
            "epoch______1 :   <function Model_train.<locals>.train_accuracy at 0x7fc923454f80>\n",
            "epoch______2 :   <function Model_train.<locals>.train_accuracy at 0x7fc923454f80>\n",
            "epoch______3 :   <function Model_train.<locals>.train_accuracy at 0x7fc923454f80>\n",
            "epoch______4 :   <function Model_train.<locals>.train_accuracy at 0x7fc923454f80>\n",
            "epoch______5 :   <function Model_train.<locals>.train_accuracy at 0x7fc923454f80>\n",
            "epoch______6 :   <function Model_train.<locals>.train_accuracy at 0x7fc923454f80>\n",
            "epoch______7 :   <function Model_train.<locals>.train_accuracy at 0x7fc923454f80>\n",
            "epoch______8 :   <function Model_train.<locals>.train_accuracy at 0x7fc923454f80>\n",
            "epoch______9 :   <function Model_train.<locals>.train_accuracy at 0x7fc923454f80>\n",
            "epoch______10 :   <function Model_train.<locals>.train_accuracy at 0x7fc923454f80>\n",
            "epoch______11 :   <function Model_train.<locals>.train_accuracy at 0x7fc923454f80>\n",
            "epoch______12 :   <function Model_train.<locals>.train_accuracy at 0x7fc923454f80>\n",
            "epoch______13 :   <function Model_train.<locals>.train_accuracy at 0x7fc923454f80>\n",
            "epoch______14 :   <function Model_train.<locals>.train_accuracy at 0x7fc923454f80>\n"
          ]
        }
      ],
      "source": [
        "#following block of code to get test set error and accuracy\n",
        "W,b = Model_train()\n",
        "\n",
        "# function to return test error and accuracy\n",
        "def test_model():\n",
        "  f_x=np.zeros([10000,10])\n",
        "  for i in range(10000):\n",
        "    f_x[i],A,H=forward_propogation(W,b,x_test[i]) #Ingnore A and H values, here we need only f_x value\n",
        "  test_pred=np.argmax(f_x,axis=1)\n",
        "  test_acc=accuracy_score(test_pred,y_test)\n",
        "  return test_acc,test_pred"
      ]
    },
    {
      "cell_type": "code",
      "execution_count": 87,
      "metadata": {
        "colab": {
          "base_uri": "https://localhost:8080/"
        },
        "id": "uye3YAZW7itD",
        "outputId": "c9937af6-bea6-4010-8fc5-23c5ea2631da"
      },
      "outputs": [
        {
          "output_type": "execute_result",
          "data": {
            "text/plain": [
              "0.7906"
            ]
          },
          "metadata": {},
          "execution_count": 87
        }
      ],
      "source": [
        "accuracy,pred = test_model()\n",
        "accuracy"
      ]
    },
    {
      "cell_type": "code",
      "source": [
        "test_acc,test_pred=test_model()\n",
        "#Plotting confusion matrix in Wandb\n",
        "wandb.init(entity='rashmi05pathak',project='confusion_matrix')\n",
        "wandb.log({ \"Confusion Matrix\" : wandb.plot.confusion_matrix( probs = None,y_true = testy,preds = test_pred,class_names = class_names)})"
      ],
      "metadata": {
        "colab": {
          "base_uri": "https://localhost:8080/",
          "height": 430,
          "referenced_widgets": [
            "bc01627187394831a498b5d5d14c69f1",
            "1ce0178c338941fba2cbd82a541c22df",
            "372bb495740d4a5589b5f9bb8fe7aa44",
            "ba0abd0649524c178d60d399575a94dc",
            "a7ed15a73ceb4be8bdf7c177f712f10f",
            "9dc8e01bcd3c4c14a40ad8e740fc3c40",
            "bfa2c222a0744824b68410308010428b",
            "85d18c04077849a0ab37988f7d6e4c3c"
          ]
        },
        "id": "GwOtqvfDeu2g",
        "outputId": "296c29d3-8997-4b88-93c6-a54cfdd7e341"
      },
      "execution_count": 96,
      "outputs": [
        {
          "output_type": "stream",
          "name": "stderr",
          "text": [
            "\u001b[34m\u001b[1mwandb\u001b[0m: \u001b[33mWARNING\u001b[0m Ignored wandb.init() arg project when running a sweep.\n",
            "\u001b[34m\u001b[1mwandb\u001b[0m: \u001b[33mWARNING\u001b[0m Ignored wandb.init() arg entity when running a sweep.\n",
            "\u001b[34m\u001b[1mwandb\u001b[0m: \u001b[33mWARNING\u001b[0m If you want to track multiple runs concurrently in wandb, you should use multi-processing not threads\n"
          ]
        },
        {
          "output_type": "display_data",
          "data": {
            "text/html": [
              "Finishing last run (ID:2dpdt49f) before initializing another..."
            ],
            "text/plain": [
              "<IPython.core.display.HTML object>"
            ]
          },
          "metadata": {}
        },
        {
          "output_type": "display_data",
          "data": {
            "text/html": [
              "<br/>Waiting for W&B process to finish, PID 1572... <strong style=\"color:green\">(success).</strong>"
            ],
            "text/plain": [
              "<IPython.core.display.HTML object>"
            ]
          },
          "metadata": {}
        },
        {
          "output_type": "display_data",
          "data": {
            "application/vnd.jupyter.widget-view+json": {
              "model_id": "bc01627187394831a498b5d5d14c69f1",
              "version_minor": 0,
              "version_major": 2
            },
            "text/plain": [
              "VBox(children=(Label(value=' 0.00MB of 0.00MB uploaded (0.00MB deduped)\\r'), FloatProgress(value=1.0, max=1.0)…"
            ]
          },
          "metadata": {}
        },
        {
          "output_type": "display_data",
          "data": {
            "text/html": [
              "<style>\n",
              "    table.wandb td:nth-child(1) { padding: 0 10px; text-align: right }\n",
              "    .wandb-row { display: flex; flex-direction: row; flex-wrap: wrap; width: 100% }\n",
              "    .wandb-col { display: flex; flex-direction: column; flex-basis: 100%; flex: 1; padding: 10px; }\n",
              "    </style>\n",
              "<div class=\"wandb-row\"><div class=\"wandb-col\">\n",
              "<h3>Run history:</h3><br/><table class=\"wandb\"><tr><td>accuracy</td><td>▁</td></tr><tr><td>epoch</td><td>▁</td></tr><tr><td>loss</td><td>▁</td></tr><tr><td>val_accuracy</td><td>▁</td></tr><tr><td>val_loss</td><td>▁</td></tr></table><br/></div><div class=\"wandb-col\">\n",
              "<h3>Run summary:</h3><br/><table class=\"wandb\"><tr><td>accuracy</td><td>0.48704</td></tr><tr><td>epoch</td><td>5</td></tr><tr><td>loss</td><td>1.22693</td></tr><tr><td>val_accuracy</td><td>0.50383</td></tr><tr><td>val_loss</td><td>1.2238</td></tr></table>\n",
              "</div></div>\n",
              "Synced 5 W&B file(s), 0 media file(s), 0 artifact file(s) and 0 other file(s)\n",
              "<br/>Synced <strong style=\"color:#cdcd00\">rich-sweep-1</strong>: <a href=\"https://wandb.ai/rashmi05pathak/assignment1_try2/runs/2dpdt49f\" target=\"_blank\">https://wandb.ai/rashmi05pathak/assignment1_try2/runs/2dpdt49f</a><br/>\n",
              "Find logs at: <code>./wandb/run-20220225_124126-2dpdt49f/logs</code><br/>\n"
            ],
            "text/plain": [
              "<IPython.core.display.HTML object>"
            ]
          },
          "metadata": {}
        },
        {
          "output_type": "display_data",
          "data": {
            "text/html": [
              "Successfully finished last run (ID:2dpdt49f). Initializing new run:<br/>"
            ],
            "text/plain": [
              "<IPython.core.display.HTML object>"
            ]
          },
          "metadata": {}
        },
        {
          "output_type": "display_data",
          "data": {
            "text/html": [
              "\n",
              "                    Syncing run <strong><a href=\"https://wandb.ai/rashmi05pathak/assignment1_try2/runs/2dpdt49f\" target=\"_blank\">rich-sweep-1</a></strong> to <a href=\"https://wandb.ai/rashmi05pathak/assignment1_try2\" target=\"_blank\">Weights & Biases</a> (<a href=\"https://docs.wandb.com/integrations/jupyter.html\" target=\"_blank\">docs</a>).<br/>\n",
              "Sweep page: <a href=\"https://wandb.ai/rashmi05pathak/assignment1_try2/sweeps/lvtkx0r3\" target=\"_blank\">https://wandb.ai/rashmi05pathak/assignment1_try2/sweeps/lvtkx0r3</a><br/>\n",
              "\n",
              "                "
            ],
            "text/plain": [
              "<IPython.core.display.HTML object>"
            ]
          },
          "metadata": {}
        }
      ]
    },
    {
      "cell_type": "code",
      "source": [
        "#Plotting confusion matrix using skplot for local visualization\n",
        "ytest_pred_=[class_names[k] for k in test_pred]\n",
        "ytest=[class_names[k]  for k in y_test]\n",
        "confusion_mat=skplt.metrics.plot_confusion_matrix(ytest,ytest_pred_,figsize=(10,10))"
      ],
      "metadata": {
        "id": "3BtjAzdn6IeG"
      },
      "execution_count": null,
      "outputs": []
    },
    {
      "cell_type": "code",
      "execution_count": 86,
      "metadata": {
        "colab": {
          "base_uri": "https://localhost:8080/"
        },
        "id": "eQn4gou2mdGh",
        "outputId": "1f311463-ca26-427a-edad-a73858298773"
      },
      "outputs": [
        {
          "output_type": "stream",
          "name": "stdout",
          "text": [
            "Create sweep with ID: lvtkx0r3\n",
            "Sweep URL: https://wandb.ai/rashmi05pathak/assignment1_try2/sweeps/lvtkx0r3\n"
          ]
        },
        {
          "output_type": "stream",
          "name": "stderr",
          "text": [
            "\u001b[34m\u001b[1mwandb\u001b[0m: Agent Starting Run: 2dpdt49f with config:\n",
            "\u001b[34m\u001b[1mwandb\u001b[0m: \tactivation: sigmoid\n",
            "\u001b[34m\u001b[1mwandb\u001b[0m: \tbatch_size: 128\n",
            "\u001b[34m\u001b[1mwandb\u001b[0m: \tepochs: 15\n",
            "\u001b[34m\u001b[1mwandb\u001b[0m: \tlearning_rate: 0.01\n",
            "\u001b[34m\u001b[1mwandb\u001b[0m: \tno_hidden_layers: 5\n",
            "\u001b[34m\u001b[1mwandb\u001b[0m: \toptimizer: sgd\n",
            "\u001b[34m\u001b[1mwandb\u001b[0m: \tsize_hidden_layers: 128\n",
            "\u001b[34m\u001b[1mwandb\u001b[0m: \tweight_decay: 0.05\n",
            "\u001b[34m\u001b[1mwandb\u001b[0m: \tweight_initializations: random\n",
            "\u001b[34m\u001b[1mwandb\u001b[0m: Ctrl + C detected. Stopping sweep.\n"
          ]
        }
      ],
      "source": [
        "sweep_id = wandb.sweep(sweep_config,entity='rashmi05pathak',project='assignment1_try2')       #Uncomment for wandb\n",
        "wandb.agent(sweep_id, function=Model_train,count = 5)"
      ]
    },
    {
      "cell_type": "markdown",
      "metadata": {
        "id": "6cQ06i3Dsoc6"
      },
      "source": [
        "#**Run wandb sweep**"
      ]
    },
    {
      "cell_type": "code",
      "execution_count": null,
      "metadata": {
        "colab": {
          "base_uri": "https://localhost:8080/"
        },
        "id": "p0aucX-F6myg",
        "outputId": "9afdf445-3fa8-4aab-be4a-105a5ac07451"
      },
      "outputs": [
        {
          "name": "stdout",
          "output_type": "stream",
          "text": [
            "Create sweep with ID: uf5u8138\n",
            "Sweep URL: https://wandb.ai/rashmi05pathak/assignment1/sweeps/uf5u8138\n"
          ]
        }
      ],
      "source": [
        "#sweep_id = wandb.sweep(sweep_config,entity='rashmi05pathak',project='assignment1')       #Uncomment for wandb"
      ]
    },
    {
      "cell_type": "code",
      "execution_count": null,
      "metadata": {
        "colab": {
          "base_uri": "https://localhost:8080/",
          "height": 1000,
          "referenced_widgets": [
            "8aa646f66ce448648de64875a5645adf",
            "20162f9e6c324584acb17064a9c557a3",
            "4fc61f541ebf41d49455468d84b99a92",
            "d832b63bc14f4910875b2bf8d37b80c8",
            "e2f8f2a82b5c4a42b6af9772aa2dc9ac",
            "2578296451b34be68bac28a0749e0714",
            "01d6d49b00ef45df831484ff980fac14",
            "ace0a23df6bd4fd087181c1af4621a9f"
          ]
        },
        "id": "hYPwyi-_qcvi",
        "outputId": "5cd5f0ef-13ee-4dab-ce21-e16882bc5858"
      },
      "outputs": [
        {
          "name": "stderr",
          "output_type": "stream",
          "text": [
            "\u001b[34m\u001b[1mwandb\u001b[0m: \u001b[33mWARNING\u001b[0m Calling wandb.login() after wandb.init() has no effect.\n",
            "\u001b[34m\u001b[1mwandb\u001b[0m: Agent Starting Run: my38ssho with config:\n",
            "\u001b[34m\u001b[1mwandb\u001b[0m: \tactivation: sigmoid\n",
            "\u001b[34m\u001b[1mwandb\u001b[0m: \tbatch_size: 32\n",
            "\u001b[34m\u001b[1mwandb\u001b[0m: \tepochs: 5\n",
            "\u001b[34m\u001b[1mwandb\u001b[0m: \teta: 0.005\n",
            "\u001b[34m\u001b[1mwandb\u001b[0m: \thidden_layers: 3\n",
            "\u001b[34m\u001b[1mwandb\u001b[0m: \toptimizer: adam\n",
            "\u001b[34m\u001b[1mwandb\u001b[0m: \tsize: 32\n",
            "\u001b[34m\u001b[1mwandb\u001b[0m: \twt_decay: 0.005\n",
            "\u001b[34m\u001b[1mwandb\u001b[0m: \twt_init: xavier\n"
          ]
        },
        {
          "name": "stdout",
          "output_type": "stream",
          "text": [
            "0.40167108627129133\n"
          ]
        },
        {
          "data": {
            "text/html": [
              "<br/>Waiting for W&B process to finish, PID 205... <strong style=\"color:green\">(success).</strong>"
            ],
            "text/plain": [
              "<IPython.core.display.HTML object>"
            ]
          },
          "metadata": {},
          "output_type": "display_data"
        },
        {
          "data": {
            "application/vnd.jupyter.widget-view+json": {
              "model_id": "8aa646f66ce448648de64875a5645adf",
              "version_major": 2,
              "version_minor": 0
            },
            "text/plain": [
              "VBox(children=(Label(value=' 0.01MB of 0.01MB uploaded (0.00MB deduped)\\r'), FloatProgress(value=1.0, max=1.0)…"
            ]
          },
          "metadata": {},
          "output_type": "display_data"
        },
        {
          "data": {
            "text/html": [
              "<style>\n",
              "    table.wandb td:nth-child(1) { padding: 0 10px; text-align: right }\n",
              "    .wandb-row { display: flex; flex-direction: row; flex-wrap: wrap; width: 100% }\n",
              "    .wandb-col { display: flex; flex-direction: column; flex-basis: 100%; flex: 1; padding: 10px; }\n",
              "    </style>\n",
              "<div class=\"wandb-row\"><div class=\"wandb-col\">\n",
              "</div><div class=\"wandb-col\">\n",
              "</div></div>\n",
              "Synced 5 W&B file(s), 10 media file(s), 0 artifact file(s) and 0 other file(s)\n",
              "<br/>Synced <strong style=\"color:#cdcd00\">toasty-durian-11</strong>: <a href=\"https://wandb.ai/rashmi05pathak/Assignment%201/runs/1auadde4\" target=\"_blank\">https://wandb.ai/rashmi05pathak/Assignment%201/runs/1auadde4</a><br/>\n",
              "Find logs at: <code>./wandb/run-20220224_150541-1auadde4/logs</code><br/>\n"
            ],
            "text/plain": [
              "<IPython.core.display.HTML object>"
            ]
          },
          "metadata": {},
          "output_type": "display_data"
        },
        {
          "name": "stderr",
          "output_type": "stream",
          "text": [
            "Exception in thread Thread-20:\n",
            "Traceback (most recent call last):\n",
            "  File \"/usr/local/lib/python3.7/dist-packages/wandb/agents/pyagent.py\", line 303, in _run_job\n",
            "    wandb.finish()\n",
            "  File \"/usr/local/lib/python3.7/dist-packages/wandb/sdk/wandb_run.py\", line 2867, in finish\n",
            "    wandb.run.finish(exit_code=exit_code, quiet=quiet)\n",
            "  File \"/usr/local/lib/python3.7/dist-packages/wandb/sdk/wandb_run.py\", line 1475, in finish\n",
            "    if self._wl and len(self._wl._global_run_stack) > 0:\n",
            "  File \"/usr/local/lib/python3.7/dist-packages/wandb/sdk/wandb_setup.py\", line 281, in __getattr__\n",
            "    return getattr(self._instance, name)\n",
            "AttributeError: 'NoneType' object has no attribute '_global_run_stack'\n",
            "\n",
            "During handling of the above exception, another exception occurred:\n",
            "\n",
            "Traceback (most recent call last):\n",
            "  File \"/usr/lib/python3.7/threading.py\", line 926, in _bootstrap_inner\n",
            "    self.run()\n",
            "  File \"/usr/lib/python3.7/threading.py\", line 870, in run\n",
            "    self._target(*self._args, **self._kwargs)\n",
            "  File \"/usr/local/lib/python3.7/dist-packages/wandb/agents/pyagent.py\", line 307, in _run_job\n",
            "    wandb.finish(exit_code=1)\n",
            "  File \"/usr/local/lib/python3.7/dist-packages/wandb/sdk/wandb_run.py\", line 2867, in finish\n",
            "    wandb.run.finish(exit_code=exit_code, quiet=quiet)\n",
            "  File \"/usr/local/lib/python3.7/dist-packages/wandb/sdk/wandb_run.py\", line 1472, in finish\n",
            "    hook.call()\n",
            "  File \"/usr/local/lib/python3.7/dist-packages/wandb/sdk/wandb_init.py\", line 326, in _jupyter_teardown\n",
            "    ipython.display_pub.publish = ipython.display_pub._orig_publish\n",
            "AttributeError: 'ZMQDisplayPublisher' object has no attribute '_orig_publish'\n",
            "\n",
            "\u001b[34m\u001b[1mwandb\u001b[0m: Agent Starting Run: mxz1eceq with config:\n",
            "\u001b[34m\u001b[1mwandb\u001b[0m: \tactivation: sigmoid\n",
            "\u001b[34m\u001b[1mwandb\u001b[0m: \tbatch_size: 32\n",
            "\u001b[34m\u001b[1mwandb\u001b[0m: \tepochs: 5\n",
            "\u001b[34m\u001b[1mwandb\u001b[0m: \teta: 0.005\n",
            "\u001b[34m\u001b[1mwandb\u001b[0m: \thidden_layers: 3\n",
            "\u001b[34m\u001b[1mwandb\u001b[0m: \toptimizer: adam\n",
            "\u001b[34m\u001b[1mwandb\u001b[0m: \tsize: 32\n",
            "\u001b[34m\u001b[1mwandb\u001b[0m: \twt_decay: 0.005\n",
            "\u001b[34m\u001b[1mwandb\u001b[0m: \twt_init: random\n"
          ]
        },
        {
          "name": "stdout",
          "output_type": "stream",
          "text": [
            "0.37088806417337744\n"
          ]
        },
        {
          "name": "stderr",
          "output_type": "stream",
          "text": [
            "Exception in thread Thread-21:\n",
            "Traceback (most recent call last):\n",
            "  File \"/usr/local/lib/python3.7/dist-packages/wandb/agents/pyagent.py\", line 303, in _run_job\n",
            "    wandb.finish()\n",
            "  File \"/usr/local/lib/python3.7/dist-packages/wandb/sdk/wandb_run.py\", line 2867, in finish\n",
            "    wandb.run.finish(exit_code=exit_code, quiet=quiet)\n",
            "  File \"/usr/local/lib/python3.7/dist-packages/wandb/sdk/wandb_run.py\", line 1472, in finish\n",
            "    hook.call()\n",
            "  File \"/usr/local/lib/python3.7/dist-packages/wandb/sdk/wandb_init.py\", line 326, in _jupyter_teardown\n",
            "    ipython.display_pub.publish = ipython.display_pub._orig_publish\n",
            "AttributeError: 'ZMQDisplayPublisher' object has no attribute '_orig_publish'\n",
            "\n",
            "During handling of the above exception, another exception occurred:\n",
            "\n",
            "Traceback (most recent call last):\n",
            "  File \"/usr/lib/python3.7/threading.py\", line 926, in _bootstrap_inner\n",
            "    self.run()\n",
            "  File \"/usr/lib/python3.7/threading.py\", line 870, in run\n",
            "    self._target(*self._args, **self._kwargs)\n",
            "  File \"/usr/local/lib/python3.7/dist-packages/wandb/agents/pyagent.py\", line 307, in _run_job\n",
            "    wandb.finish(exit_code=1)\n",
            "  File \"/usr/local/lib/python3.7/dist-packages/wandb/sdk/wandb_run.py\", line 2867, in finish\n",
            "    wandb.run.finish(exit_code=exit_code, quiet=quiet)\n",
            "  File \"/usr/local/lib/python3.7/dist-packages/wandb/sdk/wandb_run.py\", line 1472, in finish\n",
            "    hook.call()\n",
            "  File \"/usr/local/lib/python3.7/dist-packages/wandb/sdk/wandb_init.py\", line 326, in _jupyter_teardown\n",
            "    ipython.display_pub.publish = ipython.display_pub._orig_publish\n",
            "AttributeError: 'ZMQDisplayPublisher' object has no attribute '_orig_publish'\n",
            "\n",
            "\u001b[34m\u001b[1mwandb\u001b[0m: Agent Starting Run: gox3ggtc with config:\n",
            "\u001b[34m\u001b[1mwandb\u001b[0m: \tactivation: sigmoid\n",
            "\u001b[34m\u001b[1mwandb\u001b[0m: \tbatch_size: 32\n",
            "\u001b[34m\u001b[1mwandb\u001b[0m: \tepochs: 5\n",
            "\u001b[34m\u001b[1mwandb\u001b[0m: \teta: 0.005\n",
            "\u001b[34m\u001b[1mwandb\u001b[0m: \thidden_layers: 3\n",
            "\u001b[34m\u001b[1mwandb\u001b[0m: \toptimizer: adam\n",
            "\u001b[34m\u001b[1mwandb\u001b[0m: \tsize: 32\n",
            "\u001b[34m\u001b[1mwandb\u001b[0m: \twt_decay: 0.05\n",
            "\u001b[34m\u001b[1mwandb\u001b[0m: \twt_init: xavier\n"
          ]
        }
      ],
      "source": [
        "#wandb.agent(sweep_id, Model_train)            #Uncomment for wandb"
      ]
    },
    {
      "cell_type": "code",
      "execution_count": null,
      "metadata": {
        "id": "E0JFWTC2TO4L"
      },
      "outputs": [],
      "source": [
        ""
      ]
    }
  ],
  "metadata": {
    "accelerator": "GPU",
    "colab": {
      "collapsed_sections": [],
      "name": "EE20S051_ED21S007_DL_Assignment1.ipynb",
      "provenance": [],
      "include_colab_link": true
    },
    "kernelspec": {
      "display_name": "Python 3",
      "language": "python",
      "name": "python3"
    },
    "language_info": {
      "codemirror_mode": {
        "name": "ipython",
        "version": 3
      },
      "file_extension": ".py",
      "mimetype": "text/x-python",
      "name": "python",
      "nbconvert_exporter": "python",
      "pygments_lexer": "ipython3",
      "version": "3.8.5"
    },
    "widgets": {
      "application/vnd.jupyter.widget-state+json": {
        "01d6d49b00ef45df831484ff980fac14": {
          "model_module": "@jupyter-widgets/base",
          "model_module_version": "1.2.0",
          "model_name": "LayoutModel",
          "state": {
            "_model_module": "@jupyter-widgets/base",
            "_model_module_version": "1.2.0",
            "_model_name": "LayoutModel",
            "_view_count": null,
            "_view_module": "@jupyter-widgets/base",
            "_view_module_version": "1.2.0",
            "_view_name": "LayoutView",
            "align_content": null,
            "align_items": null,
            "align_self": null,
            "border": null,
            "bottom": null,
            "display": null,
            "flex": null,
            "flex_flow": null,
            "grid_area": null,
            "grid_auto_columns": null,
            "grid_auto_flow": null,
            "grid_auto_rows": null,
            "grid_column": null,
            "grid_gap": null,
            "grid_row": null,
            "grid_template_areas": null,
            "grid_template_columns": null,
            "grid_template_rows": null,
            "height": null,
            "justify_content": null,
            "justify_items": null,
            "left": null,
            "margin": null,
            "max_height": null,
            "max_width": null,
            "min_height": null,
            "min_width": null,
            "object_fit": null,
            "object_position": null,
            "order": null,
            "overflow": null,
            "overflow_x": null,
            "overflow_y": null,
            "padding": null,
            "right": null,
            "top": null,
            "visibility": null,
            "width": null
          }
        },
        "20162f9e6c324584acb17064a9c557a3": {
          "model_module": "@jupyter-widgets/controls",
          "model_module_version": "1.5.0",
          "model_name": "LabelModel",
          "state": {
            "_dom_classes": [],
            "_model_module": "@jupyter-widgets/controls",
            "_model_module_version": "1.5.0",
            "_model_name": "LabelModel",
            "_view_count": null,
            "_view_module": "@jupyter-widgets/controls",
            "_view_module_version": "1.5.0",
            "_view_name": "LabelView",
            "description": "",
            "description_tooltip": null,
            "layout": "IPY_MODEL_e2f8f2a82b5c4a42b6af9772aa2dc9ac",
            "placeholder": "​",
            "style": "IPY_MODEL_2578296451b34be68bac28a0749e0714",
            "value": " 0.01MB of 0.01MB uploaded (0.00MB deduped)\r"
          }
        },
        "2578296451b34be68bac28a0749e0714": {
          "model_module": "@jupyter-widgets/controls",
          "model_module_version": "1.5.0",
          "model_name": "DescriptionStyleModel",
          "state": {
            "_model_module": "@jupyter-widgets/controls",
            "_model_module_version": "1.5.0",
            "_model_name": "DescriptionStyleModel",
            "_view_count": null,
            "_view_module": "@jupyter-widgets/base",
            "_view_module_version": "1.2.0",
            "_view_name": "StyleView",
            "description_width": ""
          }
        },
        "4fc61f541ebf41d49455468d84b99a92": {
          "model_module": "@jupyter-widgets/controls",
          "model_module_version": "1.5.0",
          "model_name": "FloatProgressModel",
          "state": {
            "_dom_classes": [],
            "_model_module": "@jupyter-widgets/controls",
            "_model_module_version": "1.5.0",
            "_model_name": "FloatProgressModel",
            "_view_count": null,
            "_view_module": "@jupyter-widgets/controls",
            "_view_module_version": "1.5.0",
            "_view_name": "ProgressView",
            "bar_style": "",
            "description": "",
            "description_tooltip": null,
            "layout": "IPY_MODEL_01d6d49b00ef45df831484ff980fac14",
            "max": 1,
            "min": 0,
            "orientation": "horizontal",
            "style": "IPY_MODEL_ace0a23df6bd4fd087181c1af4621a9f",
            "value": 1
          }
        },
        "8aa646f66ce448648de64875a5645adf": {
          "model_module": "@jupyter-widgets/controls",
          "model_module_version": "1.5.0",
          "model_name": "VBoxModel",
          "state": {
            "_dom_classes": [],
            "_model_module": "@jupyter-widgets/controls",
            "_model_module_version": "1.5.0",
            "_model_name": "VBoxModel",
            "_view_count": null,
            "_view_module": "@jupyter-widgets/controls",
            "_view_module_version": "1.5.0",
            "_view_name": "VBoxView",
            "box_style": "",
            "children": [
              "IPY_MODEL_20162f9e6c324584acb17064a9c557a3",
              "IPY_MODEL_4fc61f541ebf41d49455468d84b99a92"
            ],
            "layout": "IPY_MODEL_d832b63bc14f4910875b2bf8d37b80c8"
          }
        },
        "ace0a23df6bd4fd087181c1af4621a9f": {
          "model_module": "@jupyter-widgets/controls",
          "model_module_version": "1.5.0",
          "model_name": "ProgressStyleModel",
          "state": {
            "_model_module": "@jupyter-widgets/controls",
            "_model_module_version": "1.5.0",
            "_model_name": "ProgressStyleModel",
            "_view_count": null,
            "_view_module": "@jupyter-widgets/base",
            "_view_module_version": "1.2.0",
            "_view_name": "StyleView",
            "bar_color": null,
            "description_width": ""
          }
        },
        "d832b63bc14f4910875b2bf8d37b80c8": {
          "model_module": "@jupyter-widgets/base",
          "model_module_version": "1.2.0",
          "model_name": "LayoutModel",
          "state": {
            "_model_module": "@jupyter-widgets/base",
            "_model_module_version": "1.2.0",
            "_model_name": "LayoutModel",
            "_view_count": null,
            "_view_module": "@jupyter-widgets/base",
            "_view_module_version": "1.2.0",
            "_view_name": "LayoutView",
            "align_content": null,
            "align_items": null,
            "align_self": null,
            "border": null,
            "bottom": null,
            "display": null,
            "flex": null,
            "flex_flow": null,
            "grid_area": null,
            "grid_auto_columns": null,
            "grid_auto_flow": null,
            "grid_auto_rows": null,
            "grid_column": null,
            "grid_gap": null,
            "grid_row": null,
            "grid_template_areas": null,
            "grid_template_columns": null,
            "grid_template_rows": null,
            "height": null,
            "justify_content": null,
            "justify_items": null,
            "left": null,
            "margin": null,
            "max_height": null,
            "max_width": null,
            "min_height": null,
            "min_width": null,
            "object_fit": null,
            "object_position": null,
            "order": null,
            "overflow": null,
            "overflow_x": null,
            "overflow_y": null,
            "padding": null,
            "right": null,
            "top": null,
            "visibility": null,
            "width": null
          }
        },
        "e2f8f2a82b5c4a42b6af9772aa2dc9ac": {
          "model_module": "@jupyter-widgets/base",
          "model_module_version": "1.2.0",
          "model_name": "LayoutModel",
          "state": {
            "_model_module": "@jupyter-widgets/base",
            "_model_module_version": "1.2.0",
            "_model_name": "LayoutModel",
            "_view_count": null,
            "_view_module": "@jupyter-widgets/base",
            "_view_module_version": "1.2.0",
            "_view_name": "LayoutView",
            "align_content": null,
            "align_items": null,
            "align_self": null,
            "border": null,
            "bottom": null,
            "display": null,
            "flex": null,
            "flex_flow": null,
            "grid_area": null,
            "grid_auto_columns": null,
            "grid_auto_flow": null,
            "grid_auto_rows": null,
            "grid_column": null,
            "grid_gap": null,
            "grid_row": null,
            "grid_template_areas": null,
            "grid_template_columns": null,
            "grid_template_rows": null,
            "height": null,
            "justify_content": null,
            "justify_items": null,
            "left": null,
            "margin": null,
            "max_height": null,
            "max_width": null,
            "min_height": null,
            "min_width": null,
            "object_fit": null,
            "object_position": null,
            "order": null,
            "overflow": null,
            "overflow_x": null,
            "overflow_y": null,
            "padding": null,
            "right": null,
            "top": null,
            "visibility": null,
            "width": null
          }
        },
        "be8c35486f6149b082db4f35991b9ce2": {
          "model_module": "@jupyter-widgets/controls",
          "model_name": "VBoxModel",
          "model_module_version": "1.5.0",
          "state": {
            "_view_name": "VBoxView",
            "_dom_classes": [],
            "_model_name": "VBoxModel",
            "_view_module": "@jupyter-widgets/controls",
            "_model_module_version": "1.5.0",
            "_view_count": null,
            "_view_module_version": "1.5.0",
            "box_style": "",
            "layout": "IPY_MODEL_e03a5248b2d44407bb7c7e26763bb5d5",
            "_model_module": "@jupyter-widgets/controls",
            "children": [
              "IPY_MODEL_92b801f9386643febd286c3c6b65be37",
              "IPY_MODEL_457d70960b59462d810416ee174d0725"
            ]
          }
        },
        "e03a5248b2d44407bb7c7e26763bb5d5": {
          "model_module": "@jupyter-widgets/base",
          "model_name": "LayoutModel",
          "model_module_version": "1.2.0",
          "state": {
            "_view_name": "LayoutView",
            "grid_template_rows": null,
            "right": null,
            "justify_content": null,
            "_view_module": "@jupyter-widgets/base",
            "overflow": null,
            "_model_module_version": "1.2.0",
            "_view_count": null,
            "flex_flow": null,
            "width": null,
            "min_width": null,
            "border": null,
            "align_items": null,
            "bottom": null,
            "_model_module": "@jupyter-widgets/base",
            "top": null,
            "grid_column": null,
            "overflow_y": null,
            "overflow_x": null,
            "grid_auto_flow": null,
            "grid_area": null,
            "grid_template_columns": null,
            "flex": null,
            "_model_name": "LayoutModel",
            "justify_items": null,
            "grid_row": null,
            "max_height": null,
            "align_content": null,
            "visibility": null,
            "align_self": null,
            "height": null,
            "min_height": null,
            "padding": null,
            "grid_auto_rows": null,
            "grid_gap": null,
            "max_width": null,
            "order": null,
            "_view_module_version": "1.2.0",
            "grid_template_areas": null,
            "object_position": null,
            "object_fit": null,
            "grid_auto_columns": null,
            "margin": null,
            "display": null,
            "left": null
          }
        },
        "92b801f9386643febd286c3c6b65be37": {
          "model_module": "@jupyter-widgets/controls",
          "model_name": "LabelModel",
          "model_module_version": "1.5.0",
          "state": {
            "_view_name": "LabelView",
            "style": "IPY_MODEL_fe76b5e5687c47b2b751825950e22651",
            "_dom_classes": [],
            "description": "",
            "_model_name": "LabelModel",
            "placeholder": "​",
            "_view_module": "@jupyter-widgets/controls",
            "_model_module_version": "1.5.0",
            "value": " 0.01MB of 0.01MB uploaded (0.00MB deduped)\r",
            "_view_count": null,
            "_view_module_version": "1.5.0",
            "description_tooltip": null,
            "_model_module": "@jupyter-widgets/controls",
            "layout": "IPY_MODEL_bdf0dad2fdaf416682460f2a6196b65b"
          }
        },
        "457d70960b59462d810416ee174d0725": {
          "model_module": "@jupyter-widgets/controls",
          "model_name": "FloatProgressModel",
          "model_module_version": "1.5.0",
          "state": {
            "_view_name": "ProgressView",
            "style": "IPY_MODEL_82a508e519874d5bba1bf960a588d3dc",
            "_dom_classes": [],
            "description": "",
            "_model_name": "FloatProgressModel",
            "bar_style": "",
            "max": 1,
            "_view_module": "@jupyter-widgets/controls",
            "_model_module_version": "1.5.0",
            "value": 1,
            "_view_count": null,
            "_view_module_version": "1.5.0",
            "orientation": "horizontal",
            "min": 0,
            "description_tooltip": null,
            "_model_module": "@jupyter-widgets/controls",
            "layout": "IPY_MODEL_3e65d2e7154545e6b35d1069df3f9549"
          }
        },
        "fe76b5e5687c47b2b751825950e22651": {
          "model_module": "@jupyter-widgets/controls",
          "model_name": "DescriptionStyleModel",
          "model_module_version": "1.5.0",
          "state": {
            "_view_name": "StyleView",
            "_model_name": "DescriptionStyleModel",
            "description_width": "",
            "_view_module": "@jupyter-widgets/base",
            "_model_module_version": "1.5.0",
            "_view_count": null,
            "_view_module_version": "1.2.0",
            "_model_module": "@jupyter-widgets/controls"
          }
        },
        "bdf0dad2fdaf416682460f2a6196b65b": {
          "model_module": "@jupyter-widgets/base",
          "model_name": "LayoutModel",
          "model_module_version": "1.2.0",
          "state": {
            "_view_name": "LayoutView",
            "grid_template_rows": null,
            "right": null,
            "justify_content": null,
            "_view_module": "@jupyter-widgets/base",
            "overflow": null,
            "_model_module_version": "1.2.0",
            "_view_count": null,
            "flex_flow": null,
            "width": null,
            "min_width": null,
            "border": null,
            "align_items": null,
            "bottom": null,
            "_model_module": "@jupyter-widgets/base",
            "top": null,
            "grid_column": null,
            "overflow_y": null,
            "overflow_x": null,
            "grid_auto_flow": null,
            "grid_area": null,
            "grid_template_columns": null,
            "flex": null,
            "_model_name": "LayoutModel",
            "justify_items": null,
            "grid_row": null,
            "max_height": null,
            "align_content": null,
            "visibility": null,
            "align_self": null,
            "height": null,
            "min_height": null,
            "padding": null,
            "grid_auto_rows": null,
            "grid_gap": null,
            "max_width": null,
            "order": null,
            "_view_module_version": "1.2.0",
            "grid_template_areas": null,
            "object_position": null,
            "object_fit": null,
            "grid_auto_columns": null,
            "margin": null,
            "display": null,
            "left": null
          }
        },
        "82a508e519874d5bba1bf960a588d3dc": {
          "model_module": "@jupyter-widgets/controls",
          "model_name": "ProgressStyleModel",
          "model_module_version": "1.5.0",
          "state": {
            "_view_name": "StyleView",
            "_model_name": "ProgressStyleModel",
            "description_width": "",
            "_view_module": "@jupyter-widgets/base",
            "_model_module_version": "1.5.0",
            "_view_count": null,
            "_view_module_version": "1.2.0",
            "bar_color": null,
            "_model_module": "@jupyter-widgets/controls"
          }
        },
        "3e65d2e7154545e6b35d1069df3f9549": {
          "model_module": "@jupyter-widgets/base",
          "model_name": "LayoutModel",
          "model_module_version": "1.2.0",
          "state": {
            "_view_name": "LayoutView",
            "grid_template_rows": null,
            "right": null,
            "justify_content": null,
            "_view_module": "@jupyter-widgets/base",
            "overflow": null,
            "_model_module_version": "1.2.0",
            "_view_count": null,
            "flex_flow": null,
            "width": null,
            "min_width": null,
            "border": null,
            "align_items": null,
            "bottom": null,
            "_model_module": "@jupyter-widgets/base",
            "top": null,
            "grid_column": null,
            "overflow_y": null,
            "overflow_x": null,
            "grid_auto_flow": null,
            "grid_area": null,
            "grid_template_columns": null,
            "flex": null,
            "_model_name": "LayoutModel",
            "justify_items": null,
            "grid_row": null,
            "max_height": null,
            "align_content": null,
            "visibility": null,
            "align_self": null,
            "height": null,
            "min_height": null,
            "padding": null,
            "grid_auto_rows": null,
            "grid_gap": null,
            "max_width": null,
            "order": null,
            "_view_module_version": "1.2.0",
            "grid_template_areas": null,
            "object_position": null,
            "object_fit": null,
            "grid_auto_columns": null,
            "margin": null,
            "display": null,
            "left": null
          }
        },
        "91a299c08a7d42a19d4cab69e504996e": {
          "model_module": "@jupyter-widgets/controls",
          "model_name": "VBoxModel",
          "model_module_version": "1.5.0",
          "state": {
            "_view_name": "VBoxView",
            "_dom_classes": [],
            "_model_name": "VBoxModel",
            "_view_module": "@jupyter-widgets/controls",
            "_model_module_version": "1.5.0",
            "_view_count": null,
            "_view_module_version": "1.5.0",
            "box_style": "",
            "layout": "IPY_MODEL_962e964aa0944036972fedb81f403f0d",
            "_model_module": "@jupyter-widgets/controls",
            "children": [
              "IPY_MODEL_b164ea7548404f018ab802e370aa8840",
              "IPY_MODEL_58253cb8a7ca449a8d7fa99b6bfef27d"
            ]
          }
        },
        "962e964aa0944036972fedb81f403f0d": {
          "model_module": "@jupyter-widgets/base",
          "model_name": "LayoutModel",
          "model_module_version": "1.2.0",
          "state": {
            "_view_name": "LayoutView",
            "grid_template_rows": null,
            "right": null,
            "justify_content": null,
            "_view_module": "@jupyter-widgets/base",
            "overflow": null,
            "_model_module_version": "1.2.0",
            "_view_count": null,
            "flex_flow": null,
            "width": null,
            "min_width": null,
            "border": null,
            "align_items": null,
            "bottom": null,
            "_model_module": "@jupyter-widgets/base",
            "top": null,
            "grid_column": null,
            "overflow_y": null,
            "overflow_x": null,
            "grid_auto_flow": null,
            "grid_area": null,
            "grid_template_columns": null,
            "flex": null,
            "_model_name": "LayoutModel",
            "justify_items": null,
            "grid_row": null,
            "max_height": null,
            "align_content": null,
            "visibility": null,
            "align_self": null,
            "height": null,
            "min_height": null,
            "padding": null,
            "grid_auto_rows": null,
            "grid_gap": null,
            "max_width": null,
            "order": null,
            "_view_module_version": "1.2.0",
            "grid_template_areas": null,
            "object_position": null,
            "object_fit": null,
            "grid_auto_columns": null,
            "margin": null,
            "display": null,
            "left": null
          }
        },
        "b164ea7548404f018ab802e370aa8840": {
          "model_module": "@jupyter-widgets/controls",
          "model_name": "LabelModel",
          "model_module_version": "1.5.0",
          "state": {
            "_view_name": "LabelView",
            "style": "IPY_MODEL_78d818a090e945548c01790b53200174",
            "_dom_classes": [],
            "description": "",
            "_model_name": "LabelModel",
            "placeholder": "​",
            "_view_module": "@jupyter-widgets/controls",
            "_model_module_version": "1.5.0",
            "value": " 0.01MB of 0.01MB uploaded (0.00MB deduped)\r",
            "_view_count": null,
            "_view_module_version": "1.5.0",
            "description_tooltip": null,
            "_model_module": "@jupyter-widgets/controls",
            "layout": "IPY_MODEL_8fd70f70e55d4f6da54df8d2a357ff42"
          }
        },
        "58253cb8a7ca449a8d7fa99b6bfef27d": {
          "model_module": "@jupyter-widgets/controls",
          "model_name": "FloatProgressModel",
          "model_module_version": "1.5.0",
          "state": {
            "_view_name": "ProgressView",
            "style": "IPY_MODEL_9f8b86cd3eb3483ba5c8f11177ea768e",
            "_dom_classes": [],
            "description": "",
            "_model_name": "FloatProgressModel",
            "bar_style": "",
            "max": 1,
            "_view_module": "@jupyter-widgets/controls",
            "_model_module_version": "1.5.0",
            "value": 1,
            "_view_count": null,
            "_view_module_version": "1.5.0",
            "orientation": "horizontal",
            "min": 0,
            "description_tooltip": null,
            "_model_module": "@jupyter-widgets/controls",
            "layout": "IPY_MODEL_a2b9d17cb20c4fe78060cdae8e8c5415"
          }
        },
        "78d818a090e945548c01790b53200174": {
          "model_module": "@jupyter-widgets/controls",
          "model_name": "DescriptionStyleModel",
          "model_module_version": "1.5.0",
          "state": {
            "_view_name": "StyleView",
            "_model_name": "DescriptionStyleModel",
            "description_width": "",
            "_view_module": "@jupyter-widgets/base",
            "_model_module_version": "1.5.0",
            "_view_count": null,
            "_view_module_version": "1.2.0",
            "_model_module": "@jupyter-widgets/controls"
          }
        },
        "8fd70f70e55d4f6da54df8d2a357ff42": {
          "model_module": "@jupyter-widgets/base",
          "model_name": "LayoutModel",
          "model_module_version": "1.2.0",
          "state": {
            "_view_name": "LayoutView",
            "grid_template_rows": null,
            "right": null,
            "justify_content": null,
            "_view_module": "@jupyter-widgets/base",
            "overflow": null,
            "_model_module_version": "1.2.0",
            "_view_count": null,
            "flex_flow": null,
            "width": null,
            "min_width": null,
            "border": null,
            "align_items": null,
            "bottom": null,
            "_model_module": "@jupyter-widgets/base",
            "top": null,
            "grid_column": null,
            "overflow_y": null,
            "overflow_x": null,
            "grid_auto_flow": null,
            "grid_area": null,
            "grid_template_columns": null,
            "flex": null,
            "_model_name": "LayoutModel",
            "justify_items": null,
            "grid_row": null,
            "max_height": null,
            "align_content": null,
            "visibility": null,
            "align_self": null,
            "height": null,
            "min_height": null,
            "padding": null,
            "grid_auto_rows": null,
            "grid_gap": null,
            "max_width": null,
            "order": null,
            "_view_module_version": "1.2.0",
            "grid_template_areas": null,
            "object_position": null,
            "object_fit": null,
            "grid_auto_columns": null,
            "margin": null,
            "display": null,
            "left": null
          }
        },
        "9f8b86cd3eb3483ba5c8f11177ea768e": {
          "model_module": "@jupyter-widgets/controls",
          "model_name": "ProgressStyleModel",
          "model_module_version": "1.5.0",
          "state": {
            "_view_name": "StyleView",
            "_model_name": "ProgressStyleModel",
            "description_width": "",
            "_view_module": "@jupyter-widgets/base",
            "_model_module_version": "1.5.0",
            "_view_count": null,
            "_view_module_version": "1.2.0",
            "bar_color": null,
            "_model_module": "@jupyter-widgets/controls"
          }
        },
        "a2b9d17cb20c4fe78060cdae8e8c5415": {
          "model_module": "@jupyter-widgets/base",
          "model_name": "LayoutModel",
          "model_module_version": "1.2.0",
          "state": {
            "_view_name": "LayoutView",
            "grid_template_rows": null,
            "right": null,
            "justify_content": null,
            "_view_module": "@jupyter-widgets/base",
            "overflow": null,
            "_model_module_version": "1.2.0",
            "_view_count": null,
            "flex_flow": null,
            "width": null,
            "min_width": null,
            "border": null,
            "align_items": null,
            "bottom": null,
            "_model_module": "@jupyter-widgets/base",
            "top": null,
            "grid_column": null,
            "overflow_y": null,
            "overflow_x": null,
            "grid_auto_flow": null,
            "grid_area": null,
            "grid_template_columns": null,
            "flex": null,
            "_model_name": "LayoutModel",
            "justify_items": null,
            "grid_row": null,
            "max_height": null,
            "align_content": null,
            "visibility": null,
            "align_self": null,
            "height": null,
            "min_height": null,
            "padding": null,
            "grid_auto_rows": null,
            "grid_gap": null,
            "max_width": null,
            "order": null,
            "_view_module_version": "1.2.0",
            "grid_template_areas": null,
            "object_position": null,
            "object_fit": null,
            "grid_auto_columns": null,
            "margin": null,
            "display": null,
            "left": null
          }
        },
        "bc01627187394831a498b5d5d14c69f1": {
          "model_module": "@jupyter-widgets/controls",
          "model_name": "VBoxModel",
          "model_module_version": "1.5.0",
          "state": {
            "_view_name": "VBoxView",
            "_dom_classes": [],
            "_model_name": "VBoxModel",
            "_view_module": "@jupyter-widgets/controls",
            "_model_module_version": "1.5.0",
            "_view_count": null,
            "_view_module_version": "1.5.0",
            "box_style": "",
            "layout": "IPY_MODEL_1ce0178c338941fba2cbd82a541c22df",
            "_model_module": "@jupyter-widgets/controls",
            "children": [
              "IPY_MODEL_372bb495740d4a5589b5f9bb8fe7aa44",
              "IPY_MODEL_ba0abd0649524c178d60d399575a94dc"
            ]
          }
        },
        "1ce0178c338941fba2cbd82a541c22df": {
          "model_module": "@jupyter-widgets/base",
          "model_name": "LayoutModel",
          "model_module_version": "1.2.0",
          "state": {
            "_view_name": "LayoutView",
            "grid_template_rows": null,
            "right": null,
            "justify_content": null,
            "_view_module": "@jupyter-widgets/base",
            "overflow": null,
            "_model_module_version": "1.2.0",
            "_view_count": null,
            "flex_flow": null,
            "width": null,
            "min_width": null,
            "border": null,
            "align_items": null,
            "bottom": null,
            "_model_module": "@jupyter-widgets/base",
            "top": null,
            "grid_column": null,
            "overflow_y": null,
            "overflow_x": null,
            "grid_auto_flow": null,
            "grid_area": null,
            "grid_template_columns": null,
            "flex": null,
            "_model_name": "LayoutModel",
            "justify_items": null,
            "grid_row": null,
            "max_height": null,
            "align_content": null,
            "visibility": null,
            "align_self": null,
            "height": null,
            "min_height": null,
            "padding": null,
            "grid_auto_rows": null,
            "grid_gap": null,
            "max_width": null,
            "order": null,
            "_view_module_version": "1.2.0",
            "grid_template_areas": null,
            "object_position": null,
            "object_fit": null,
            "grid_auto_columns": null,
            "margin": null,
            "display": null,
            "left": null
          }
        },
        "372bb495740d4a5589b5f9bb8fe7aa44": {
          "model_module": "@jupyter-widgets/controls",
          "model_name": "LabelModel",
          "model_module_version": "1.5.0",
          "state": {
            "_view_name": "LabelView",
            "style": "IPY_MODEL_a7ed15a73ceb4be8bdf7c177f712f10f",
            "_dom_classes": [],
            "description": "",
            "_model_name": "LabelModel",
            "placeholder": "​",
            "_view_module": "@jupyter-widgets/controls",
            "_model_module_version": "1.5.0",
            "value": " 0.01MB of 0.01MB uploaded (0.00MB deduped)\r",
            "_view_count": null,
            "_view_module_version": "1.5.0",
            "description_tooltip": null,
            "_model_module": "@jupyter-widgets/controls",
            "layout": "IPY_MODEL_9dc8e01bcd3c4c14a40ad8e740fc3c40"
          }
        },
        "ba0abd0649524c178d60d399575a94dc": {
          "model_module": "@jupyter-widgets/controls",
          "model_name": "FloatProgressModel",
          "model_module_version": "1.5.0",
          "state": {
            "_view_name": "ProgressView",
            "style": "IPY_MODEL_bfa2c222a0744824b68410308010428b",
            "_dom_classes": [],
            "description": "",
            "_model_name": "FloatProgressModel",
            "bar_style": "",
            "max": 1,
            "_view_module": "@jupyter-widgets/controls",
            "_model_module_version": "1.5.0",
            "value": 1,
            "_view_count": null,
            "_view_module_version": "1.5.0",
            "orientation": "horizontal",
            "min": 0,
            "description_tooltip": null,
            "_model_module": "@jupyter-widgets/controls",
            "layout": "IPY_MODEL_85d18c04077849a0ab37988f7d6e4c3c"
          }
        },
        "a7ed15a73ceb4be8bdf7c177f712f10f": {
          "model_module": "@jupyter-widgets/controls",
          "model_name": "DescriptionStyleModel",
          "model_module_version": "1.5.0",
          "state": {
            "_view_name": "StyleView",
            "_model_name": "DescriptionStyleModel",
            "description_width": "",
            "_view_module": "@jupyter-widgets/base",
            "_model_module_version": "1.5.0",
            "_view_count": null,
            "_view_module_version": "1.2.0",
            "_model_module": "@jupyter-widgets/controls"
          }
        },
        "9dc8e01bcd3c4c14a40ad8e740fc3c40": {
          "model_module": "@jupyter-widgets/base",
          "model_name": "LayoutModel",
          "model_module_version": "1.2.0",
          "state": {
            "_view_name": "LayoutView",
            "grid_template_rows": null,
            "right": null,
            "justify_content": null,
            "_view_module": "@jupyter-widgets/base",
            "overflow": null,
            "_model_module_version": "1.2.0",
            "_view_count": null,
            "flex_flow": null,
            "width": null,
            "min_width": null,
            "border": null,
            "align_items": null,
            "bottom": null,
            "_model_module": "@jupyter-widgets/base",
            "top": null,
            "grid_column": null,
            "overflow_y": null,
            "overflow_x": null,
            "grid_auto_flow": null,
            "grid_area": null,
            "grid_template_columns": null,
            "flex": null,
            "_model_name": "LayoutModel",
            "justify_items": null,
            "grid_row": null,
            "max_height": null,
            "align_content": null,
            "visibility": null,
            "align_self": null,
            "height": null,
            "min_height": null,
            "padding": null,
            "grid_auto_rows": null,
            "grid_gap": null,
            "max_width": null,
            "order": null,
            "_view_module_version": "1.2.0",
            "grid_template_areas": null,
            "object_position": null,
            "object_fit": null,
            "grid_auto_columns": null,
            "margin": null,
            "display": null,
            "left": null
          }
        },
        "bfa2c222a0744824b68410308010428b": {
          "model_module": "@jupyter-widgets/controls",
          "model_name": "ProgressStyleModel",
          "model_module_version": "1.5.0",
          "state": {
            "_view_name": "StyleView",
            "_model_name": "ProgressStyleModel",
            "description_width": "",
            "_view_module": "@jupyter-widgets/base",
            "_model_module_version": "1.5.0",
            "_view_count": null,
            "_view_module_version": "1.2.0",
            "bar_color": null,
            "_model_module": "@jupyter-widgets/controls"
          }
        },
        "85d18c04077849a0ab37988f7d6e4c3c": {
          "model_module": "@jupyter-widgets/base",
          "model_name": "LayoutModel",
          "model_module_version": "1.2.0",
          "state": {
            "_view_name": "LayoutView",
            "grid_template_rows": null,
            "right": null,
            "justify_content": null,
            "_view_module": "@jupyter-widgets/base",
            "overflow": null,
            "_model_module_version": "1.2.0",
            "_view_count": null,
            "flex_flow": null,
            "width": null,
            "min_width": null,
            "border": null,
            "align_items": null,
            "bottom": null,
            "_model_module": "@jupyter-widgets/base",
            "top": null,
            "grid_column": null,
            "overflow_y": null,
            "overflow_x": null,
            "grid_auto_flow": null,
            "grid_area": null,
            "grid_template_columns": null,
            "flex": null,
            "_model_name": "LayoutModel",
            "justify_items": null,
            "grid_row": null,
            "max_height": null,
            "align_content": null,
            "visibility": null,
            "align_self": null,
            "height": null,
            "min_height": null,
            "padding": null,
            "grid_auto_rows": null,
            "grid_gap": null,
            "max_width": null,
            "order": null,
            "_view_module_version": "1.2.0",
            "grid_template_areas": null,
            "object_position": null,
            "object_fit": null,
            "grid_auto_columns": null,
            "margin": null,
            "display": null,
            "left": null
          }
        }
      }
    }
  },
  "nbformat": 4,
  "nbformat_minor": 0
}