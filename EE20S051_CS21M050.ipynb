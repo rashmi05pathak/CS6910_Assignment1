{
  "nbformat": 4,
  "nbformat_minor": 0,
  "metadata": {
    "kernelspec": {
      "display_name": "Python 3",
      "language": "python",
      "name": "python3"
    },
    "language_info": {
      "codemirror_mode": {
        "name": "ipython",
        "version": 3
      },
      "file_extension": ".py",
      "mimetype": "text/x-python",
      "name": "python",
      "nbconvert_exporter": "python",
      "pygments_lexer": "ipython3",
      "version": "3.7.6"
    },
    "colab": {
      "name": "EE20S051_CS21M050.ipynb",
      "provenance": [],
      "collapsed_sections": [],
      "include_colab_link": true
    }
  },
  "cells": [
    {
      "cell_type": "markdown",
      "metadata": {
        "id": "view-in-github",
        "colab_type": "text"
      },
      "source": [
        "<a href=\"https://colab.research.google.com/github/rashmi05pathak/CS6910_Assignment1/blob/main/EE20S051_CS21M050.ipynb\" target=\"_parent\"><img src=\"https://colab.research.google.com/assets/colab-badge.svg\" alt=\"Open In Colab\"/></a>"
      ]
    },
    {
      "cell_type": "code",
      "metadata": {
        "colab": {
          "base_uri": "https://localhost:8080/"
        },
        "id": "xVL_ojcrRDm6",
        "outputId": "3b943465-4310-4a75-b65f-19f8d41143e3"
      },
      "source": [
        "#****PLease mount the drive according to your PRML folder location\n",
        "from google.colab import drive\n",
        "drive.mount('/content/drive')"
      ],
      "execution_count": 2,
      "outputs": [
        {
          "output_type": "stream",
          "name": "stdout",
          "text": [
            "Mounted at /content/drive\n"
          ]
        }
      ]
    },
    {
      "cell_type": "code",
      "metadata": {
        "id": "vTSit1RFIXgg"
      },
      "source": [
        "from matplotlib import pyplot\n",
        "from keras.datasets import fashion_mnist"
      ],
      "execution_count": 3,
      "outputs": []
    },
    {
      "cell_type": "code",
      "source": [
        "# load dataset\n",
        "(trainX, trainy), (testX, testy) = fashion_mnist.load_data()"
      ],
      "metadata": {
        "colab": {
          "base_uri": "https://localhost:8080/"
        },
        "id": "UlJQpCpvZfCk",
        "outputId": "926baead-493c-4df7-fac3-4dfd446057b4"
      },
      "execution_count": 4,
      "outputs": [
        {
          "output_type": "stream",
          "name": "stdout",
          "text": [
            "Downloading data from https://storage.googleapis.com/tensorflow/tf-keras-datasets/train-labels-idx1-ubyte.gz\n",
            "32768/29515 [=================================] - 0s 0us/step\n",
            "40960/29515 [=========================================] - 0s 0us/step\n",
            "Downloading data from https://storage.googleapis.com/tensorflow/tf-keras-datasets/train-images-idx3-ubyte.gz\n",
            "26427392/26421880 [==============================] - 0s 0us/step\n",
            "26435584/26421880 [==============================] - 0s 0us/step\n",
            "Downloading data from https://storage.googleapis.com/tensorflow/tf-keras-datasets/t10k-labels-idx1-ubyte.gz\n",
            "16384/5148 [===============================================================================================] - 0s 0us/step\n",
            "Downloading data from https://storage.googleapis.com/tensorflow/tf-keras-datasets/t10k-images-idx3-ubyte.gz\n",
            "4423680/4422102 [==============================] - 0s 0us/step\n",
            "4431872/4422102 [==============================] - 0s 0us/step\n"
          ]
        }
      ]
    },
    {
      "cell_type": "code",
      "source": [
        "# summarize loaded dataset\n",
        "print('Train: X=%s, y=%s' % (trainX.shape, trainy.shape))\n",
        "print('Test: X=%s, y=%s' % (testX.shape, testy.shape))"
      ],
      "metadata": {
        "colab": {
          "base_uri": "https://localhost:8080/"
        },
        "id": "ZlF1QxYXZzn4",
        "outputId": "391c0b8d-00e9-4740-9380-7a920b1a2188"
      },
      "execution_count": 5,
      "outputs": [
        {
          "output_type": "stream",
          "name": "stdout",
          "text": [
            "Train: X=(60000, 28, 28), y=(60000,)\n",
            "Test: X=(10000, 28, 28), y=(10000,)\n"
          ]
        }
      ]
    },
    {
      "cell_type": "code",
      "source": [
        "#Searching classes 0 to 9 from trainy\n",
        "list_of_index = {}\n",
        "for i in range(60000):\n",
        "    if(list_of_index.get(trainy[i]) != True):\n",
        "      list_of_index[trainy[i]] = i #class item train[i] found at index i  \n",
        " #CLass 0 to 9 is stored in the list_of_index dictionary "
      ],
      "metadata": {
        "id": "chQsm5d8Z4Nl"
      },
      "execution_count": 6,
      "outputs": []
    },
    {
      "cell_type": "code",
      "source": [
        "list_of_index"
      ],
      "metadata": {
        "colab": {
          "base_uri": "https://localhost:8080/"
        },
        "id": "LmEuLRK0iGOM",
        "outputId": "21baae47-e366-4f38-ef2f-fb1ecfdc5962"
      },
      "execution_count": 7,
      "outputs": [
        {
          "output_type": "execute_result",
          "data": {
            "text/plain": [
              "{0: 1,\n",
              " 1: 59996,\n",
              " 2: 59993,\n",
              " 3: 59997,\n",
              " 4: 59990,\n",
              " 5: 59999,\n",
              " 6: 59988,\n",
              " 7: 59992,\n",
              " 8: 59994,\n",
              " 9: 59978}"
            ]
          },
          "metadata": {},
          "execution_count": 7
        }
      ]
    },
    {
      "cell_type": "code",
      "source": [
        "#Q1. Plotting fashion Mnist Dataset\n",
        "# create figure\n",
        "fig = pyplot.figure(figsize=(10, 7))\n",
        "# setting values to rows and column variables\n",
        "rows = 2\n",
        "columns = 5\n",
        "for i in range(10):\n",
        "\t# Adds a subplot at the 2nd position\n",
        "    fig.add_subplot(rows, columns, i+1)\n",
        "    j = list_of_index.get(i)\n",
        "    # showing image\n",
        "    pyplot.imshow(trainX[j],cmap = 'gray')\n",
        "    pyplot.axis('off')\n",
        "    pyplot.title(\"class\"+ str(i))\n",
        "# show the figure\n",
        "pyplot.show()"
      ],
      "metadata": {
        "colab": {
          "base_uri": "https://localhost:8080/",
          "height": 351
        },
        "id": "5A0XLAVbbxVn",
        "outputId": "845dd2c3-e49a-46f1-ecf6-61245eee46a5"
      },
      "execution_count": 8,
      "outputs": [
        {
          "output_type": "display_data",
          "data": {
            "image/png": "[encoded data removed]",
            "text/plain": [
              "<Figure size 720x504 with 10 Axes>"
            ]
          },
          "metadata": {
            "needs_background": "light"
          }
        }
      ]
    },
    {
      "cell_type": "code",
      "source": [
        "# reshape dataset to have a single channel\n",
        "trainX = trainX.reshape((trainX.shape[0], 28, 28, 1))\n",
        "testX = testX.reshape((testX.shape[0], 28, 28, 1))"
      ],
      "metadata": {
        "id": "baFyt6n1k1fI"
      },
      "execution_count": 9,
      "outputs": []
    },
    {
      "cell_type": "code",
      "source": [
        "trainX[0].shape"
      ],
      "metadata": {
        "colab": {
          "base_uri": "https://localhost:8080/"
        },
        "id": "N8ht0HobrTkj",
        "outputId": "e323358f-811e-4f03-f4eb-7da3017ca770"
      },
      "execution_count": 18,
      "outputs": [
        {
          "output_type": "execute_result",
          "data": {
            "text/plain": [
              "(28, 28, 1)"
            ]
          },
          "metadata": {},
          "execution_count": 18
        }
      ]
    },
    {
      "cell_type": "code",
      "metadata": {
        "id": "Q5RiEJEyNQ7c"
      },
      "source": [
        "import pandas as pd\n",
        "import numpy as np\n",
        "import matplotlib.pyplot as plt"
      ],
      "execution_count": 11,
      "outputs": []
    },
    {
      "cell_type": "code",
      "metadata": {
        "id": "vSw5xqa3NQ7e"
      },
      "source": [
        "#dataset_training1 = pd.read_csv(str_path+'PRML/IITM/Question1/Train_Dataset1.csv',header = None)"
      ],
      "execution_count": 29,
      "outputs": []
    },
    {
      "cell_type": "code",
      "metadata": {
        "id": "lQYHUxe5NQ7g"
      },
      "source": [
        "#dataset_training2 = pd.read_csv(str_path+'PRML/IITM/Question1/Train_Dataset2.csv',header = None)"
      ],
      "execution_count": 30,
      "outputs": []
    },
    {
      "cell_type": "code",
      "metadata": {
        "id": "rvfVl5PQNQ7h"
      },
      "source": [
        "#dataset_training1_arr = dataset_training1.to_numpy()"
      ],
      "execution_count": 31,
      "outputs": []
    },
    {
      "cell_type": "code",
      "metadata": {
        "id": "CyWen5GENQ7h"
      },
      "source": [
        "#dataset_training2_arr = dataset_training2.to_numpy()"
      ],
      "execution_count": 32,
      "outputs": []
    },
    {
      "cell_type": "code",
      "metadata": {
        "id": "I42MWfsFNQ7i"
      },
      "source": [
        "#dataset_training1_arr.shape"
      ],
      "execution_count": 33,
      "outputs": []
    },
    {
      "cell_type": "code",
      "metadata": {
        "id": "vTXz9qnCNQ7k"
      },
      "source": [
        "#Q1(a)****Plotting dataset 1********#\n",
        "#plt.scatter(dataset_training1_arr[:,0], dataset_training1_arr[:,1], color = \"g\",marker = \"o\", s = 30)"
      ],
      "execution_count": 34,
      "outputs": []
    },
    {
      "cell_type": "code",
      "metadata": {
        "id": "8rMwX3FMNQ7l"
      },
      "source": [
        "#Q1(b)Plotting Dataset2********# \n",
        "#plt.scatter(dataset_training2_arr[:,0],dataset_training2_arr[:,1],color = \"g\",marker = \"o\", s = 30)"
      ],
      "execution_count": 35,
      "outputs": []
    },
    {
      "cell_type": "code",
      "metadata": {
        "id": "pjwSZTyvNQ7m"
      },
      "source": [
        "#Test data\n",
        "#dataset_testing1 = pd.read_csv(str_path+'PRML/IITM/Question1/Test_Dataset1.csv',header = None)\n",
        "#dataset_testing2 = pd.read_csv(str_path+'PRML/IITM/Question1/Test_Dataset2.csv',header = None)"
      ],
      "execution_count": 36,
      "outputs": []
    },
    {
      "cell_type": "code",
      "metadata": {
        "id": "sD8H6pQmNQ7m"
      },
      "source": [
        "#dataset_testing1_arr = dataset_testing1.to_numpy()\n",
        "#dataset_testing2_arr = dataset_testing2.to_numpy()"
      ],
      "execution_count": 37,
      "outputs": []
    },
    {
      "cell_type": "code",
      "metadata": {
        "id": "qPx1DJN_7NJt"
      },
      "source": [
        "#dataset_training2_arr.shape"
      ],
      "execution_count": 38,
      "outputs": []
    },
    {
      "cell_type": "code",
      "metadata": {
        "id": "lmoOkRqANQ7q"
      },
      "source": [
        "def sigmoid(x):\n",
        "    s = 1/(1+np.exp(-x))\n",
        "    return s"
      ],
      "execution_count": null,
      "outputs": []
    },
    {
      "cell_type": "code",
      "metadata": {
        "id": "YUnoe7vVNQ7q"
      },
      "source": [
        "#Initialize the model’s parameters\n",
        "def initialize_parameters(X, n_h, n_y):\n",
        "    np.random.seed(2) # we set up a seed so that output matches\n",
        "    #Weight and bias \n",
        "    n_x = int(X[0].shape)\n",
        "    W1 = np.random.randn(n_h,n_x) * 0.01\n",
        "    b1 = np.zeros((n_h,1))\n",
        "    W2 = np.random.randn(n_y,n_h)* 0.01\n",
        "    b2 = np.zeros((n_y,1))\n",
        "    #print(W1,b1,W2,b2)\n",
        "    parameters = {\"W1\": W1,\"b1\": b1,\"W2\": W2,\"b2\": b2}\n",
        "    return parameters"
      ],
      "execution_count": 27,
      "outputs": []
    },
    {
      "cell_type": "code",
      "metadata": {
        "id": "HDcMGtvENQ7r"
      },
      "source": [
        "def forward_propagation(X, parameters): \n",
        "    # Retrieve each parameter from the dictionary \"parameters\" \n",
        "    W1 = parameters[\"W1\"]\n",
        "    b1 = parameters[\"b1\"]\n",
        "    W2 = parameters[\"W2\"]\n",
        "    b2 = parameters[\"b2\"]\n",
        "    # Implement Forward Propagation to calculate A2\n",
        "    Z1 = np.dot(W1,X)+b1\n",
        "    A1 = sigmoid(Z1)\n",
        "    Z2 = np.dot(W2,A1)+b2 \n",
        "    A2 = Z2\n",
        "    cache = {\"Z1\": Z1,\"A1\": A1,\"Z2\": Z2,\"A2\": A2}\n",
        "    return A2, cache"
      ],
      "execution_count": 13,
      "outputs": []
    },
    {
      "cell_type": "code",
      "metadata": {
        "id": "SeUl4PQaNQ7s"
      },
      "source": [
        "#implement mean squared error as output is real number\n",
        "def mean_squared_error(y_true,y_pred):\n",
        "    length = y_pred.shape[0]\n",
        "    sum_error = 0\n",
        "    for i in range(length):\n",
        "        sum_error = sum_error + ((y_pred[i] - y_true[i])**2)\n",
        "    return sum_error/length"
      ],
      "execution_count": 15,
      "outputs": []
    },
    {
      "cell_type": "code",
      "metadata": {
        "id": "E4jfb_XdNQ7s"
      },
      "source": [
        "#Notation used meaning is as below\n",
        "#dW1 = ∂J/∂W1\n",
        "#db1 = ∂J/∂b1\n",
        "#dW2 = ∂J/∂W2\n",
        "#db2 = ∂J/∂b2\n",
        "#A1*(1 - A1) is differentiation of sigmoid function\n",
        "# Implementing backward_propagation\n",
        "def backward_propagation(parameters, cache, X, Y):\n",
        "   # m = 1 #one dimensional data\n",
        "    # First, retrieve W1 and W2 from the dictionary \"parameters\". \n",
        "    W1 = parameters[\"W1\"]\n",
        "    W2 = parameters[\"W2\"]\n",
        "    A1 = cache[\"A1\"]\n",
        "    A2 = cache[\"A2\"]\n",
        "    # Backward propagation: calculate dW1, db1, dW2, db2.\n",
        "    dZ2 = A2-Y\n",
        "    dW2 = np.dot(dZ2,A1.T)\n",
        "    db2 = np.sum(dZ2,axis=1,keepdims=True)\n",
        "    dZ1 = np.dot(W2.T,dZ2)*A1*(1 - A1) #sigmoid as activation function at hidden layer\n",
        "    dW1 = np.dot(dZ1,X.T)\n",
        "    db1 = np.sum(dZ1,axis=1,keepdims=True)\n",
        "    grads = {\"dW1\": dW1,\"db1\": db1,\"dW2\": dW2,\"db2\": db2}\n",
        "    return grads"
      ],
      "execution_count": null,
      "outputs": []
    },
    {
      "cell_type": "markdown",
      "metadata": {
        "id": "ulawqQFK9ukM"
      },
      "source": [
        ""
      ]
    },
    {
      "cell_type": "code",
      "metadata": {
        "id": "9-rSOh2jNQ7s"
      },
      "source": [
        "def update_parameters(parameters, grads, learning_rate): \n",
        "    W1 = parameters[\"W1\"]\n",
        "    b1 = parameters[\"b1\"]\n",
        "    W2 = parameters[\"W2\"]\n",
        "    b2 = parameters[\"b2\"]\n",
        "    dW1 = grads[\"dW1\"]\n",
        "    db1 = grads[\"db1\"]\n",
        "    dW2 = grads[\"dW2\"] \n",
        "    db2 = grads[\"db2\"]\n",
        "    W1 = W1-learning_rate*dW1\n",
        "    b1 = b1-learning_rate*db1\n",
        "    W2 = W2-learning_rate*dW2\n",
        "    b2 = b2-learning_rate*db2\n",
        "    parameters = {\"W1\": W1,\"b1\": b1,\"W2\": W2,\"b2\": b2}\n",
        "    return parameters"
      ],
      "execution_count": null,
      "outputs": []
    },
    {
      "cell_type": "code",
      "metadata": {
        "id": "_RukkvmsNQ7t"
      },
      "source": [
        "#****Neural Network method***********#\n",
        "def nn_model(X, Y, n_h, num_iterations,learning_rate): \n",
        "    np.random.seed(3)\n",
        "    parameters = initialize_parameters(X, n_h, 10) \n",
        "    W1 = parameters[\"W1\"]\n",
        "    b1 = parameters[\"b1\"]\n",
        "    W2 = parameters[\"W2\"]\n",
        "    b2 = parameters[\"b2\"] \n",
        "    # Loop (gradient descent)\n",
        "    for i in range(0, num_iterations):\n",
        "        for x,y in zip(X,Y):\n",
        "            A2, cache = forward_propagation(x, parameters)\n",
        "            #grads = backward_propagation(parameters, cache, x, y)\n",
        "            # Gradient descent parameter update.\n",
        "            #parameters = update_parameters(parameters, grads,learning_rate) \n",
        "    return parameters"
      ],
      "execution_count": 24,
      "outputs": []
    },
    {
      "cell_type": "code",
      "source": [
        ""
      ],
      "metadata": {
        "colab": {
          "base_uri": "https://localhost:8080/"
        },
        "id": "WbpPoPKwyetQ",
        "outputId": "6adba41b-5763-49ab-eb48-09b98c3f4470"
      },
      "execution_count": 25,
      "outputs": [
        {
          "output_type": "execute_result",
          "data": {
            "text/plain": [
              "(60000, 28, 28, 1)"
            ]
          },
          "metadata": {},
          "execution_count": 25
        }
      ]
    },
    {
      "cell_type": "code",
      "source": [
        "parameters1 = nn_model(trainX,trainy,1,100,0.1)"
      ],
      "metadata": {
        "colab": {
          "base_uri": "https://localhost:8080/",
          "height": 312
        },
        "id": "73HoD9jqoaht",
        "outputId": "58196526-2da4-435c-e57d-3cfab867a61c"
      },
      "execution_count": 28,
      "outputs": [
        {
          "output_type": "error",
          "ename": "TypeError",
          "evalue": "ignored",
          "traceback": [
            "\u001b[0;31m---------------------------------------------------------------------------\u001b[0m",
            "\u001b[0;31mTypeError\u001b[0m                                 Traceback (most recent call last)",
            "\u001b[0;32m<ipython-input-28-75bb9ef475c0>\u001b[0m in \u001b[0;36m<module>\u001b[0;34m()\u001b[0m\n\u001b[0;32m----> 1\u001b[0;31m \u001b[0mparameters1\u001b[0m \u001b[0;34m=\u001b[0m \u001b[0mnn_model\u001b[0m\u001b[0;34m(\u001b[0m\u001b[0mtrainX\u001b[0m\u001b[0;34m,\u001b[0m\u001b[0mtrainy\u001b[0m\u001b[0;34m,\u001b[0m\u001b[0;36m1\u001b[0m\u001b[0;34m,\u001b[0m\u001b[0;36m100\u001b[0m\u001b[0;34m,\u001b[0m\u001b[0;36m0.1\u001b[0m\u001b[0;34m)\u001b[0m\u001b[0;34m\u001b[0m\u001b[0;34m\u001b[0m\u001b[0m\n\u001b[0m",
            "\u001b[0;32m<ipython-input-24-87a234475235>\u001b[0m in \u001b[0;36mnn_model\u001b[0;34m(X, Y, n_h, num_iterations, learning_rate)\u001b[0m\n\u001b[1;32m      2\u001b[0m \u001b[0;32mdef\u001b[0m \u001b[0mnn_model\u001b[0m\u001b[0;34m(\u001b[0m\u001b[0mX\u001b[0m\u001b[0;34m,\u001b[0m \u001b[0mY\u001b[0m\u001b[0;34m,\u001b[0m \u001b[0mn_h\u001b[0m\u001b[0;34m,\u001b[0m \u001b[0mnum_iterations\u001b[0m\u001b[0;34m,\u001b[0m\u001b[0mlearning_rate\u001b[0m\u001b[0;34m)\u001b[0m\u001b[0;34m:\u001b[0m\u001b[0;34m\u001b[0m\u001b[0;34m\u001b[0m\u001b[0m\n\u001b[1;32m      3\u001b[0m     \u001b[0mnp\u001b[0m\u001b[0;34m.\u001b[0m\u001b[0mrandom\u001b[0m\u001b[0;34m.\u001b[0m\u001b[0mseed\u001b[0m\u001b[0;34m(\u001b[0m\u001b[0;36m3\u001b[0m\u001b[0;34m)\u001b[0m\u001b[0;34m\u001b[0m\u001b[0;34m\u001b[0m\u001b[0m\n\u001b[0;32m----> 4\u001b[0;31m     \u001b[0mparameters\u001b[0m \u001b[0;34m=\u001b[0m \u001b[0minitialize_parameters\u001b[0m\u001b[0;34m(\u001b[0m\u001b[0mX\u001b[0m\u001b[0;34m,\u001b[0m \u001b[0mn_h\u001b[0m\u001b[0;34m,\u001b[0m \u001b[0;36m10\u001b[0m\u001b[0;34m)\u001b[0m\u001b[0;34m\u001b[0m\u001b[0;34m\u001b[0m\u001b[0m\n\u001b[0m\u001b[1;32m      5\u001b[0m     \u001b[0mW1\u001b[0m \u001b[0;34m=\u001b[0m \u001b[0mparameters\u001b[0m\u001b[0;34m[\u001b[0m\u001b[0;34m\"W1\"\u001b[0m\u001b[0;34m]\u001b[0m\u001b[0;34m\u001b[0m\u001b[0;34m\u001b[0m\u001b[0m\n\u001b[1;32m      6\u001b[0m     \u001b[0mb1\u001b[0m \u001b[0;34m=\u001b[0m \u001b[0mparameters\u001b[0m\u001b[0;34m[\u001b[0m\u001b[0;34m\"b1\"\u001b[0m\u001b[0;34m]\u001b[0m\u001b[0;34m\u001b[0m\u001b[0;34m\u001b[0m\u001b[0m\n",
            "\u001b[0;32m<ipython-input-27-5a49f4dfac0a>\u001b[0m in \u001b[0;36minitialize_parameters\u001b[0;34m(X, n_h, n_y)\u001b[0m\n\u001b[1;32m      3\u001b[0m     \u001b[0mnp\u001b[0m\u001b[0;34m.\u001b[0m\u001b[0mrandom\u001b[0m\u001b[0;34m.\u001b[0m\u001b[0mseed\u001b[0m\u001b[0;34m(\u001b[0m\u001b[0;36m2\u001b[0m\u001b[0;34m)\u001b[0m \u001b[0;31m# we set up a seed so that output matches\u001b[0m\u001b[0;34m\u001b[0m\u001b[0;34m\u001b[0m\u001b[0m\n\u001b[1;32m      4\u001b[0m     \u001b[0;31m#Weight and bias\u001b[0m\u001b[0;34m\u001b[0m\u001b[0;34m\u001b[0m\u001b[0;34m\u001b[0m\u001b[0m\n\u001b[0;32m----> 5\u001b[0;31m     \u001b[0mn_x\u001b[0m \u001b[0;34m=\u001b[0m \u001b[0mint\u001b[0m\u001b[0;34m(\u001b[0m\u001b[0mX\u001b[0m\u001b[0;34m[\u001b[0m\u001b[0;36m0\u001b[0m\u001b[0;34m]\u001b[0m\u001b[0;34m.\u001b[0m\u001b[0mshape\u001b[0m\u001b[0;34m)\u001b[0m\u001b[0;34m\u001b[0m\u001b[0;34m\u001b[0m\u001b[0m\n\u001b[0m\u001b[1;32m      6\u001b[0m     \u001b[0mW1\u001b[0m \u001b[0;34m=\u001b[0m \u001b[0mnp\u001b[0m\u001b[0;34m.\u001b[0m\u001b[0mrandom\u001b[0m\u001b[0;34m.\u001b[0m\u001b[0mrandn\u001b[0m\u001b[0;34m(\u001b[0m\u001b[0mn_h\u001b[0m\u001b[0;34m,\u001b[0m\u001b[0mn_x\u001b[0m\u001b[0;34m)\u001b[0m \u001b[0;34m*\u001b[0m \u001b[0;36m0.01\u001b[0m\u001b[0;34m\u001b[0m\u001b[0;34m\u001b[0m\u001b[0m\n\u001b[1;32m      7\u001b[0m     \u001b[0mb1\u001b[0m \u001b[0;34m=\u001b[0m \u001b[0mnp\u001b[0m\u001b[0;34m.\u001b[0m\u001b[0mzeros\u001b[0m\u001b[0;34m(\u001b[0m\u001b[0;34m(\u001b[0m\u001b[0mn_h\u001b[0m\u001b[0;34m,\u001b[0m\u001b[0;36m1\u001b[0m\u001b[0;34m)\u001b[0m\u001b[0;34m)\u001b[0m\u001b[0;34m\u001b[0m\u001b[0;34m\u001b[0m\u001b[0m\n",
            "\u001b[0;31mTypeError\u001b[0m: int() argument must be a string, a bytes-like object or a number, not 'tuple'"
          ]
        }
      ]
    },
    {
      "cell_type": "code",
      "metadata": {
        "id": "S6xwdpiQNQ7u"
      },
      "source": [
        "def predict(parameters,X):\n",
        "    W1 = parameters[\"W1\"]\n",
        "    b1 = parameters[\"b1\"]\n",
        "    W2 = parameters[\"W2\"]\n",
        "    b2 = parameters[\"b2\"] \n",
        "    A2, cache = forward_propagation(X, parameters)\n",
        "    return A2"
      ],
      "execution_count": null,
      "outputs": []
    },
    {
      "cell_type": "code",
      "metadata": {
        "colab": {
          "base_uri": "https://localhost:8080/"
        },
        "id": "6dq3PCUDUvOK",
        "outputId": "63cc1286-5172-47d3-d6e9-ea630e612226"
      },
      "source": [
        "#*****Commenting the code as it's running time is approx. 20 min after that it will give the best parameter for minimum loss\n",
        "#******Tuning Hidden layer and learning rate for Dataset1 ***********************#\n",
        "#hidden_layer_sizes = [x for x in range(1,50)]\n",
        "#learning_rate = [0.001,0.01,0.1,1.0]\n",
        "#best_result = []\n",
        "#min_loss = 10#Assuming minimum loss to start with\n",
        "#for i, n_h in enumerate(hidden_layer_sizes):\n",
        "  #for j,lr in enumerate(learning_rate):\n",
        "      #parameters = nn_model(dataset_training1_arr[:,0], dataset_training1_arr[:,1], n_h, 100,lr) \n",
        "      #length = dataset_training1_arr.shape[0]\n",
        "      #output_prediction_arr = np.zeros(length)\n",
        "      #for i in range(length):\n",
        "          #output_prediction_arr[i] = predict(parameters,dataset_training1_arr[i,0])\n",
        "      #loss = mean_squared_error(dataset_training1_arr[:,1],output_prediction_arr)\n",
        "      #if(loss<min_loss):\n",
        "        #min_loss = loss\n",
        "        #best_result.clear()\n",
        "        #best_result.append(\"Loss for {} hidden units {} learning rate: {} %\".format(n_h,lr,loss))\n",
        "      #print (\"Loss for {} hidden units {} learning rate: {} %\".format(n_h,lr,loss))"
      ],
      "execution_count": null,
      "outputs": [
        {
          "output_type": "stream",
          "name": "stdout",
          "text": [
            "Loss for 1 hidden units 0.001 learning rate: 0.1588531121822333 %\n",
            "Loss for 1 hidden units 0.01 learning rate: 0.07251820982537349 %\n",
            "Loss for 1 hidden units 0.1 learning rate: 0.06671285862166351 %\n",
            "Loss for 1 hidden units 1.0 learning rate: 0.3698348908112 %\n",
            "Loss for 2 hidden units 0.001 learning rate: 0.17624835389694843 %\n",
            "Loss for 2 hidden units 0.01 learning rate: 0.03872547441218037 %\n",
            "Loss for 2 hidden units 0.1 learning rate: 0.036100924545429784 %\n",
            "Loss for 2 hidden units 1.0 learning rate: 0.13041488649218916 %\n",
            "Loss for 3 hidden units 0.001 learning rate: 0.18407410882595457 %\n",
            "Loss for 3 hidden units 0.01 learning rate: 0.022029201187955507 %\n",
            "Loss for 3 hidden units 0.1 learning rate: 0.00024698152955478534 %\n",
            "Loss for 3 hidden units 1.0 learning rate: 0.4540550447814892 %\n",
            "Loss for 4 hidden units 0.001 learning rate: 0.1822856655932304 %\n",
            "Loss for 4 hidden units 0.01 learning rate: 0.022095689389607535 %\n",
            "Loss for 4 hidden units 0.1 learning rate: 0.0006372851591981716 %\n",
            "Loss for 4 hidden units 1.0 learning rate: 0.423629407423319 %\n",
            "Loss for 5 hidden units 0.001 learning rate: 0.18685872691282596 %\n",
            "Loss for 5 hidden units 0.01 learning rate: 0.02466548988473411 %\n",
            "Loss for 5 hidden units 0.1 learning rate: 0.00017106949826036343 %\n",
            "Loss for 5 hidden units 1.0 learning rate: 0.39833474591670526 %\n",
            "Loss for 6 hidden units 0.001 learning rate: 0.18820313530550148 %\n",
            "Loss for 6 hidden units 0.01 learning rate: 0.023427741109242235 %\n",
            "Loss for 6 hidden units 0.1 learning rate: 0.0010656859476847456 %\n",
            "Loss for 6 hidden units 1.0 learning rate: 0.37697854950752463 %\n",
            "Loss for 7 hidden units 0.001 learning rate: 0.18737882589686014 %\n",
            "Loss for 7 hidden units 0.01 learning rate: 0.016725254643645417 %\n",
            "Loss for 7 hidden units 0.1 learning rate: 0.0014976082672714594 %\n",
            "Loss for 7 hidden units 1.0 learning rate: 0.35876384411858253 %\n",
            "Loss for 8 hidden units 0.001 learning rate: 0.1882041187297197 %\n",
            "Loss for 8 hidden units 0.01 learning rate: 0.019809354836626634 %\n",
            "Loss for 8 hidden units 0.1 learning rate: 0.001052830198381297 %\n",
            "Loss for 8 hidden units 1.0 learning rate: 0.3430840796709249 %\n",
            "Loss for 9 hidden units 0.001 learning rate: 0.18886529100955116 %\n",
            "Loss for 9 hidden units 0.01 learning rate: 0.021330693369774546 %\n",
            "Loss for 9 hidden units 0.1 learning rate: 0.0016643446606156688 %\n",
            "Loss for 9 hidden units 1.0 learning rate: 0.32949257936127596 %\n",
            "Loss for 10 hidden units 0.001 learning rate: 0.18900718399447122 %\n",
            "Loss for 10 hidden units 0.01 learning rate: 0.027635129261374416 %\n",
            "Loss for 10 hidden units 0.1 learning rate: 0.005291991869950668 %\n",
            "Loss for 10 hidden units 1.0 learning rate: 0.3176510676656425 %\n",
            "Loss for 11 hidden units 0.001 learning rate: 0.18926822077274993 %\n",
            "Loss for 11 hidden units 0.01 learning rate: 0.02228683887475104 %\n",
            "Loss for 11 hidden units 0.1 learning rate: 0.002783175872103397 %\n",
            "Loss for 11 hidden units 1.0 learning rate: 0.30729375611461096 %\n",
            "Loss for 12 hidden units 0.001 learning rate: 0.18945559294928585 %\n",
            "Loss for 12 hidden units 0.01 learning rate: 0.1052614146077473 %\n",
            "Loss for 12 hidden units 0.1 learning rate: 0.0016721413574307615 %\n",
            "Loss for 12 hidden units 1.0 learning rate: 0.1274591411855757 %\n",
            "Loss for 13 hidden units 0.001 learning rate: 0.18943708749419025 %\n",
            "Loss for 13 hidden units 0.01 learning rate: 0.029225132686763265 %\n",
            "Loss for 13 hidden units 0.1 learning rate: 0.0019875225052429476 %\n",
            "Loss for 13 hidden units 1.0 learning rate: 0.12219179643413934 %\n",
            "Loss for 14 hidden units 0.001 learning rate: 0.18957897098526072 %\n",
            "Loss for 14 hidden units 0.01 learning rate: 0.07699884873455864 %\n",
            "Loss for 14 hidden units 0.1 learning rate: 0.0010767058748851765 %\n",
            "Loss for 14 hidden units 1.0 learning rate: 0.3121639915712664 %\n",
            "Loss for 15 hidden units 0.001 learning rate: 0.18934473413112057 %\n",
            "Loss for 15 hidden units 0.01 learning rate: 0.02465882268835732 %\n",
            "Loss for 15 hidden units 0.1 learning rate: 0.000770305544704545 %\n",
            "Loss for 15 hidden units 1.0 learning rate: 0.25723058641718716 %\n",
            "Loss for 16 hidden units 0.001 learning rate: 0.1898229970941729 %\n",
            "Loss for 16 hidden units 0.01 learning rate: 0.11462654746278886 %\n",
            "Loss for 16 hidden units 0.1 learning rate: 0.001980491493745554 %\n",
            "Loss for 16 hidden units 1.0 learning rate: 0.24847893174876265 %\n",
            "Loss for 17 hidden units 0.001 learning rate: 0.18994731123151845 %\n",
            "Loss for 17 hidden units 0.01 learning rate: 0.17036732994845788 %\n",
            "Loss for 17 hidden units 0.1 learning rate: 0.0025419564595868726 %\n",
            "Loss for 17 hidden units 1.0 learning rate: 0.07967268605799414 %\n",
            "Loss for 18 hidden units 0.001 learning rate: 0.18978784989821015 %\n",
            "Loss for 18 hidden units 0.01 learning rate: 0.062305851170758736 %\n",
            "Loss for 18 hidden units 0.1 learning rate: 0.001378773939425358 %\n",
            "Loss for 18 hidden units 1.0 learning rate: 0.07986649275254036 %\n",
            "Loss for 19 hidden units 0.001 learning rate: 0.189858819961532 %\n",
            "Loss for 19 hidden units 0.01 learning rate: 0.13446446703188195 %\n",
            "Loss for 19 hidden units 0.1 learning rate: 0.003117930181118054 %\n",
            "Loss for 19 hidden units 1.0 learning rate: 0.2428013525302213 %\n",
            "Loss for 20 hidden units 0.001 learning rate: 0.18993831752604137 %\n",
            "Loss for 20 hidden units 0.01 learning rate: 0.17377447279801225 %\n",
            "Loss for 20 hidden units 0.1 learning rate: 0.007408738447692176 %\n",
            "Loss for 20 hidden units 1.0 learning rate: 0.10219769206031935 %\n",
            "Loss for 21 hidden units 0.001 learning rate: 0.19001325790103113 %\n",
            "Loss for 21 hidden units 0.01 learning rate: 0.046832187682579435 %\n",
            "Loss for 21 hidden units 0.1 learning rate: 0.0009196107862997047 %\n",
            "Loss for 21 hidden units 1.0 learning rate: 0.13153290607492435 %\n",
            "Loss for 22 hidden units 0.001 learning rate: 0.1900612069667175 %\n",
            "Loss for 22 hidden units 0.01 learning rate: 0.16969866229382577 %\n",
            "Loss for 22 hidden units 0.1 learning rate: 0.00043382373860014004 %\n",
            "Loss for 22 hidden units 1.0 learning rate: 0.13524744477793654 %\n",
            "Loss for 23 hidden units 0.001 learning rate: 0.19011885331715078 %\n",
            "Loss for 23 hidden units 0.01 learning rate: 0.16750234306867623 %\n",
            "Loss for 23 hidden units 0.1 learning rate: 0.0015133309365530103 %\n",
            "Loss for 23 hidden units 1.0 learning rate: 0.13092448355396458 %\n",
            "Loss for 24 hidden units 0.001 learning rate: 0.19001979259402824 %\n",
            "Loss for 24 hidden units 0.01 learning rate: 0.08295996659921145 %\n",
            "Loss for 24 hidden units 0.1 learning rate: 0.0009318912999322728 %\n",
            "Loss for 24 hidden units 1.0 learning rate: 0.1308868023296024 %\n",
            "Loss for 25 hidden units 0.001 learning rate: 0.19020110733268025 %\n",
            "Loss for 25 hidden units 0.01 learning rate: 0.17884333524287876 %\n",
            "Loss for 25 hidden units 0.1 learning rate: 0.004334679610795536 %\n",
            "Loss for 25 hidden units 1.0 learning rate: 0.3146102250738141 %\n",
            "Loss for 26 hidden units 0.001 learning rate: 0.19023149099538664 %\n",
            "Loss for 26 hidden units 0.01 learning rate: 0.1833565546171698 %\n",
            "Loss for 26 hidden units 0.1 learning rate: 0.0006192710394874151 %\n",
            "Loss for 26 hidden units 1.0 learning rate: 0.8320666066309554 %\n",
            "Loss for 27 hidden units 0.001 learning rate: 0.1902351469883335 %\n",
            "Loss for 27 hidden units 0.01 learning rate: 0.13119102944893302 %\n",
            "Loss for 27 hidden units 0.1 learning rate: 0.0007034998683678849 %\n",
            "Loss for 27 hidden units 1.0 learning rate: 0.839670875797247 %\n",
            "Loss for 28 hidden units 0.001 learning rate: 0.19024192753799865 %\n",
            "Loss for 28 hidden units 0.01 learning rate: 0.1820783373352288 %\n",
            "Loss for 28 hidden units 0.1 learning rate: 0.0004331941647566766 %\n",
            "Loss for 28 hidden units 1.0 learning rate: 0.8219960885342839 %\n",
            "Loss for 29 hidden units 0.001 learning rate: 0.19023766038814927 %\n",
            "Loss for 29 hidden units 0.01 learning rate: 0.11724824123100722 %\n",
            "Loss for 29 hidden units 0.1 learning rate: 0.0007050325313421784 %\n",
            "Loss for 29 hidden units 1.0 learning rate: 0.3328889441726309 %\n",
            "Loss for 30 hidden units 0.001 learning rate: 0.1903486600378092 %\n",
            "Loss for 30 hidden units 0.01 learning rate: 0.18563275303990817 %\n",
            "Loss for 30 hidden units 0.1 learning rate: 0.04336443170485106 %\n",
            "Loss for 30 hidden units 1.0 learning rate: 0.842466722342009 %\n",
            "Loss for 31 hidden units 0.001 learning rate: 0.19039458815404034 %\n",
            "Loss for 31 hidden units 0.01 learning rate: 0.16973649482139877 %\n",
            "Loss for 31 hidden units 0.1 learning rate: 0.00027117007554663426 %\n",
            "Loss for 31 hidden units 1.0 learning rate: 0.8432528213072612 %\n",
            "Loss for 32 hidden units 0.001 learning rate: 0.19038893889705216 %\n",
            "Loss for 32 hidden units 0.01 learning rate: 0.18382874050002324 %\n",
            "Loss for 32 hidden units 0.1 learning rate: 0.01869949550139769 %\n",
            "Loss for 32 hidden units 1.0 learning rate: 0.8446165471518696 %\n",
            "Loss for 33 hidden units 0.001 learning rate: 0.19035026097322316 %\n",
            "Loss for 33 hidden units 0.01 learning rate: 0.06031095167990949 %\n",
            "Loss for 33 hidden units 0.1 learning rate: 0.00037963785054483427 %\n",
            "Loss for 33 hidden units 1.0 learning rate: 0.8444766792207653 %\n",
            "Loss for 34 hidden units 0.001 learning rate: 0.19064331520823002 %\n",
            "Loss for 34 hidden units 0.01 learning rate: 0.18766730819509553 %\n",
            "Loss for 34 hidden units 0.1 learning rate: 0.04573848752903055 %\n",
            "Loss for 34 hidden units 1.0 learning rate: 0.8452553081725084 %\n",
            "Loss for 35 hidden units 0.001 learning rate: 0.19048027945227478 %\n",
            "Loss for 35 hidden units 0.01 learning rate: 0.18509904936826357 %\n",
            "Loss for 35 hidden units 0.1 learning rate: 0.0005141904856897561 %\n",
            "Loss for 35 hidden units 1.0 learning rate: 0.8448683361623673 %\n",
            "Loss for 36 hidden units 0.001 learning rate: 0.1905081431785708 %\n",
            "Loss for 36 hidden units 0.01 learning rate: 0.179465916587732 %\n",
            "Loss for 36 hidden units 0.1 learning rate: 0.0003409363416306202 %\n",
            "Loss for 36 hidden units 1.0 learning rate: 0.8451033718065515 %\n",
            "Loss for 37 hidden units 0.001 learning rate: 0.19052196739799823 %\n",
            "Loss for 37 hidden units 0.01 learning rate: 0.1839821912946676 %\n",
            "Loss for 37 hidden units 0.1 learning rate: 0.0006364937631819298 %\n",
            "Loss for 37 hidden units 1.0 learning rate: 0.8452178545319885 %\n",
            "Loss for 38 hidden units 0.001 learning rate: 0.19076040950189296 %\n",
            "Loss for 38 hidden units 0.01 learning rate: 0.18688366524202274 %\n",
            "Loss for 38 hidden units 0.1 learning rate: 0.04097853331113228 %\n",
            "Loss for 38 hidden units 1.0 learning rate: 0.8445665221847284 %\n",
            "Loss for 39 hidden units 0.001 learning rate: 0.19059340600723448 %\n",
            "Loss for 39 hidden units 0.01 learning rate: 0.1840972535422245 %\n",
            "Loss for 39 hidden units 0.1 learning rate: 0.0006869707412702886 %\n",
            "Loss for 39 hidden units 1.0 learning rate: 0.8453447970867002 %\n",
            "Loss for 40 hidden units 0.001 learning rate: 0.19055858153261104 %\n",
            "Loss for 40 hidden units 0.01 learning rate: 0.18417890594247846 %\n",
            "Loss for 40 hidden units 0.1 learning rate: 0.0013260475223843035 %\n",
            "Loss for 40 hidden units 1.0 learning rate: 0.8455142940039913 %\n",
            "Loss for 41 hidden units 0.001 learning rate: 0.19062704535180364 %\n",
            "Loss for 41 hidden units 0.01 learning rate: 0.18229400104619162 %\n",
            "Loss for 41 hidden units 0.1 learning rate: 0.0003070912374103859 %\n",
            "Loss for 41 hidden units 1.0 learning rate: 0.8454782331309254 %\n",
            "Loss for 42 hidden units 0.001 learning rate: 0.1908048592729161 %\n",
            "Loss for 42 hidden units 0.01 learning rate: 0.18703842959741743 %\n",
            "Loss for 42 hidden units 0.1 learning rate: 0.03386961924102292 %\n",
            "Loss for 42 hidden units 1.0 learning rate: 0.8450573320891565 %\n",
            "Loss for 43 hidden units 0.001 learning rate: 0.19068868058082916 %\n",
            "Loss for 43 hidden units 0.01 learning rate: 0.18380690545290398 %\n",
            "Loss for 43 hidden units 0.1 learning rate: 0.0007626939564907242 %\n",
            "Loss for 43 hidden units 1.0 learning rate: 0.8448660250847999 %\n",
            "Loss for 44 hidden units 0.001 learning rate: 0.19075999269861751 %\n",
            "Loss for 44 hidden units 0.01 learning rate: 0.17777984751448755 %\n",
            "Loss for 44 hidden units 0.1 learning rate: 0.0007277981278485193 %\n",
            "Loss for 44 hidden units 1.0 learning rate: 0.8438637786293243 %\n",
            "Loss for 45 hidden units 0.001 learning rate: 0.19092251084906087 %\n",
            "Loss for 45 hidden units 0.01 learning rate: 0.1828146484916726 %\n",
            "Loss for 45 hidden units 0.1 learning rate: 0.00022824850770839314 %\n",
            "Loss for 45 hidden units 1.0 learning rate: 0.8446158248353707 %\n",
            "Loss for 46 hidden units 0.001 learning rate: 0.19085088862086083 %\n",
            "Loss for 46 hidden units 0.01 learning rate: 0.18726322595369413 %\n",
            "Loss for 46 hidden units 0.1 learning rate: 0.04666934887574858 %\n",
            "Loss for 46 hidden units 1.0 learning rate: 0.8431775844101458 %\n",
            "Loss for 47 hidden units 0.001 learning rate: 0.19083976655991453 %\n",
            "Loss for 47 hidden units 0.01 learning rate: 0.1858078198444786 %\n",
            "Loss for 47 hidden units 0.1 learning rate: 0.0019901343806692 %\n",
            "Loss for 47 hidden units 1.0 learning rate: 0.8409881860877253 %\n",
            "Loss for 48 hidden units 0.001 learning rate: 0.19076966091677702 %\n",
            "Loss for 48 hidden units 0.01 learning rate: 0.18445365806797107 %\n",
            "Loss for 48 hidden units 0.1 learning rate: 0.0010033493617848598 %\n",
            "Loss for 48 hidden units 1.0 learning rate: 0.8404877151249246 %\n",
            "Loss for 49 hidden units 0.001 learning rate: 0.19102004171546097 %\n",
            "Loss for 49 hidden units 0.01 learning rate: 0.189097010463566 %\n",
            "Loss for 49 hidden units 0.1 learning rate: 0.048558775657011034 %\n",
            "Loss for 49 hidden units 1.0 learning rate: 0.8393159677872298 %\n"
          ]
        }
      ]
    },
    {
      "cell_type": "code",
      "metadata": {
        "colab": {
          "base_uri": "https://localhost:8080/"
        },
        "id": "7Ngii1zLaVjF",
        "outputId": "1ad9efdb-64ee-4261-ec82-e0d83c2bbcaa"
      },
      "source": [
        "#best_result"
      ],
      "execution_count": null,
      "outputs": [
        {
          "output_type": "execute_result",
          "data": {
            "text/plain": [
              "['Loss for 5 hidden units 0.1 learning rate: 0.00017106949826036343 %']"
            ]
          },
          "metadata": {},
          "execution_count": 25
        }
      ]
    },
    {
      "cell_type": "code",
      "metadata": {
        "id": "isVtEz_ENQ7u"
      },
      "source": [
        "#parameters1 = nn_model(dataset_training1_arr[:,0], dataset_training1_arr[:,1],41,100,0.1)\n",
        "parameters1 = nn_model(dataset_training1_arr[:,0], dataset_training1_arr[:,1],5,100,0.1)"
      ],
      "execution_count": null,
      "outputs": []
    },
    {
      "cell_type": "code",
      "metadata": {
        "id": "83_fC1FaNQ7u",
        "colab": {
          "base_uri": "https://localhost:8080/"
        },
        "outputId": "39bde6ef-bcca-4d69-d89b-d64b7e36e175"
      },
      "source": [
        "#Q1(d)Training loss\n",
        "length = dataset_training1_arr.shape[0]\n",
        "output_prediction_train = np.zeros(length)\n",
        "for i in range(length):\n",
        "    output_prediction_train[i] = predict(parameters1,dataset_training1_arr[i,0])\n",
        "mean_squared_error(dataset_training1_arr[:,1],output_prediction_train)"
      ],
      "execution_count": null,
      "outputs": [
        {
          "output_type": "execute_result",
          "data": {
            "text/plain": [
              "0.00017106949826036343"
            ]
          },
          "metadata": {},
          "execution_count": 27
        }
      ]
    },
    {
      "cell_type": "code",
      "metadata": {
        "id": "vWj_vxU2NQ7v"
      },
      "source": [
        "length = dataset_testing1_arr.shape[0]\n",
        "output_prediction_arr1 = np.zeros(length)"
      ],
      "execution_count": null,
      "outputs": []
    },
    {
      "cell_type": "code",
      "metadata": {
        "id": "wDHHLzB7NQ7v"
      },
      "source": [
        "for i in range(length):\n",
        "    output_prediction_arr1[i] = predict(parameters1,dataset_testing1_arr[i,0])"
      ],
      "execution_count": null,
      "outputs": []
    },
    {
      "cell_type": "code",
      "metadata": {
        "id": "QHpuhjTVNQ7w"
      },
      "source": [
        "#output_prediction_arr\n",
        "#output_prediction_arr"
      ],
      "execution_count": null,
      "outputs": []
    },
    {
      "cell_type": "code",
      "metadata": {
        "id": "utX8DgiONQ7w"
      },
      "source": [
        "#Q1(d) Dataset1 Test loss\n",
        "loss1 = mean_squared_error(dataset_testing1_arr[:,1],output_prediction_arr1)"
      ],
      "execution_count": null,
      "outputs": []
    },
    {
      "cell_type": "code",
      "metadata": {
        "id": "voZuIfrDNQ7w",
        "colab": {
          "base_uri": "https://localhost:8080/"
        },
        "outputId": "933cc98a-2688-494a-f5ad-9cbd686da783"
      },
      "source": [
        "loss1"
      ],
      "execution_count": null,
      "outputs": [
        {
          "output_type": "execute_result",
          "data": {
            "text/plain": [
              "0.00016598034303931655"
            ]
          },
          "metadata": {},
          "execution_count": 31
        }
      ]
    },
    {
      "cell_type": "code",
      "metadata": {
        "colab": {
          "base_uri": "https://localhost:8080/",
          "height": 279
        },
        "id": "8jqH18vI2b07",
        "outputId": "09161005-aec0-4dea-ebef-ae538f41f5ed"
      },
      "source": [
        "  # Q1(b)plotting regression curve\n",
        "# plotting the actual points as scatter plot\n",
        "plt.scatter(dataset_testing1_arr[:,0], dataset_testing1_arr[:,1],marker = \"o\", s = 30)\n",
        "# plotting the regression line\n",
        "plt.scatter(dataset_testing1_arr[:,0], output_prediction_arr1)\n",
        "# putting labels\n",
        "plt.xlabel('x')\n",
        "plt.ylabel('y: actual output')\n",
        "# function to show plot\n",
        "plt.legend(['test_data','predicted_output'])\n",
        "plt.show()"
      ],
      "execution_count": null,
      "outputs": [
        {
          "output_type": "display_data",
          "data": {
            "image/png": "[encoded data removed]",
            "text/plain": [
              "<Figure size 432x288 with 1 Axes>"
            ]
          },
          "metadata": {
            "needs_background": "light"
          }
        }
      ]
    },
    {
      "cell_type": "code",
      "metadata": {
        "id": "PgEP_i2lNQ7x"
      },
      "source": [
        "#output_prediction_arr"
      ],
      "execution_count": null,
      "outputs": []
    },
    {
      "cell_type": "code",
      "metadata": {
        "id": "cYBtuAihNQ7x",
        "colab": {
          "base_uri": "https://localhost:8080/"
        },
        "outputId": "778d9569-691e-4acd-d6bc-969bbd452837"
      },
      "source": [
        "#COmmenting the code as the runtime of this section is approx. 25 min, it is used for hyperparameter tuning\n",
        "#******Tuning Hidden layer and learning rate for Dataset2 ***********************#\n",
        "#plt.figure(figsize=(16, 32))\n",
        "#hidden_layer_sizes = [x for x in range(1,50)]\n",
        "#learning_rate = [(0.1*x) for x in range(1,10)]\n",
        "#best_result2 = []\n",
        "#min_loss2 = 10\n",
        "#for i, n_h in enumerate(hidden_layer_sizes):\n",
        "    #for j,lr in enumerate(learning_rate):\n",
        "        #parameters = nn_model(dataset_training2_arr[:,0], dataset_training2_arr[:,1], n_h, 100,lr) \n",
        "        #length = dataset_training2_arr.shape[0]\n",
        "        #output_prediction_arr = np.zeros(length)\n",
        "        #for i in range(length):\n",
        "            #output_prediction_arr[i] = predict(parameters,dataset_training2_arr[i,0])\n",
        "        #loss = mean_squared_error(output_prediction_arr,dataset_training2_arr[:,1])\n",
        "       # if(loss<min_loss2):\n",
        "          # min_loss2 = loss\n",
        "           #best_result2.clear()\n",
        "          # best_result2.append(\"Loss for {} hidden units {} learning rate: {} %\".format(n_h,lr,loss))\n",
        "       # print (\"Loss for {} hidden units {} learning rate: {} %\".format(n_h,lr,loss))"
      ],
      "execution_count": null,
      "outputs": [
        {
          "output_type": "stream",
          "name": "stdout",
          "text": [
            "Loss for 1 hidden units 0.1 learning rate: 0.10177648067413682 %\n",
            "Loss for 1 hidden units 0.2 learning rate: 0.11408144280250901 %\n",
            "Loss for 1 hidden units 0.30000000000000004 learning rate: 0.12376470907296219 %\n",
            "Loss for 1 hidden units 0.4 learning rate: 0.13314243810219964 %\n",
            "Loss for 1 hidden units 0.5 learning rate: 0.14694012790519537 %\n",
            "Loss for 1 hidden units 0.6000000000000001 learning rate: 0.1749776272172159 %\n",
            "Loss for 1 hidden units 0.7000000000000001 learning rate: 0.24178689540826065 %\n",
            "Loss for 1 hidden units 0.8 learning rate: 0.3411600549189607 %\n",
            "Loss for 1 hidden units 0.9 learning rate: 0.5104988116066785 %\n",
            "Loss for 2 hidden units 0.1 learning rate: 0.027905875023281495 %\n",
            "Loss for 2 hidden units 0.2 learning rate: 0.019602901375063552 %\n",
            "Loss for 2 hidden units 0.30000000000000004 learning rate: 0.01755291500102019 %\n",
            "Loss for 2 hidden units 0.4 learning rate: 0.01959630927966033 %\n",
            "Loss for 2 hidden units 0.5 learning rate: 0.02420354510564637 %\n",
            "Loss for 2 hidden units 0.6000000000000001 learning rate: 0.13884639792873132 %\n",
            "Loss for 2 hidden units 0.7000000000000001 learning rate: 0.17702297225694896 %\n",
            "Loss for 2 hidden units 0.8 learning rate: 0.23443569990876298 %\n",
            "Loss for 2 hidden units 0.9 learning rate: 1.4365412284095707 %\n",
            "Loss for 3 hidden units 0.1 learning rate: 0.03326882622013678 %\n",
            "Loss for 3 hidden units 0.2 learning rate: 0.02384453371517087 %\n",
            "Loss for 3 hidden units 0.30000000000000004 learning rate: 0.019368825222170018 %\n",
            "Loss for 3 hidden units 0.4 learning rate: 0.01752015512886133 %\n",
            "Loss for 3 hidden units 0.5 learning rate: 0.019150440097298153 %\n",
            "Loss for 3 hidden units 0.6000000000000001 learning rate: 0.024721651930468914 %\n",
            "Loss for 3 hidden units 0.7000000000000001 learning rate: 0.034293084926774235 %\n",
            "Loss for 3 hidden units 0.8 learning rate: 0.34107994678894193 %\n",
            "Loss for 3 hidden units 0.9 learning rate: 1.4365844259952971 %\n",
            "Loss for 4 hidden units 0.1 learning rate: 0.037752224068287814 %\n",
            "Loss for 4 hidden units 0.2 learning rate: 0.027141718772246966 %\n",
            "Loss for 4 hidden units 0.30000000000000004 learning rate: 0.0222739479047666 %\n",
            "Loss for 4 hidden units 0.4 learning rate: 0.019077695964172605 %\n",
            "Loss for 4 hidden units 0.5 learning rate: 0.017641238950230335 %\n",
            "Loss for 4 hidden units 0.6000000000000001 learning rate: 0.019839099026728233 %\n",
            "Loss for 4 hidden units 0.7000000000000001 learning rate: 0.027908017517331733 %\n",
            "Loss for 4 hidden units 0.8 learning rate: 0.34050819304237456 %\n",
            "Loss for 4 hidden units 0.9 learning rate: 1.4366120524222872 %\n",
            "Loss for 5 hidden units 0.1 learning rate: 0.03648061829251433 %\n",
            "Loss for 5 hidden units 0.2 learning rate: 0.026790910409022543 %\n",
            "Loss for 5 hidden units 0.30000000000000004 learning rate: 0.02245953973163448 %\n",
            "Loss for 5 hidden units 0.4 learning rate: 0.019871310007246568 %\n",
            "Loss for 5 hidden units 0.5 learning rate: 0.018285412110538506 %\n",
            "Loss for 5 hidden units 0.6000000000000001 learning rate: 0.018806245192580468 %\n",
            "Loss for 5 hidden units 0.7000000000000001 learning rate: 0.021483338400477125 %\n",
            "Loss for 5 hidden units 0.8 learning rate: 0.093457785295959 %\n",
            "Loss for 5 hidden units 0.9 learning rate: 1.4366299009563919 %\n",
            "Loss for 6 hidden units 0.1 learning rate: 0.03418128650146732 %\n",
            "Loss for 6 hidden units 0.2 learning rate: 0.025921146030354437 %\n",
            "Loss for 6 hidden units 0.30000000000000004 learning rate: 0.022788189350426407 %\n",
            "Loss for 6 hidden units 0.4 learning rate: 0.0208316163795854 %\n",
            "Loss for 6 hidden units 0.5 learning rate: 0.019254902005604816 %\n",
            "Loss for 6 hidden units 0.6000000000000001 learning rate: 0.018900895601674524 %\n",
            "Loss for 6 hidden units 0.7000000000000001 learning rate: 0.018083186874999015 %\n",
            "Loss for 6 hidden units 0.8 learning rate: 0.0335054491309854 %\n",
            "Loss for 6 hidden units 0.9 learning rate: 1.4365927927255289 %\n",
            "Loss for 7 hidden units 0.1 learning rate: 0.034659571017532094 %\n",
            "Loss for 7 hidden units 0.2 learning rate: 0.02682320503270043 %\n",
            "Loss for 7 hidden units 0.30000000000000004 learning rate: 0.024278725217806225 %\n",
            "Loss for 7 hidden units 0.4 learning rate: 0.022928571220204044 %\n",
            "Loss for 7 hidden units 0.5 learning rate: 0.02180275499796815 %\n",
            "Loss for 7 hidden units 0.6000000000000001 learning rate: 0.01991807323418358 %\n",
            "Loss for 7 hidden units 0.7000000000000001 learning rate: 0.020735545451928374 %\n",
            "Loss for 7 hidden units 0.8 learning rate: 0.020969374184504116 %\n",
            "Loss for 7 hidden units 0.9 learning rate: 0.13264757211417935 %\n",
            "Loss for 8 hidden units 0.1 learning rate: 0.044207304510282805 %\n",
            "Loss for 8 hidden units 0.2 learning rate: 0.0334875145530841 %\n",
            "Loss for 8 hidden units 0.30000000000000004 learning rate: 0.028809738620955185 %\n",
            "Loss for 8 hidden units 0.4 learning rate: 0.025893519993032056 %\n",
            "Loss for 8 hidden units 0.5 learning rate: 0.023916922176943665 %\n",
            "Loss for 8 hidden units 0.6000000000000001 learning rate: 0.02415885125008627 %\n",
            "Loss for 8 hidden units 0.7000000000000001 learning rate: 0.018319557884212113 %\n",
            "Loss for 8 hidden units 0.8 learning rate: 0.019750054775744458 %\n",
            "Loss for 8 hidden units 0.9 learning rate: 0.027785927936725612 %\n",
            "Loss for 9 hidden units 0.1 learning rate: 0.03213657763674174 %\n",
            "Loss for 9 hidden units 0.2 learning rate: 0.025374390316458363 %\n",
            "Loss for 9 hidden units 0.30000000000000004 learning rate: 0.023526705978356297 %\n",
            "Loss for 9 hidden units 0.4 learning rate: 0.023027933735181822 %\n",
            "Loss for 9 hidden units 0.5 learning rate: 0.022932411083267153 %\n",
            "Loss for 9 hidden units 0.6000000000000001 learning rate: 0.03618963941682238 %\n",
            "Loss for 9 hidden units 0.7000000000000001 learning rate: 0.026377853712503504 %\n",
            "Loss for 9 hidden units 0.8 learning rate: 0.019012278029447056 %\n",
            "Loss for 9 hidden units 0.9 learning rate: 0.026760405173501693 %\n",
            "Loss for 10 hidden units 0.1 learning rate: 0.038884341752282454 %\n",
            "Loss for 10 hidden units 0.2 learning rate: 0.03075230418081686 %\n",
            "Loss for 10 hidden units 0.30000000000000004 learning rate: 0.027834341051639372 %\n",
            "Loss for 10 hidden units 0.4 learning rate: 0.026093919208103965 %\n",
            "Loss for 10 hidden units 0.5 learning rate: 0.024954035676163815 %\n",
            "Loss for 10 hidden units 0.6000000000000001 learning rate: 0.029192463663978263 %\n",
            "Loss for 10 hidden units 0.7000000000000001 learning rate: 0.02514636563130962 %\n",
            "Loss for 10 hidden units 0.8 learning rate: 0.022893896575534985 %\n",
            "Loss for 10 hidden units 0.9 learning rate: 0.02526642620468699 %\n",
            "Loss for 11 hidden units 0.1 learning rate: 0.03357274502748948 %\n",
            "Loss for 11 hidden units 0.2 learning rate: 0.026489496708506626 %\n",
            "Loss for 11 hidden units 0.30000000000000004 learning rate: 0.02488279974459456 %\n",
            "Loss for 11 hidden units 0.4 learning rate: 0.02472927784359925 %\n",
            "Loss for 11 hidden units 0.5 learning rate: 0.02510758522156543 %\n",
            "Loss for 11 hidden units 0.6000000000000001 learning rate: 0.031043254871105083 %\n",
            "Loss for 11 hidden units 0.7000000000000001 learning rate: 0.02601945461020297 %\n",
            "Loss for 11 hidden units 0.8 learning rate: 0.025066854868923225 %\n",
            "Loss for 11 hidden units 0.9 learning rate: 0.0244311617845184 %\n",
            "Loss for 12 hidden units 0.1 learning rate: 0.041766764890782154 %\n",
            "Loss for 12 hidden units 0.2 learning rate: 0.033133332071070554 %\n",
            "Loss for 12 hidden units 0.30000000000000004 learning rate: 0.03009918007229973 %\n",
            "Loss for 12 hidden units 0.4 learning rate: 0.028529950849121233 %\n",
            "Loss for 12 hidden units 0.5 learning rate: 0.028298183912913125 %\n",
            "Loss for 12 hidden units 0.6000000000000001 learning rate: 0.03132501163673328 %\n",
            "Loss for 12 hidden units 0.7000000000000001 learning rate: 0.02999555563303825 %\n",
            "Loss for 12 hidden units 0.8 learning rate: 0.029014881525803133 %\n",
            "Loss for 12 hidden units 0.9 learning rate: 0.02744659685638684 %\n",
            "Loss for 13 hidden units 0.1 learning rate: 0.03322095032210771 %\n",
            "Loss for 13 hidden units 0.2 learning rate: 0.026471676625740265 %\n",
            "Loss for 13 hidden units 0.30000000000000004 learning rate: 0.025337270298126414 %\n",
            "Loss for 13 hidden units 0.4 learning rate: 0.025970964480743583 %\n",
            "Loss for 13 hidden units 0.5 learning rate: 0.027529200030253522 %\n",
            "Loss for 13 hidden units 0.6000000000000001 learning rate: 0.03530552130537219 %\n",
            "Loss for 13 hidden units 0.7000000000000001 learning rate: 0.030321375458287742 %\n",
            "Loss for 13 hidden units 0.8 learning rate: 0.03281929508382007 %\n",
            "Loss for 13 hidden units 0.9 learning rate: 0.02568407045910569 %\n",
            "Loss for 14 hidden units 0.1 learning rate: 0.03858783699525445 %\n",
            "Loss for 14 hidden units 0.2 learning rate: 0.030721019628889356 %\n",
            "Loss for 14 hidden units 0.30000000000000004 learning rate: 0.028725214518348096 %\n",
            "Loss for 14 hidden units 0.4 learning rate: 0.02846589931021002 %\n",
            "Loss for 14 hidden units 0.5 learning rate: 0.02961708396990276 %\n",
            "Loss for 14 hidden units 0.6000000000000001 learning rate: 0.0374306372599497 %\n",
            "Loss for 14 hidden units 0.7000000000000001 learning rate: 0.04441436435010054 %\n",
            "Loss for 14 hidden units 0.8 learning rate: 0.03582324343489208 %\n",
            "Loss for 14 hidden units 0.9 learning rate: 0.05834537142804622 %\n",
            "Loss for 15 hidden units 0.1 learning rate: 0.03405640663759915 %\n",
            "Loss for 15 hidden units 0.2 learning rate: 0.028011569126266185 %\n",
            "Loss for 15 hidden units 0.30000000000000004 learning rate: 0.027888151431466373 %\n",
            "Loss for 15 hidden units 0.4 learning rate: 0.02969574087584788 %\n",
            "Loss for 15 hidden units 0.5 learning rate: 0.032395891400124166 %\n",
            "Loss for 15 hidden units 0.6000000000000001 learning rate: 0.0365695165200138 %\n",
            "Loss for 15 hidden units 0.7000000000000001 learning rate: 0.030598720673030485 %\n",
            "Loss for 15 hidden units 0.8 learning rate: 0.038121297595795196 %\n",
            "Loss for 15 hidden units 0.9 learning rate: 0.02232029845361922 %\n",
            "Loss for 16 hidden units 0.1 learning rate: 0.03540657649205866 %\n",
            "Loss for 16 hidden units 0.2 learning rate: 0.028266373143308 %\n",
            "Loss for 16 hidden units 0.30000000000000004 learning rate: 0.027140590961402544 %\n",
            "Loss for 16 hidden units 0.4 learning rate: 0.02898270769818741 %\n",
            "Loss for 16 hidden units 0.5 learning rate: 0.03375962795564557 %\n",
            "Loss for 16 hidden units 0.6000000000000001 learning rate: 0.03463208190377929 %\n",
            "Loss for 16 hidden units 0.7000000000000001 learning rate: 0.027811268006168188 %\n",
            "Loss for 16 hidden units 0.8 learning rate: 0.037150190795380365 %\n",
            "Loss for 16 hidden units 0.9 learning rate: 0.25092580838073836 %\n",
            "Loss for 17 hidden units 0.1 learning rate: 0.030750556678446502 %\n",
            "Loss for 17 hidden units 0.2 learning rate: 0.025170541648839032 %\n",
            "Loss for 17 hidden units 0.30000000000000004 learning rate: 0.0253703620151257 %\n",
            "Loss for 17 hidden units 0.4 learning rate: 0.030296012978781935 %\n",
            "Loss for 17 hidden units 0.5 learning rate: 0.03819365041181569 %\n",
            "Loss for 17 hidden units 0.6000000000000001 learning rate: 0.0442077684362672 %\n",
            "Loss for 17 hidden units 0.7000000000000001 learning rate: 0.0348617154031966 %\n",
            "Loss for 17 hidden units 0.8 learning rate: 0.03251344616580027 %\n",
            "Loss for 17 hidden units 0.9 learning rate: 0.018785154105626423 %\n",
            "Loss for 18 hidden units 0.1 learning rate: 0.03068374593924304 %\n",
            "Loss for 18 hidden units 0.2 learning rate: 0.024354579982824396 %\n",
            "Loss for 18 hidden units 0.30000000000000004 learning rate: 0.024239436515833653 %\n",
            "Loss for 18 hidden units 0.4 learning rate: 0.02939692051181414 %\n",
            "Loss for 18 hidden units 0.5 learning rate: 0.03951825137255871 %\n",
            "Loss for 18 hidden units 0.6000000000000001 learning rate: 0.036459338123378204 %\n",
            "Loss for 18 hidden units 0.7000000000000001 learning rate: 0.04347425896425233 %\n",
            "Loss for 18 hidden units 0.8 learning rate: 0.021385622473520625 %\n",
            "Loss for 18 hidden units 0.9 learning rate: 0.024598487333449028 %\n",
            "Loss for 19 hidden units 0.1 learning rate: 0.031415039372265065 %\n",
            "Loss for 19 hidden units 0.2 learning rate: 0.024881190483086704 %\n",
            "Loss for 19 hidden units 0.30000000000000004 learning rate: 0.025412590774616106 %\n",
            "Loss for 19 hidden units 0.4 learning rate: 0.03274467416223279 %\n",
            "Loss for 19 hidden units 0.5 learning rate: 0.038746101687626336 %\n",
            "Loss for 19 hidden units 0.6000000000000001 learning rate: 0.022543175989555964 %\n",
            "Loss for 19 hidden units 0.7000000000000001 learning rate: 0.03666854912408456 %\n",
            "Loss for 19 hidden units 0.8 learning rate: 0.5016991719271552 %\n",
            "Loss for 19 hidden units 0.9 learning rate: 0.023160773515044617 %\n",
            "Loss for 20 hidden units 0.1 learning rate: 0.0413052461563219 %\n",
            "Loss for 20 hidden units 0.2 learning rate: 0.033355765154842204 %\n",
            "Loss for 20 hidden units 0.30000000000000004 learning rate: 0.031190099972751965 %\n",
            "Loss for 20 hidden units 0.4 learning rate: 0.03351280351208471 %\n",
            "Loss for 20 hidden units 0.5 learning rate: 0.03966480612214624 %\n",
            "Loss for 20 hidden units 0.6000000000000001 learning rate: 0.02497222304924469 %\n",
            "Loss for 20 hidden units 0.7000000000000001 learning rate: 0.03140569776942094 %\n",
            "Loss for 20 hidden units 0.8 learning rate: 0.49779278813803784 %\n",
            "Loss for 20 hidden units 0.9 learning rate: 0.020187836498988573 %\n",
            "Loss for 21 hidden units 0.1 learning rate: 0.030992628511921794 %\n",
            "Loss for 21 hidden units 0.2 learning rate: 0.024253059499781498 %\n",
            "Loss for 21 hidden units 0.30000000000000004 learning rate: 0.024218836680859765 %\n",
            "Loss for 21 hidden units 0.4 learning rate: 0.032088544366107655 %\n",
            "Loss for 21 hidden units 0.5 learning rate: 0.043681765246712224 %\n",
            "Loss for 21 hidden units 0.6000000000000001 learning rate: 0.04501571981504354 %\n",
            "Loss for 21 hidden units 0.7000000000000001 learning rate: 0.025305988797138572 %\n",
            "Loss for 21 hidden units 0.8 learning rate: 0.022282369053261943 %\n",
            "Loss for 21 hidden units 0.9 learning rate: 0.02173393877854989 %\n",
            "Loss for 22 hidden units 0.1 learning rate: 0.03655985206183406 %\n",
            "Loss for 22 hidden units 0.2 learning rate: 0.030611024901182126 %\n",
            "Loss for 22 hidden units 0.30000000000000004 learning rate: 0.030871241613083793 %\n",
            "Loss for 22 hidden units 0.4 learning rate: 0.03843852934061637 %\n",
            "Loss for 22 hidden units 0.5 learning rate: 0.0481148449617183 %\n",
            "Loss for 22 hidden units 0.6000000000000001 learning rate: 0.04782848157318465 %\n",
            "Loss for 22 hidden units 0.7000000000000001 learning rate: 0.029307105544491084 %\n",
            "Loss for 22 hidden units 0.8 learning rate: 0.04094586868796084 %\n",
            "Loss for 22 hidden units 0.9 learning rate: 0.019238701093080957 %\n",
            "Loss for 23 hidden units 0.1 learning rate: 0.03290968480593356 %\n",
            "Loss for 23 hidden units 0.2 learning rate: 0.026327737487727692 %\n",
            "Loss for 23 hidden units 0.30000000000000004 learning rate: 0.02756752616965049 %\n",
            "Loss for 23 hidden units 0.4 learning rate: 0.03584682744551728 %\n",
            "Loss for 23 hidden units 0.5 learning rate: 0.028470542925762406 %\n",
            "Loss for 23 hidden units 0.6000000000000001 learning rate: 0.04306053402495519 %\n",
            "Loss for 23 hidden units 0.7000000000000001 learning rate: 0.3913475855740339 %\n",
            "Loss for 23 hidden units 0.8 learning rate: 0.02613212565675604 %\n",
            "Loss for 23 hidden units 0.9 learning rate: 0.024434847533811015 %\n",
            "Loss for 24 hidden units 0.1 learning rate: 0.034254679008050196 %\n",
            "Loss for 24 hidden units 0.2 learning rate: 0.02730414974014675 %\n",
            "Loss for 24 hidden units 0.30000000000000004 learning rate: 0.02856326433955236 %\n",
            "Loss for 24 hidden units 0.4 learning rate: 0.03365732043607756 %\n",
            "Loss for 24 hidden units 0.5 learning rate: 0.023227532032509542 %\n",
            "Loss for 24 hidden units 0.6000000000000001 learning rate: 0.032016207171656264 %\n",
            "Loss for 24 hidden units 0.7000000000000001 learning rate: 0.02977027938813688 %\n",
            "Loss for 24 hidden units 0.8 learning rate: 0.019831693606131164 %\n",
            "Loss for 24 hidden units 0.9 learning rate: 0.024927407850886554 %\n",
            "Loss for 25 hidden units 0.1 learning rate: 0.03173946729541126 %\n",
            "Loss for 25 hidden units 0.2 learning rate: 0.025316261826348708 %\n",
            "Loss for 25 hidden units 0.30000000000000004 learning rate: 0.026058340480243063 %\n",
            "Loss for 25 hidden units 0.4 learning rate: 0.038295377729121415 %\n",
            "Loss for 25 hidden units 0.5 learning rate: 0.03365180933509223 %\n",
            "Loss for 25 hidden units 0.6000000000000001 learning rate: 0.024056142383658122 %\n",
            "Loss for 25 hidden units 0.7000000000000001 learning rate: 0.20899982293145544 %\n",
            "Loss for 25 hidden units 0.8 learning rate: 0.017812638369438243 %\n",
            "Loss for 25 hidden units 0.9 learning rate: 0.03641937951263155 %\n",
            "Loss for 26 hidden units 0.1 learning rate: 0.027933854609069785 %\n",
            "Loss for 26 hidden units 0.2 learning rate: 0.021452389157553087 %\n",
            "Loss for 26 hidden units 0.30000000000000004 learning rate: 0.02224499180945159 %\n",
            "Loss for 26 hidden units 0.4 learning rate: 0.031630859295319884 %\n",
            "Loss for 26 hidden units 0.5 learning rate: 0.05181278235528222 %\n",
            "Loss for 26 hidden units 0.6000000000000001 learning rate: 0.01761075395222504 %\n",
            "Loss for 26 hidden units 0.7000000000000001 learning rate: 1.2334607218999984 %\n",
            "Loss for 26 hidden units 0.8 learning rate: 0.01735167907887393 %\n",
            "Loss for 26 hidden units 0.9 learning rate: 0.04106631094410687 %\n",
            "Loss for 27 hidden units 0.1 learning rate: 0.02934683017208243 %\n",
            "Loss for 27 hidden units 0.2 learning rate: 0.023055370117744292 %\n",
            "Loss for 27 hidden units 0.30000000000000004 learning rate: 0.02870869943943092 %\n",
            "Loss for 27 hidden units 0.4 learning rate: 0.04636887526728207 %\n",
            "Loss for 27 hidden units 0.5 learning rate: 0.05850333310525622 %\n",
            "Loss for 27 hidden units 0.6000000000000001 learning rate: 0.04342306978376643 %\n",
            "Loss for 27 hidden units 0.7000000000000001 learning rate: 1.2341630379239767 %\n",
            "Loss for 27 hidden units 0.8 learning rate: 0.017430094630748072 %\n",
            "Loss for 27 hidden units 0.9 learning rate: 0.04594186339392757 %\n",
            "Loss for 28 hidden units 0.1 learning rate: 0.027537049937084224 %\n",
            "Loss for 28 hidden units 0.2 learning rate: 0.020992507483497302 %\n",
            "Loss for 28 hidden units 0.30000000000000004 learning rate: 0.022528200649974902 %\n",
            "Loss for 28 hidden units 0.4 learning rate: 0.056280205409433806 %\n",
            "Loss for 28 hidden units 0.5 learning rate: 0.053854185781627886 %\n",
            "Loss for 28 hidden units 0.6000000000000001 learning rate: 0.236950499143584 %\n",
            "Loss for 28 hidden units 0.7000000000000001 learning rate: 0.06787220542554505 %\n",
            "Loss for 28 hidden units 0.8 learning rate: 0.023222967480418102 %\n",
            "Loss for 28 hidden units 0.9 learning rate: 0.05865453042146094 %\n",
            "Loss for 29 hidden units 0.1 learning rate: 0.028409260073998233 %\n",
            "Loss for 29 hidden units 0.2 learning rate: 0.022473816637280233 %\n",
            "Loss for 29 hidden units 0.30000000000000004 learning rate: 0.02977239989485596 %\n",
            "Loss for 29 hidden units 0.4 learning rate: 0.051950500185649874 %\n",
            "Loss for 29 hidden units 0.5 learning rate: 0.051511686010367 %\n",
            "Loss for 29 hidden units 0.6000000000000001 learning rate: 0.23369798287292023 %\n",
            "Loss for 29 hidden units 0.7000000000000001 learning rate: 0.0237046108243993 %\n",
            "Loss for 29 hidden units 0.8 learning rate: 0.02871486631835236 %\n",
            "Loss for 29 hidden units 0.9 learning rate: 0.05260696046213215 %\n",
            "Loss for 30 hidden units 0.1 learning rate: 0.027162392487263286 %\n",
            "Loss for 30 hidden units 0.2 learning rate: 0.020644729226119252 %\n",
            "Loss for 30 hidden units 0.30000000000000004 learning rate: 0.02229244193023392 %\n",
            "Loss for 30 hidden units 0.4 learning rate: 0.02856536432339849 %\n",
            "Loss for 30 hidden units 0.5 learning rate: 0.029822844051387375 %\n",
            "Loss for 30 hidden units 0.6000000000000001 learning rate: 0.03766039142421075 %\n",
            "Loss for 30 hidden units 0.7000000000000001 learning rate: 0.02046985101479914 %\n",
            "Loss for 30 hidden units 0.8 learning rate: 0.037861420378592234 %\n",
            "Loss for 30 hidden units 0.9 learning rate: 0.043874539920170104 %\n",
            "Loss for 31 hidden units 0.1 learning rate: 0.02858734517379685 %\n",
            "Loss for 31 hidden units 0.2 learning rate: 0.02207137628013541 %\n",
            "Loss for 31 hidden units 0.30000000000000004 learning rate: 0.030083766741054074 %\n",
            "Loss for 31 hidden units 0.4 learning rate: 0.024016891717425572 %\n",
            "Loss for 31 hidden units 0.5 learning rate: 0.026189348362598463 %\n",
            "Loss for 31 hidden units 0.6000000000000001 learning rate: 1.1634987513243031 %\n",
            "Loss for 31 hidden units 0.7000000000000001 learning rate: 0.017949069442827325 %\n",
            "Loss for 31 hidden units 0.8 learning rate: 0.04881366553438501 %\n",
            "Loss for 31 hidden units 0.9 learning rate: 0.04036042100578308 %\n",
            "Loss for 32 hidden units 0.1 learning rate: 0.03207269793996083 %\n",
            "Loss for 32 hidden units 0.2 learning rate: 0.024985149803184666 %\n",
            "Loss for 32 hidden units 0.30000000000000004 learning rate: 0.04041660654769804 %\n",
            "Loss for 32 hidden units 0.4 learning rate: 0.022238970762284593 %\n",
            "Loss for 32 hidden units 0.5 learning rate: 0.02010763260320866 %\n",
            "Loss for 32 hidden units 0.6000000000000001 learning rate: 1.163790703726628 %\n",
            "Loss for 32 hidden units 0.7000000000000001 learning rate: 0.016828776762951785 %\n",
            "Loss for 32 hidden units 0.8 learning rate: 0.05751205651615686 %\n",
            "Loss for 32 hidden units 0.9 learning rate: 0.03515277585337451 %\n",
            "Loss for 33 hidden units 0.1 learning rate: 0.03696778096073994 %\n",
            "Loss for 33 hidden units 0.2 learning rate: 0.03217512167168966 %\n",
            "Loss for 33 hidden units 0.30000000000000004 learning rate: 0.03761629325106026 %\n",
            "Loss for 33 hidden units 0.4 learning rate: 0.02544234348018198 %\n",
            "Loss for 33 hidden units 0.5 learning rate: 0.016064252569915092 %\n",
            "Loss for 33 hidden units 0.6000000000000001 learning rate: 1.1638836712377094 %\n",
            "Loss for 33 hidden units 0.7000000000000001 learning rate: 0.01582702140122677 %\n",
            "Loss for 33 hidden units 0.8 learning rate: 0.06497943946137791 %\n",
            "Loss for 33 hidden units 0.9 learning rate: 0.02723533588460981 %\n",
            "Loss for 34 hidden units 0.1 learning rate: 0.032066357054107604 %\n",
            "Loss for 34 hidden units 0.2 learning rate: 0.023878612017620864 %\n",
            "Loss for 34 hidden units 0.30000000000000004 learning rate: 0.027900272773322403 %\n",
            "Loss for 34 hidden units 0.4 learning rate: 0.047755609660019016 %\n",
            "Loss for 34 hidden units 0.5 learning rate: 0.015616073633121995 %\n",
            "Loss for 34 hidden units 0.6000000000000001 learning rate: 1.1639647550049936 %\n",
            "Loss for 34 hidden units 0.7000000000000001 learning rate: 0.01583726829116733 %\n",
            "Loss for 34 hidden units 0.8 learning rate: 0.0622564851241246 %\n",
            "Loss for 34 hidden units 0.9 learning rate: 0.022809637163876496 %\n",
            "Loss for 35 hidden units 0.1 learning rate: 0.02957388439621207 %\n",
            "Loss for 35 hidden units 0.2 learning rate: 0.02249040947475153 %\n",
            "Loss for 35 hidden units 0.30000000000000004 learning rate: 0.03034095828655507 %\n",
            "Loss for 35 hidden units 0.4 learning rate: 0.06795731806912615 %\n",
            "Loss for 35 hidden units 0.5 learning rate: 0.13482423607223826 %\n",
            "Loss for 35 hidden units 0.6000000000000001 learning rate: 1.1639284853747585 %\n",
            "Loss for 35 hidden units 0.7000000000000001 learning rate: 0.01934929476385665 %\n",
            "Loss for 35 hidden units 0.8 learning rate: 0.06850105843448358 %\n",
            "Loss for 35 hidden units 0.9 learning rate: 0.029341371894268248 %\n",
            "Loss for 36 hidden units 0.1 learning rate: 0.0292755078085322 %\n",
            "Loss for 36 hidden units 0.2 learning rate: 0.023245691742481714 %\n",
            "Loss for 36 hidden units 0.30000000000000004 learning rate: 0.04773489049483098 %\n",
            "Loss for 36 hidden units 0.4 learning rate: 0.0725994457328103 %\n",
            "Loss for 36 hidden units 0.5 learning rate: 0.13355151088904935 %\n",
            "Loss for 36 hidden units 0.6000000000000001 learning rate: 1.1638920199231109 %\n",
            "Loss for 36 hidden units 0.7000000000000001 learning rate: 0.017817772207458903 %\n",
            "Loss for 36 hidden units 0.8 learning rate: 0.06762440981247864 %\n",
            "Loss for 36 hidden units 0.9 learning rate: 0.023552133021770054 %\n",
            "Loss for 37 hidden units 0.1 learning rate: 0.0292744106404448 %\n",
            "Loss for 37 hidden units 0.2 learning rate: 0.023593336765696672 %\n",
            "Loss for 37 hidden units 0.30000000000000004 learning rate: 0.036591005424349454 %\n",
            "Loss for 37 hidden units 0.4 learning rate: 0.0708395454009114 %\n",
            "Loss for 37 hidden units 0.5 learning rate: 0.13245898742946793 %\n",
            "Loss for 37 hidden units 0.6000000000000001 learning rate: 1.16379066617258 %\n",
            "Loss for 37 hidden units 0.7000000000000001 learning rate: 0.024242072699772153 %\n",
            "Loss for 37 hidden units 0.8 learning rate: 0.06578662455488585 %\n",
            "Loss for 37 hidden units 0.9 learning rate: 0.01921665829006485 %\n",
            "Loss for 38 hidden units 0.1 learning rate: 0.03007893835345366 %\n",
            "Loss for 38 hidden units 0.2 learning rate: 0.025008111320963342 %\n",
            "Loss for 38 hidden units 0.30000000000000004 learning rate: 0.03681349687597718 %\n",
            "Loss for 38 hidden units 0.4 learning rate: 0.0634080028128731 %\n",
            "Loss for 38 hidden units 0.5 learning rate: 0.027961728212837825 %\n",
            "Loss for 38 hidden units 0.6000000000000001 learning rate: 1.1634758773169898 %\n",
            "Loss for 38 hidden units 0.7000000000000001 learning rate: 0.04150739996340525 %\n",
            "Loss for 38 hidden units 0.8 learning rate: 0.04994315672209061 %\n",
            "Loss for 38 hidden units 0.9 learning rate: 0.25234175286825355 %\n",
            "Loss for 39 hidden units 0.1 learning rate: 0.029841618575826546 %\n",
            "Loss for 39 hidden units 0.2 learning rate: 0.025074553022134245 %\n",
            "Loss for 39 hidden units 0.30000000000000004 learning rate: 0.061580744843586485 %\n",
            "Loss for 39 hidden units 0.4 learning rate: 0.06608141761600707 %\n",
            "Loss for 39 hidden units 0.5 learning rate: 0.02977191363013808 %\n",
            "Loss for 39 hidden units 0.6000000000000001 learning rate: 1.1634211639467107 %\n",
            "Loss for 39 hidden units 0.7000000000000001 learning rate: 0.043375291097886313 %\n",
            "Loss for 39 hidden units 0.8 learning rate: 0.049439564835823194 %\n",
            "Loss for 39 hidden units 0.9 learning rate: 0.07004306778576412 %\n",
            "Loss for 40 hidden units 0.1 learning rate: 0.028064962964822502 %\n",
            "Loss for 40 hidden units 0.2 learning rate: 0.02249865548665636 %\n",
            "Loss for 40 hidden units 0.30000000000000004 learning rate: 0.06643423031699522 %\n",
            "Loss for 40 hidden units 0.4 learning rate: 0.044492145527509123 %\n",
            "Loss for 40 hidden units 0.5 learning rate: 0.02784195174755426 %\n",
            "Loss for 40 hidden units 0.6000000000000001 learning rate: 1.163267643432306 %\n",
            "Loss for 40 hidden units 0.7000000000000001 learning rate: 0.053908212200538624 %\n",
            "Loss for 40 hidden units 0.8 learning rate: 0.04299634851777085 %\n",
            "Loss for 40 hidden units 0.9 learning rate: 0.055536002042678376 %\n",
            "Loss for 41 hidden units 0.1 learning rate: 0.030834457974400254 %\n",
            "Loss for 41 hidden units 0.2 learning rate: 0.0309902645237595 %\n",
            "Loss for 41 hidden units 0.30000000000000004 learning rate: 0.07479078864332867 %\n",
            "Loss for 41 hidden units 0.4 learning rate: 0.04370317097485794 %\n",
            "Loss for 41 hidden units 0.5 learning rate: 1.1177085741628447 %\n",
            "Loss for 41 hidden units 0.6000000000000001 learning rate: 1.1626379335126442 %\n",
            "Loss for 41 hidden units 0.7000000000000001 learning rate: 0.06210772638845385 %\n",
            "Loss for 41 hidden units 0.8 learning rate: 0.03616003877013005 %\n",
            "Loss for 41 hidden units 0.9 learning rate: 1.4140325803977376 %\n",
            "Loss for 42 hidden units 0.1 learning rate: 0.028749673633632452 %\n",
            "Loss for 42 hidden units 0.2 learning rate: 0.022663558640355262 %\n",
            "Loss for 42 hidden units 0.30000000000000004 learning rate: 0.05805245986322395 %\n",
            "Loss for 42 hidden units 0.4 learning rate: 0.02055073686289543 %\n",
            "Loss for 42 hidden units 0.5 learning rate: 1.1178552129228334 %\n",
            "Loss for 42 hidden units 0.6000000000000001 learning rate: 0.03461502430591318 %\n",
            "Loss for 42 hidden units 0.7000000000000001 learning rate: 0.06959811556695249 %\n",
            "Loss for 42 hidden units 0.8 learning rate: 0.022612102884036853 %\n",
            "Loss for 42 hidden units 0.9 learning rate: 1.4361479906505332 %\n",
            "Loss for 43 hidden units 0.1 learning rate: 0.02903066849239988 %\n",
            "Loss for 43 hidden units 0.2 learning rate: 0.024917910291117455 %\n",
            "Loss for 43 hidden units 0.30000000000000004 learning rate: 0.035140219125067776 %\n",
            "Loss for 43 hidden units 0.4 learning rate: 0.021505349048517152 %\n",
            "Loss for 43 hidden units 0.5 learning rate: 1.1179072721911805 %\n",
            "Loss for 43 hidden units 0.6000000000000001 learning rate: 0.019269867181438763 %\n",
            "Loss for 43 hidden units 0.7000000000000001 learning rate: 0.07361238214031075 %\n",
            "Loss for 43 hidden units 0.8 learning rate: 0.021447829972429035 %\n",
            "Loss for 43 hidden units 0.9 learning rate: 1.4363966749526034 %\n",
            "Loss for 44 hidden units 0.1 learning rate: 0.027229021711276707 %\n",
            "Loss for 44 hidden units 0.2 learning rate: 0.02168847140907508 %\n",
            "Loss for 44 hidden units 0.30000000000000004 learning rate: 0.028230910048663613 %\n",
            "Loss for 44 hidden units 0.4 learning rate: 0.01724001097547608 %\n",
            "Loss for 44 hidden units 0.5 learning rate: 1.1179127441158263 %\n",
            "Loss for 44 hidden units 0.6000000000000001 learning rate: 0.016431723071272348 %\n",
            "Loss for 44 hidden units 0.7000000000000001 learning rate: 0.07910552781497965 %\n",
            "Loss for 44 hidden units 0.8 learning rate: 0.023459579517854042 %\n",
            "Loss for 44 hidden units 0.9 learning rate: 1.4364700330775058 %\n",
            "Loss for 45 hidden units 0.1 learning rate: 0.02982007722930236 %\n",
            "Loss for 45 hidden units 0.2 learning rate: 0.02589352957757082 %\n",
            "Loss for 45 hidden units 0.30000000000000004 learning rate: 0.023012519518536317 %\n",
            "Loss for 45 hidden units 0.4 learning rate: 0.017508602094585008 %\n",
            "Loss for 45 hidden units 0.5 learning rate: 1.117904194817837 %\n",
            "Loss for 45 hidden units 0.6000000000000001 learning rate: 0.01676464158912946 %\n",
            "Loss for 45 hidden units 0.7000000000000001 learning rate: 0.07855746287257925 %\n",
            "Loss for 45 hidden units 0.8 learning rate: 0.02870555713054342 %\n",
            "Loss for 45 hidden units 0.9 learning rate: 1.4364811663062362 %\n",
            "Loss for 46 hidden units 0.1 learning rate: 0.039626743706835506 %\n",
            "Loss for 46 hidden units 0.2 learning rate: 0.028073101824442982 %\n",
            "Loss for 46 hidden units 0.30000000000000004 learning rate: 0.02016103932607537 %\n",
            "Loss for 46 hidden units 0.4 learning rate: 0.01595985433232717 %\n",
            "Loss for 46 hidden units 0.5 learning rate: 1.1177715381110263 %\n",
            "Loss for 46 hidden units 0.6000000000000001 learning rate: 0.017363847706419473 %\n",
            "Loss for 46 hidden units 0.7000000000000001 learning rate: 0.07826459540343483 %\n",
            "Loss for 46 hidden units 0.8 learning rate: 0.02075006641181042 %\n",
            "Loss for 46 hidden units 0.9 learning rate: 1.4364898250180334 %\n",
            "Loss for 47 hidden units 0.1 learning rate: 0.027389833191924434 %\n",
            "Loss for 47 hidden units 0.2 learning rate: 0.022921472553004897 %\n",
            "Loss for 47 hidden units 0.30000000000000004 learning rate: 0.030194209941886707 %\n",
            "Loss for 47 hidden units 0.4 learning rate: 0.018528576936650446 %\n",
            "Loss for 47 hidden units 0.5 learning rate: 1.1175389239467388 %\n",
            "Loss for 47 hidden units 0.6000000000000001 learning rate: 0.01805879740611611 %\n",
            "Loss for 47 hidden units 0.7000000000000001 learning rate: 0.07292478405968764 %\n",
            "Loss for 47 hidden units 0.8 learning rate: 0.02836442741158357 %\n",
            "Loss for 47 hidden units 0.9 learning rate: 1.4364914412967116 %\n",
            "Loss for 48 hidden units 0.1 learning rate: 0.027615213065612522 %\n",
            "Loss for 48 hidden units 0.2 learning rate: 0.02728192946477577 %\n",
            "Loss for 48 hidden units 0.30000000000000004 learning rate: 0.035534624341632785 %\n",
            "Loss for 48 hidden units 0.4 learning rate: 0.0776296250154261 %\n",
            "Loss for 48 hidden units 0.5 learning rate: 1.11729984052656 %\n",
            "Loss for 48 hidden units 0.6000000000000001 learning rate: 0.02388477151794946 %\n",
            "Loss for 48 hidden units 0.7000000000000001 learning rate: 0.06882712862697937 %\n",
            "Loss for 48 hidden units 0.8 learning rate: 0.22271321715483888 %\n",
            "Loss for 48 hidden units 0.9 learning rate: 1.4364916911808234 %\n",
            "Loss for 49 hidden units 0.1 learning rate: 0.02829857717766109 %\n",
            "Loss for 49 hidden units 0.2 learning rate: 0.03603201609411466 %\n",
            "Loss for 49 hidden units 0.30000000000000004 learning rate: 0.07564207161021065 %\n",
            "Loss for 49 hidden units 0.4 learning rate: 0.42807471587496027 %\n",
            "Loss for 49 hidden units 0.5 learning rate: 1.1170171509160864 %\n",
            "Loss for 49 hidden units 0.6000000000000001 learning rate: 0.04889062170516637 %\n",
            "Loss for 49 hidden units 0.7000000000000001 learning rate: 0.05150572041423335 %\n",
            "Loss for 49 hidden units 0.8 learning rate: 1.3252322430751273 %\n",
            "Loss for 49 hidden units 0.9 learning rate: 1.436491796111337 %\n"
          ]
        }
      ]
    },
    {
      "cell_type": "code",
      "metadata": {
        "colab": {
          "base_uri": "https://localhost:8080/"
        },
        "id": "NAUUKWgLc-WC",
        "outputId": "9a7adaf0-1ca4-489c-c9ca-12b04d7c7987"
      },
      "source": [
        "#best_result2"
      ],
      "execution_count": null,
      "outputs": [
        {
          "output_type": "execute_result",
          "data": {
            "text/plain": [
              "['Loss for 34 hidden units 0.5 learning rate: 0.015616073633121995 %']"
            ]
          },
          "metadata": {},
          "execution_count": 40
        }
      ]
    },
    {
      "cell_type": "code",
      "metadata": {
        "id": "X6ir7W_Hwlro"
      },
      "source": [
        "#From tuning of parameters got number of hidden layers as 6, learning rate as 0.2\n",
        "parameters2 = nn_model(dataset_training2_arr[:,0], dataset_training2_arr[:,1], 34, 100,0.5) "
      ],
      "execution_count": null,
      "outputs": []
    },
    {
      "cell_type": "code",
      "metadata": {
        "colab": {
          "base_uri": "https://localhost:8080/"
        },
        "id": "UB-sXRaeXP_h",
        "outputId": "332187f0-2ae9-4659-d46d-ccf09c6b6b08"
      },
      "source": [
        "#Q1(d)Training loss for Dataset2\n",
        "length = dataset_training2_arr.shape[0]\n",
        "output_prediction_train2 = np.zeros(length)\n",
        "for i in range(length):\n",
        "    output_prediction_train2[i] = predict(parameters2,dataset_training2_arr[i,0])\n",
        "mean_squared_error(dataset_training2_arr[:,1],output_prediction_train2)"
      ],
      "execution_count": null,
      "outputs": [
        {
          "output_type": "execute_result",
          "data": {
            "text/plain": [
              "0.015616073633121995"
            ]
          },
          "metadata": {},
          "execution_count": 42
        }
      ]
    },
    {
      "cell_type": "code",
      "metadata": {
        "id": "04xMVOd7xIhP"
      },
      "source": [
        "length = dataset_testing2_arr.shape[0]\n",
        "output_prediction_arr2 = np.zeros(length)\n",
        "#plot_decision_boundary(lambda x: predict(parameters, x.T), X, Y) \n",
        "for i in range(length):\n",
        "    output_prediction_arr2[i] = predict(parameters2,dataset_testing2_arr[i,0])"
      ],
      "execution_count": null,
      "outputs": []
    },
    {
      "cell_type": "code",
      "metadata": {
        "colab": {
          "base_uri": "https://localhost:8080/"
        },
        "id": "QaScd-Il3JOv",
        "outputId": "d459f33e-1b73-4372-9a2d-7c6b9f29a07f"
      },
      "source": [
        "#Q1(d) Test loss for dataset2\n",
        "mean_squared_error(dataset_testing2_arr[:,1],output_prediction_arr2)"
      ],
      "execution_count": null,
      "outputs": [
        {
          "output_type": "execute_result",
          "data": {
            "text/plain": [
              "0.0007775946848879148"
            ]
          },
          "metadata": {},
          "execution_count": 44
        }
      ]
    },
    {
      "cell_type": "code",
      "metadata": {
        "id": "T1-gJZsKNQ7x",
        "colab": {
          "base_uri": "https://localhost:8080/",
          "height": 279
        },
        "outputId": "288127af-0064-49db-9a6d-39302a67fed9"
      },
      "source": [
        "  #Q1(C)plotting regression curve\n",
        "# plotting the actual points as scatter plot\n",
        "plt.scatter(dataset_testing2_arr[:,0], dataset_testing2_arr[:,1],marker = \"o\", s = 30)\n",
        "# plotting the regression line\n",
        "plt.scatter(dataset_testing2_arr[:,0], output_prediction_arr2)\n",
        "# putting labels\n",
        "plt.xlabel('x')\n",
        "plt.ylabel('y: actual output')\n",
        "plt.legend(['test_data','predicted_output'])\n",
        "# function to show plot\n",
        "plt.show()"
      ],
      "execution_count": null,
      "outputs": [
        {
          "output_type": "display_data",
          "data": {
            "image/png": "[encoded data removed]",
            "text/plain": [
              "<Figure size 432x288 with 1 Axes>"
            ]
          },
          "metadata": {
            "needs_background": "light"
          }
        }
      ]
    }
  ]
}